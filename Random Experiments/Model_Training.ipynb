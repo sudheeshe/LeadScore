{
 "cells": [
  {
   "cell_type": "markdown",
   "id": "459c61d4",
   "metadata": {},
   "source": [
    "# Importing Libraries"
   ]
  },
  {
   "cell_type": "code",
   "execution_count": 135,
   "id": "5339d710",
   "metadata": {},
   "outputs": [],
   "source": [
    "import pandas as pd\n",
    "import numpy as np\n",
    "import datetime\n",
    "from copy import copy\n",
    "\n",
    "from kneed import KneeLocator\n",
    "import plotly.express as px\n",
    "import pickle as pkl\n",
    "import seaborn as sns\n",
    "import matplotlib.pyplot as plt\n",
    "\n",
    "\n",
    "from sklearn.pipeline import Pipeline,make_pipeline\n",
    "from sklearn.cluster import KMeans\n",
    "from sklearn.impute import KNNImputer\n",
    "from sklearn.compose import ColumnTransformer\n",
    "from sklearn.preprocessing import OneHotEncoder, OrdinalEncoder, LabelEncoder, PowerTransformer\n",
    "\n",
    "from sklearn.metrics import precision_score, recall_score, confusion_matrix, accuracy_score, f1_score\n",
    "from sklearn.model_selection import train_test_split\n",
    "\n",
    "from sklearn.metrics import plot_precision_recall_curve"
   ]
  },
  {
   "cell_type": "markdown",
   "id": "ad59a14c",
   "metadata": {},
   "source": [
    "# Reading the Data"
   ]
  },
  {
   "cell_type": "code",
   "execution_count": 136,
   "id": "4cbcffc3",
   "metadata": {},
   "outputs": [
    {
     "data": {
      "text/html": [
       "<div>\n",
       "<style scoped>\n",
       "    .dataframe tbody tr th:only-of-type {\n",
       "        vertical-align: middle;\n",
       "    }\n",
       "\n",
       "    .dataframe tbody tr th {\n",
       "        vertical-align: top;\n",
       "    }\n",
       "\n",
       "    .dataframe thead th {\n",
       "        text-align: right;\n",
       "    }\n",
       "</style>\n",
       "<table border=\"1\" class=\"dataframe\">\n",
       "  <thead>\n",
       "    <tr style=\"text-align: right;\">\n",
       "      <th></th>\n",
       "      <th>0</th>\n",
       "      <th>1</th>\n",
       "      <th>2</th>\n",
       "      <th>3</th>\n",
       "      <th>4</th>\n",
       "    </tr>\n",
       "  </thead>\n",
       "  <tbody>\n",
       "    <tr>\n",
       "      <th>age</th>\n",
       "      <td>56</td>\n",
       "      <td>57</td>\n",
       "      <td>37</td>\n",
       "      <td>40</td>\n",
       "      <td>56</td>\n",
       "    </tr>\n",
       "    <tr>\n",
       "      <th>job</th>\n",
       "      <td>housemaid</td>\n",
       "      <td>services</td>\n",
       "      <td>services</td>\n",
       "      <td>admin.</td>\n",
       "      <td>services</td>\n",
       "    </tr>\n",
       "    <tr>\n",
       "      <th>marital</th>\n",
       "      <td>married</td>\n",
       "      <td>married</td>\n",
       "      <td>married</td>\n",
       "      <td>married</td>\n",
       "      <td>married</td>\n",
       "    </tr>\n",
       "    <tr>\n",
       "      <th>education</th>\n",
       "      <td>basic.4y</td>\n",
       "      <td>high.school</td>\n",
       "      <td>high.school</td>\n",
       "      <td>basic.6y</td>\n",
       "      <td>high.school</td>\n",
       "    </tr>\n",
       "    <tr>\n",
       "      <th>default</th>\n",
       "      <td>no</td>\n",
       "      <td>unknown</td>\n",
       "      <td>no</td>\n",
       "      <td>no</td>\n",
       "      <td>no</td>\n",
       "    </tr>\n",
       "    <tr>\n",
       "      <th>housing</th>\n",
       "      <td>no</td>\n",
       "      <td>no</td>\n",
       "      <td>yes</td>\n",
       "      <td>no</td>\n",
       "      <td>no</td>\n",
       "    </tr>\n",
       "    <tr>\n",
       "      <th>loan</th>\n",
       "      <td>no</td>\n",
       "      <td>no</td>\n",
       "      <td>no</td>\n",
       "      <td>no</td>\n",
       "      <td>yes</td>\n",
       "    </tr>\n",
       "    <tr>\n",
       "      <th>contact</th>\n",
       "      <td>telephone</td>\n",
       "      <td>telephone</td>\n",
       "      <td>telephone</td>\n",
       "      <td>telephone</td>\n",
       "      <td>telephone</td>\n",
       "    </tr>\n",
       "    <tr>\n",
       "      <th>month</th>\n",
       "      <td>may</td>\n",
       "      <td>may</td>\n",
       "      <td>may</td>\n",
       "      <td>may</td>\n",
       "      <td>may</td>\n",
       "    </tr>\n",
       "    <tr>\n",
       "      <th>day_of_week</th>\n",
       "      <td>mon</td>\n",
       "      <td>mon</td>\n",
       "      <td>mon</td>\n",
       "      <td>mon</td>\n",
       "      <td>mon</td>\n",
       "    </tr>\n",
       "    <tr>\n",
       "      <th>duration</th>\n",
       "      <td>261</td>\n",
       "      <td>149</td>\n",
       "      <td>226</td>\n",
       "      <td>151</td>\n",
       "      <td>307</td>\n",
       "    </tr>\n",
       "    <tr>\n",
       "      <th>campaign</th>\n",
       "      <td>1</td>\n",
       "      <td>1</td>\n",
       "      <td>1</td>\n",
       "      <td>1</td>\n",
       "      <td>1</td>\n",
       "    </tr>\n",
       "    <tr>\n",
       "      <th>pdays</th>\n",
       "      <td>999</td>\n",
       "      <td>999</td>\n",
       "      <td>999</td>\n",
       "      <td>999</td>\n",
       "      <td>999</td>\n",
       "    </tr>\n",
       "    <tr>\n",
       "      <th>previous</th>\n",
       "      <td>0</td>\n",
       "      <td>0</td>\n",
       "      <td>0</td>\n",
       "      <td>0</td>\n",
       "      <td>0</td>\n",
       "    </tr>\n",
       "    <tr>\n",
       "      <th>poutcome</th>\n",
       "      <td>nonexistent</td>\n",
       "      <td>nonexistent</td>\n",
       "      <td>nonexistent</td>\n",
       "      <td>nonexistent</td>\n",
       "      <td>nonexistent</td>\n",
       "    </tr>\n",
       "    <tr>\n",
       "      <th>emp.var.rate</th>\n",
       "      <td>1.1</td>\n",
       "      <td>1.1</td>\n",
       "      <td>1.1</td>\n",
       "      <td>1.1</td>\n",
       "      <td>1.1</td>\n",
       "    </tr>\n",
       "    <tr>\n",
       "      <th>cons.price.idx</th>\n",
       "      <td>93.994</td>\n",
       "      <td>93.994</td>\n",
       "      <td>93.994</td>\n",
       "      <td>93.994</td>\n",
       "      <td>93.994</td>\n",
       "    </tr>\n",
       "    <tr>\n",
       "      <th>cons.conf.idx</th>\n",
       "      <td>-36.4</td>\n",
       "      <td>-36.4</td>\n",
       "      <td>-36.4</td>\n",
       "      <td>-36.4</td>\n",
       "      <td>-36.4</td>\n",
       "    </tr>\n",
       "    <tr>\n",
       "      <th>euribor3m</th>\n",
       "      <td>4.857</td>\n",
       "      <td>4.857</td>\n",
       "      <td>4.857</td>\n",
       "      <td>4.857</td>\n",
       "      <td>4.857</td>\n",
       "    </tr>\n",
       "    <tr>\n",
       "      <th>nr.employed</th>\n",
       "      <td>5191.0</td>\n",
       "      <td>5191.0</td>\n",
       "      <td>5191.0</td>\n",
       "      <td>5191.0</td>\n",
       "      <td>5191.0</td>\n",
       "    </tr>\n",
       "    <tr>\n",
       "      <th>y</th>\n",
       "      <td>no</td>\n",
       "      <td>no</td>\n",
       "      <td>no</td>\n",
       "      <td>no</td>\n",
       "      <td>no</td>\n",
       "    </tr>\n",
       "  </tbody>\n",
       "</table>\n",
       "</div>"
      ],
      "text/plain": [
       "                          0            1            2            3  \\\n",
       "age                      56           57           37           40   \n",
       "job               housemaid     services     services       admin.   \n",
       "marital             married      married      married      married   \n",
       "education          basic.4y  high.school  high.school     basic.6y   \n",
       "default                  no      unknown           no           no   \n",
       "housing                  no           no          yes           no   \n",
       "loan                     no           no           no           no   \n",
       "contact           telephone    telephone    telephone    telephone   \n",
       "month                   may          may          may          may   \n",
       "day_of_week             mon          mon          mon          mon   \n",
       "duration                261          149          226          151   \n",
       "campaign                  1            1            1            1   \n",
       "pdays                   999          999          999          999   \n",
       "previous                  0            0            0            0   \n",
       "poutcome        nonexistent  nonexistent  nonexistent  nonexistent   \n",
       "emp.var.rate            1.1          1.1          1.1          1.1   \n",
       "cons.price.idx       93.994       93.994       93.994       93.994   \n",
       "cons.conf.idx         -36.4        -36.4        -36.4        -36.4   \n",
       "euribor3m             4.857        4.857        4.857        4.857   \n",
       "nr.employed          5191.0       5191.0       5191.0       5191.0   \n",
       "y                        no           no           no           no   \n",
       "\n",
       "                          4  \n",
       "age                      56  \n",
       "job                services  \n",
       "marital             married  \n",
       "education       high.school  \n",
       "default                  no  \n",
       "housing                  no  \n",
       "loan                    yes  \n",
       "contact           telephone  \n",
       "month                   may  \n",
       "day_of_week             mon  \n",
       "duration                307  \n",
       "campaign                  1  \n",
       "pdays                   999  \n",
       "previous                  0  \n",
       "poutcome        nonexistent  \n",
       "emp.var.rate            1.1  \n",
       "cons.price.idx       93.994  \n",
       "cons.conf.idx         -36.4  \n",
       "euribor3m             4.857  \n",
       "nr.employed          5191.0  \n",
       "y                        no  "
      ]
     },
     "execution_count": 136,
     "metadata": {},
     "output_type": "execute_result"
    }
   ],
   "source": [
    "filename = 'D:/Ineuron/Project_workshop/Lead_Scoring_/Data/raw_data.csv'\n",
    "data = pd.read_csv(filename, sep=';')\n",
    "\n",
    "data.head().T"
   ]
  },
  {
   "cell_type": "code",
   "execution_count": 137,
   "id": "e1a5b971",
   "metadata": {},
   "outputs": [],
   "source": [
    "a,b = train_test_split(data, test_size=0.25, stratify= data['y'])"
   ]
  },
  {
   "cell_type": "code",
   "execution_count": 138,
   "id": "b716b22b",
   "metadata": {},
   "outputs": [
    {
     "data": {
      "text/plain": [
       "no     9137\n",
       "yes    1160\n",
       "Name: y, dtype: int64"
      ]
     },
     "execution_count": 138,
     "metadata": {},
     "output_type": "execute_result"
    }
   ],
   "source": [
    "b['y'].value_counts()"
   ]
  },
  {
   "cell_type": "code",
   "execution_count": 139,
   "id": "1535aa78",
   "metadata": {},
   "outputs": [
    {
     "name": "stdout",
     "output_type": "stream",
     "text": [
      "<class 'pandas.core.frame.DataFrame'>\n",
      "RangeIndex: 41188 entries, 0 to 41187\n",
      "Data columns (total 21 columns):\n",
      " #   Column          Non-Null Count  Dtype  \n",
      "---  ------          --------------  -----  \n",
      " 0   age             41188 non-null  int64  \n",
      " 1   job             41188 non-null  object \n",
      " 2   marital         41188 non-null  object \n",
      " 3   education       41188 non-null  object \n",
      " 4   default         41188 non-null  object \n",
      " 5   housing         41188 non-null  object \n",
      " 6   loan            41188 non-null  object \n",
      " 7   contact         41188 non-null  object \n",
      " 8   month           41188 non-null  object \n",
      " 9   day_of_week     41188 non-null  object \n",
      " 10  duration        41188 non-null  int64  \n",
      " 11  campaign        41188 non-null  int64  \n",
      " 12  pdays           41188 non-null  int64  \n",
      " 13  previous        41188 non-null  int64  \n",
      " 14  poutcome        41188 non-null  object \n",
      " 15  emp.var.rate    41188 non-null  float64\n",
      " 16  cons.price.idx  41188 non-null  float64\n",
      " 17  cons.conf.idx   41188 non-null  float64\n",
      " 18  euribor3m       41188 non-null  float64\n",
      " 19  nr.employed     41188 non-null  float64\n",
      " 20  y               41188 non-null  object \n",
      "dtypes: float64(5), int64(5), object(11)\n",
      "memory usage: 6.6+ MB\n"
     ]
    }
   ],
   "source": [
    "data.info()"
   ]
  },
  {
   "cell_type": "code",
   "execution_count": 140,
   "id": "2fa97707",
   "metadata": {},
   "outputs": [
    {
     "data": {
      "text/plain": [
       "12"
      ]
     },
     "execution_count": 140,
     "metadata": {},
     "output_type": "execute_result"
    }
   ],
   "source": [
    "data.duplicated().sum()"
   ]
  },
  {
   "cell_type": "markdown",
   "id": "471f92f1",
   "metadata": {},
   "source": [
    "# Feature Engineering"
   ]
  },
  {
   "cell_type": "markdown",
   "id": "d8ca4fdf",
   "metadata": {},
   "source": [
    "### Droping unnecesary columns and duplicate rows"
   ]
  },
  {
   "cell_type": "markdown",
   "id": "7ebf8cc4",
   "metadata": {},
   "source": [
    "> As per the EDA we can drop `default`, `duration` and `pdays` columns"
   ]
  },
  {
   "cell_type": "code",
   "execution_count": 141,
   "id": "ba14570e",
   "metadata": {},
   "outputs": [
    {
     "data": {
      "text/html": [
       "<div>\n",
       "<style scoped>\n",
       "    .dataframe tbody tr th:only-of-type {\n",
       "        vertical-align: middle;\n",
       "    }\n",
       "\n",
       "    .dataframe tbody tr th {\n",
       "        vertical-align: top;\n",
       "    }\n",
       "\n",
       "    .dataframe thead th {\n",
       "        text-align: right;\n",
       "    }\n",
       "</style>\n",
       "<table border=\"1\" class=\"dataframe\">\n",
       "  <thead>\n",
       "    <tr style=\"text-align: right;\">\n",
       "      <th></th>\n",
       "      <th>age</th>\n",
       "      <th>job</th>\n",
       "      <th>marital</th>\n",
       "      <th>education</th>\n",
       "      <th>housing</th>\n",
       "      <th>loan</th>\n",
       "      <th>contact</th>\n",
       "      <th>month</th>\n",
       "      <th>day_of_week</th>\n",
       "      <th>campaign</th>\n",
       "      <th>previous</th>\n",
       "      <th>poutcome</th>\n",
       "      <th>emp.var.rate</th>\n",
       "      <th>cons.price.idx</th>\n",
       "      <th>cons.conf.idx</th>\n",
       "      <th>euribor3m</th>\n",
       "      <th>nr.employed</th>\n",
       "      <th>y</th>\n",
       "    </tr>\n",
       "  </thead>\n",
       "  <tbody>\n",
       "    <tr>\n",
       "      <th>0</th>\n",
       "      <td>56</td>\n",
       "      <td>housemaid</td>\n",
       "      <td>married</td>\n",
       "      <td>basic.4y</td>\n",
       "      <td>no</td>\n",
       "      <td>no</td>\n",
       "      <td>telephone</td>\n",
       "      <td>may</td>\n",
       "      <td>mon</td>\n",
       "      <td>1</td>\n",
       "      <td>0</td>\n",
       "      <td>nonexistent</td>\n",
       "      <td>1.1</td>\n",
       "      <td>93.994</td>\n",
       "      <td>-36.4</td>\n",
       "      <td>4.857</td>\n",
       "      <td>5191.0</td>\n",
       "      <td>no</td>\n",
       "    </tr>\n",
       "    <tr>\n",
       "      <th>1</th>\n",
       "      <td>57</td>\n",
       "      <td>services</td>\n",
       "      <td>married</td>\n",
       "      <td>high.school</td>\n",
       "      <td>no</td>\n",
       "      <td>no</td>\n",
       "      <td>telephone</td>\n",
       "      <td>may</td>\n",
       "      <td>mon</td>\n",
       "      <td>1</td>\n",
       "      <td>0</td>\n",
       "      <td>nonexistent</td>\n",
       "      <td>1.1</td>\n",
       "      <td>93.994</td>\n",
       "      <td>-36.4</td>\n",
       "      <td>4.857</td>\n",
       "      <td>5191.0</td>\n",
       "      <td>no</td>\n",
       "    </tr>\n",
       "    <tr>\n",
       "      <th>2</th>\n",
       "      <td>37</td>\n",
       "      <td>services</td>\n",
       "      <td>married</td>\n",
       "      <td>high.school</td>\n",
       "      <td>yes</td>\n",
       "      <td>no</td>\n",
       "      <td>telephone</td>\n",
       "      <td>may</td>\n",
       "      <td>mon</td>\n",
       "      <td>1</td>\n",
       "      <td>0</td>\n",
       "      <td>nonexistent</td>\n",
       "      <td>1.1</td>\n",
       "      <td>93.994</td>\n",
       "      <td>-36.4</td>\n",
       "      <td>4.857</td>\n",
       "      <td>5191.0</td>\n",
       "      <td>no</td>\n",
       "    </tr>\n",
       "    <tr>\n",
       "      <th>3</th>\n",
       "      <td>40</td>\n",
       "      <td>admin.</td>\n",
       "      <td>married</td>\n",
       "      <td>basic.6y</td>\n",
       "      <td>no</td>\n",
       "      <td>no</td>\n",
       "      <td>telephone</td>\n",
       "      <td>may</td>\n",
       "      <td>mon</td>\n",
       "      <td>1</td>\n",
       "      <td>0</td>\n",
       "      <td>nonexistent</td>\n",
       "      <td>1.1</td>\n",
       "      <td>93.994</td>\n",
       "      <td>-36.4</td>\n",
       "      <td>4.857</td>\n",
       "      <td>5191.0</td>\n",
       "      <td>no</td>\n",
       "    </tr>\n",
       "    <tr>\n",
       "      <th>4</th>\n",
       "      <td>56</td>\n",
       "      <td>services</td>\n",
       "      <td>married</td>\n",
       "      <td>high.school</td>\n",
       "      <td>no</td>\n",
       "      <td>yes</td>\n",
       "      <td>telephone</td>\n",
       "      <td>may</td>\n",
       "      <td>mon</td>\n",
       "      <td>1</td>\n",
       "      <td>0</td>\n",
       "      <td>nonexistent</td>\n",
       "      <td>1.1</td>\n",
       "      <td>93.994</td>\n",
       "      <td>-36.4</td>\n",
       "      <td>4.857</td>\n",
       "      <td>5191.0</td>\n",
       "      <td>no</td>\n",
       "    </tr>\n",
       "  </tbody>\n",
       "</table>\n",
       "</div>"
      ],
      "text/plain": [
       "   age        job  marital    education housing loan    contact month  \\\n",
       "0   56  housemaid  married     basic.4y      no   no  telephone   may   \n",
       "1   57   services  married  high.school      no   no  telephone   may   \n",
       "2   37   services  married  high.school     yes   no  telephone   may   \n",
       "3   40     admin.  married     basic.6y      no   no  telephone   may   \n",
       "4   56   services  married  high.school      no  yes  telephone   may   \n",
       "\n",
       "  day_of_week  campaign  previous     poutcome  emp.var.rate  cons.price.idx  \\\n",
       "0         mon         1         0  nonexistent           1.1          93.994   \n",
       "1         mon         1         0  nonexistent           1.1          93.994   \n",
       "2         mon         1         0  nonexistent           1.1          93.994   \n",
       "3         mon         1         0  nonexistent           1.1          93.994   \n",
       "4         mon         1         0  nonexistent           1.1          93.994   \n",
       "\n",
       "   cons.conf.idx  euribor3m  nr.employed   y  \n",
       "0          -36.4      4.857       5191.0  no  \n",
       "1          -36.4      4.857       5191.0  no  \n",
       "2          -36.4      4.857       5191.0  no  \n",
       "3          -36.4      4.857       5191.0  no  \n",
       "4          -36.4      4.857       5191.0  no  "
      ]
     },
     "execution_count": 141,
     "metadata": {},
     "output_type": "execute_result"
    }
   ],
   "source": [
    "data = data.drop(columns=['default','pdays','duration'], axis='columns', )\n",
    "\n",
    "data.head()"
   ]
  },
  {
   "cell_type": "code",
   "execution_count": 142,
   "id": "fcec43ba",
   "metadata": {},
   "outputs": [
    {
     "data": {
      "text/plain": [
       "(41188, 18)"
      ]
     },
     "execution_count": 142,
     "metadata": {},
     "output_type": "execute_result"
    }
   ],
   "source": [
    "#Let's see the shape of data\n",
    "\n",
    "data.shape"
   ]
  },
  {
   "cell_type": "markdown",
   "id": "b4704c16",
   "metadata": {},
   "source": [
    "> Finding the duplicate records"
   ]
  },
  {
   "cell_type": "code",
   "execution_count": 143,
   "id": "53d78489",
   "metadata": {},
   "outputs": [
    {
     "data": {
      "text/plain": [
       "2008"
      ]
     },
     "execution_count": 143,
     "metadata": {},
     "output_type": "execute_result"
    }
   ],
   "source": [
    "data.duplicated().sum()"
   ]
  },
  {
   "cell_type": "code",
   "execution_count": 144,
   "id": "9442994e",
   "metadata": {},
   "outputs": [
    {
     "data": {
      "text/plain": [
       "(39180, 18)"
      ]
     },
     "execution_count": 144,
     "metadata": {},
     "output_type": "execute_result"
    }
   ],
   "source": [
    "## There is total 2008 dupliacte records and I'm dropping them\n",
    "\n",
    "data = data.drop_duplicates(keep='first')\n",
    "\n",
    "data.shape"
   ]
  },
  {
   "cell_type": "markdown",
   "id": "596afbf7",
   "metadata": {},
   "source": [
    "### Encoding Categorical values"
   ]
  },
  {
   "cell_type": "markdown",
   "id": "af9fd1c1",
   "metadata": {},
   "source": [
    "> Creating a function which can rename classes in a column which has 5% or less frequency to a specified class"
   ]
  },
  {
   "cell_type": "code",
   "execution_count": 145,
   "id": "156e2bad",
   "metadata": {},
   "outputs": [],
   "source": [
    "def reduce_class(data, columns, filter_by = 0.05, name_to_replace = 'other'):\n",
    "    \n",
    "    # Creatig a copy of dataframe\n",
    "    temp_data = data\n",
    "    \n",
    "    for col in columns:  \n",
    "        # Finding classes less than 5% of value_counts\n",
    "        filter_ = temp_data[col].value_counts(normalize=True)> filter_by\n",
    "        \n",
    "        #saving the classe names below 5% value_count\n",
    "        categories_to_replace = list(filter_[filter_==False].index)\n",
    "        \n",
    "        #Replcaing those classes with 'name_to_replace'\n",
    "        temp_data[col] = np.where(temp_data[col].isin(categories_to_replace), name_to_replace, temp_data[col])\n",
    "        #temp_data = temp_data[col].replace(categories_to_replace, name_to_replace)\n",
    "        \n",
    "    return temp_data    "
   ]
  },
  {
   "cell_type": "code",
   "execution_count": 146,
   "id": "aba79260",
   "metadata": {},
   "outputs": [],
   "source": [
    "## Applying the function on `data` and saving to `data` itself.\n",
    "\n",
    "data = reduce_class(data, columns=['job', 'education', 'month'], name_to_replace = 'other')"
   ]
  },
  {
   "cell_type": "code",
   "execution_count": 147,
   "id": "dddf406a",
   "metadata": {},
   "outputs": [],
   "source": [
    "## Replcaing 'campaign' column values of 5 or above with class name 'more_than_4'\n",
    "\n",
    "data = reduce_class(data, ['campaign'], name_to_replace='more_than_4')"
   ]
  },
  {
   "cell_type": "code",
   "execution_count": 148,
   "id": "b8c2f27e",
   "metadata": {},
   "outputs": [],
   "source": [
    "## Replcaing 'previous' column values of 2 or above with class name 'more_than_1'\n",
    "\n",
    "data = reduce_class(data, ['previous'], name_to_replace='more_than_1')"
   ]
  },
  {
   "cell_type": "code",
   "execution_count": 149,
   "id": "2468a28f",
   "metadata": {},
   "outputs": [
    {
     "data": {
      "text/plain": [
       "0              33648\n",
       "1               4476\n",
       "more_than_1     1056\n",
       "Name: previous, dtype: int64"
      ]
     },
     "execution_count": 149,
     "metadata": {},
     "output_type": "execute_result"
    }
   ],
   "source": [
    "data['previous'].value_counts()"
   ]
  },
  {
   "cell_type": "markdown",
   "id": "ccd668cc",
   "metadata": {},
   "source": [
    "### Equal_width_binning"
   ]
  },
  {
   "cell_type": "markdown",
   "id": "b55ad56d",
   "metadata": {},
   "source": [
    "- 'emp.var.rate' is actually a continous value in real world case, \n",
    "- even though in this data set it reflects as a categorical variable.\n",
    "- 'emp.var.rate' 10 categories in this dataset"
   ]
  },
  {
   "cell_type": "code",
   "execution_count": 150,
   "id": "df4b6ca0",
   "metadata": {},
   "outputs": [
    {
     "data": {
      "text/plain": [
       " 1.4    15167\n",
       "-1.8     8825\n",
       " 1.1     7440\n",
       "-0.1     3485\n",
       "-2.9     1632\n",
       "-3.4     1052\n",
       "-1.7      767\n",
       "-1.1      631\n",
       "-3.0      171\n",
       "-0.2       10\n",
       "Name: emp.var.rate, dtype: int64"
      ]
     },
     "execution_count": 150,
     "metadata": {},
     "output_type": "execute_result"
    }
   ],
   "source": [
    "data['emp.var.rate'].value_counts()"
   ]
  },
  {
   "cell_type": "code",
   "execution_count": 152,
   "id": "c165e636",
   "metadata": {},
   "outputs": [],
   "source": [
    "## This functions finds the bins ranges in given column based on number of bins needed\n",
    "def create_bins(data, columns, number_of_bins=6):\n",
    "    \n",
    "    temp_df = data\n",
    "    \n",
    "    for col in columns:\n",
    "        n, bins, patches = plt.hist(temp_df[col], bins = number_of_bins + 1)\n",
    "        \n",
    "    return bins"
   ]
  },
  {
   "cell_type": "code",
   "execution_count": 158,
   "id": "1b0fdfd8",
   "metadata": {},
   "outputs": [
    {
     "data": {
      "text/plain": [
       "array([4963.6       , 5001.38571429, 5039.17142857, 5076.95714286,\n",
       "       5114.74285714, 5152.52857143, 5190.31428571, 5228.1       ])"
      ]
     },
     "execution_count": 158,
     "metadata": {},
     "output_type": "execute_result"
    },
    {
     "data": {
      "image/png": "[encoded data removed]",
      "text/plain": [
       "<Figure size 640x480 with 1 Axes>"
      ]
     },
     "metadata": {},
     "output_type": "display_data"
    }
   ],
   "source": [
    "bins = create_bins(data, columns= ['nr.employed'])\n",
    "\n",
    "bins"
   ]
  },
  {
   "cell_type": "code",
   "execution_count": 159,
   "id": "aff58756",
   "metadata": {},
   "outputs": [],
   "source": [
    "## This function helps to find the any new numbers belong to which bin\n",
    "def find_bin_number(num, bins):\n",
    "       \n",
    "    \n",
    "    if bins[0] <= num < bins[1]:\n",
    "        return 0\n",
    "    elif bins[1] <= num < bins[2]:\n",
    "        return 1\n",
    "    elif bins[2] <= num < bins[3]:\n",
    "        return 2\n",
    "    elif bins[3] <= num < bins[4]:\n",
    "        return 3\n",
    "    elif bins[4] <= num < bins[5]:\n",
    "        return 4\n",
    "    elif bins[5] <= num < bins[6]:\n",
    "        return 5\n",
    "    elif bins[6] <= num <= bins[7]:\n",
    "        return 6"
   ]
  },
  {
   "cell_type": "code",
   "execution_count": 161,
   "id": "e160afaa",
   "metadata": {},
   "outputs": [
    {
     "data": {
      "text/plain": [
       "2"
      ]
     },
     "execution_count": 161,
     "metadata": {},
     "output_type": "execute_result"
    }
   ],
   "source": [
    "find_bin_number(5040, bins)"
   ]
  },
  {
   "cell_type": "code",
   "execution_count": 162,
   "id": "5433af7b",
   "metadata": {},
   "outputs": [],
   "source": [
    "## To avoid errors in the future I'm doing Equal_width discritization\n",
    "## Let's create a function to do equal_width_binning"
   ]
  },
  {
   "cell_type": "code",
   "execution_count": 60,
   "id": "a12d1731",
   "metadata": {},
   "outputs": [],
   "source": [
    "def equal_width_binning(data, columns, number_of_bins=6):\n",
    "    \n",
    "    temp_df = data\n",
    "    \n",
    "    for col in columns:\n",
    "        n, bins, patches = plt.hist(temp_df[col], bins = number_of_bins + 1)\n",
    "        \n",
    "        for bin_ in range(len(bins)-1):\n",
    "            temp_df[col] = np.where(temp_df[col].between(bins[bin_],bins[bin_ + 1]), int(bin_), temp_df[col])\n",
    "            \n",
    "    temp_df[columns] = temp_df[columns].apply(np.int64)\n",
    "    return temp_df"
   ]
  },
  {
   "cell_type": "code",
   "execution_count": 28,
   "id": "837af109",
   "metadata": {},
   "outputs": [],
   "source": [
    "# applying equal_width_binning on emp.var.rate, cons.price.idx, cons.conf.idx, euribor3m and nr.employed colums"
   ]
  },
  {
   "cell_type": "code",
   "execution_count": 29,
   "id": "69930c01",
   "metadata": {},
   "outputs": [
    {
     "data": {
      "image/png": "[encoded data removed]",
      "text/plain": [
       "<Figure size 640x480 with 1 Axes>"
      ]
     },
     "metadata": {},
     "output_type": "display_data"
    }
   ],
   "source": [
    "col = ['emp.var.rate','cons.price.idx', 'cons.conf.idx', 'euribor3m','nr.employed']\n",
    "\n",
    "df_after_binning = equal_width_binning(data, columns= col)"
   ]
  },
  {
   "cell_type": "code",
   "execution_count": 32,
   "id": "fe0953e9",
   "metadata": {},
   "outputs": [
    {
     "data": {
      "text/plain": [
       "array([2.        , 2.57142857, 3.14285714, 3.71428571, 4.28571429,\n",
       "       4.85714286, 5.42857143, 6.        ])"
      ]
     },
     "execution_count": 32,
     "metadata": {},
     "output_type": "execute_result"
    },
    {
     "data": {
      "image/png": "[encoded data removed]",
      "text/plain": [
       "<Figure size 640x480 with 1 Axes>"
      ]
     },
     "metadata": {},
     "output_type": "display_data"
    }
   ],
   "source": [
    "n, bins, patches = plt.hist(data['emp.var.rate'], bins = 7)\n",
    "\n",
    "bins"
   ]
  },
  {
   "cell_type": "code",
   "execution_count": 30,
   "id": "47b7d491",
   "metadata": {},
   "outputs": [
    {
     "data": {
      "text/plain": [
       "6    22607\n",
       "2     9592\n",
       "4     6350\n",
       "3      631\n",
       "Name: emp.var.rate, dtype: int64"
      ]
     },
     "execution_count": 30,
     "metadata": {},
     "output_type": "execute_result"
    }
   ],
   "source": [
    "df_after_binning['emp.var.rate'].value_counts()"
   ]
  },
  {
   "cell_type": "markdown",
   "id": "dde0c228",
   "metadata": {},
   "source": [
    "### Categorical Encoding"
   ]
  },
  {
   "cell_type": "code",
   "execution_count": 17,
   "id": "ece50c07",
   "metadata": {},
   "outputs": [
    {
     "data": {
      "text/html": [
       "<div>\n",
       "<style scoped>\n",
       "    .dataframe tbody tr th:only-of-type {\n",
       "        vertical-align: middle;\n",
       "    }\n",
       "\n",
       "    .dataframe tbody tr th {\n",
       "        vertical-align: top;\n",
       "    }\n",
       "\n",
       "    .dataframe thead th {\n",
       "        text-align: right;\n",
       "    }\n",
       "</style>\n",
       "<table border=\"1\" class=\"dataframe\">\n",
       "  <thead>\n",
       "    <tr style=\"text-align: right;\">\n",
       "      <th></th>\n",
       "      <th>age</th>\n",
       "      <th>job</th>\n",
       "      <th>marital</th>\n",
       "      <th>education</th>\n",
       "      <th>housing</th>\n",
       "      <th>loan</th>\n",
       "      <th>contact</th>\n",
       "      <th>month</th>\n",
       "      <th>day_of_week</th>\n",
       "      <th>campaign</th>\n",
       "      <th>previous</th>\n",
       "      <th>poutcome</th>\n",
       "      <th>emp.var.rate</th>\n",
       "      <th>cons.price.idx</th>\n",
       "      <th>cons.conf.idx</th>\n",
       "      <th>euribor3m</th>\n",
       "      <th>nr.employed</th>\n",
       "      <th>y</th>\n",
       "    </tr>\n",
       "  </thead>\n",
       "  <tbody>\n",
       "    <tr>\n",
       "      <th>0</th>\n",
       "      <td>56</td>\n",
       "      <td>other</td>\n",
       "      <td>married</td>\n",
       "      <td>basic.4y</td>\n",
       "      <td>no</td>\n",
       "      <td>no</td>\n",
       "      <td>telephone</td>\n",
       "      <td>may</td>\n",
       "      <td>mon</td>\n",
       "      <td>1</td>\n",
       "      <td>0</td>\n",
       "      <td>nonexistent</td>\n",
       "      <td>6</td>\n",
       "      <td>4</td>\n",
       "      <td>4</td>\n",
       "      <td>6</td>\n",
       "      <td>6</td>\n",
       "      <td>no</td>\n",
       "    </tr>\n",
       "    <tr>\n",
       "      <th>1</th>\n",
       "      <td>57</td>\n",
       "      <td>services</td>\n",
       "      <td>married</td>\n",
       "      <td>high.school</td>\n",
       "      <td>no</td>\n",
       "      <td>no</td>\n",
       "      <td>telephone</td>\n",
       "      <td>may</td>\n",
       "      <td>mon</td>\n",
       "      <td>1</td>\n",
       "      <td>0</td>\n",
       "      <td>nonexistent</td>\n",
       "      <td>6</td>\n",
       "      <td>4</td>\n",
       "      <td>4</td>\n",
       "      <td>6</td>\n",
       "      <td>6</td>\n",
       "      <td>no</td>\n",
       "    </tr>\n",
       "    <tr>\n",
       "      <th>2</th>\n",
       "      <td>37</td>\n",
       "      <td>services</td>\n",
       "      <td>married</td>\n",
       "      <td>high.school</td>\n",
       "      <td>yes</td>\n",
       "      <td>no</td>\n",
       "      <td>telephone</td>\n",
       "      <td>may</td>\n",
       "      <td>mon</td>\n",
       "      <td>1</td>\n",
       "      <td>0</td>\n",
       "      <td>nonexistent</td>\n",
       "      <td>6</td>\n",
       "      <td>4</td>\n",
       "      <td>4</td>\n",
       "      <td>6</td>\n",
       "      <td>6</td>\n",
       "      <td>no</td>\n",
       "    </tr>\n",
       "    <tr>\n",
       "      <th>3</th>\n",
       "      <td>40</td>\n",
       "      <td>admin.</td>\n",
       "      <td>married</td>\n",
       "      <td>basic.6y</td>\n",
       "      <td>no</td>\n",
       "      <td>no</td>\n",
       "      <td>telephone</td>\n",
       "      <td>may</td>\n",
       "      <td>mon</td>\n",
       "      <td>1</td>\n",
       "      <td>0</td>\n",
       "      <td>nonexistent</td>\n",
       "      <td>6</td>\n",
       "      <td>4</td>\n",
       "      <td>4</td>\n",
       "      <td>6</td>\n",
       "      <td>6</td>\n",
       "      <td>no</td>\n",
       "    </tr>\n",
       "    <tr>\n",
       "      <th>4</th>\n",
       "      <td>56</td>\n",
       "      <td>services</td>\n",
       "      <td>married</td>\n",
       "      <td>high.school</td>\n",
       "      <td>no</td>\n",
       "      <td>yes</td>\n",
       "      <td>telephone</td>\n",
       "      <td>may</td>\n",
       "      <td>mon</td>\n",
       "      <td>1</td>\n",
       "      <td>0</td>\n",
       "      <td>nonexistent</td>\n",
       "      <td>6</td>\n",
       "      <td>4</td>\n",
       "      <td>4</td>\n",
       "      <td>6</td>\n",
       "      <td>6</td>\n",
       "      <td>no</td>\n",
       "    </tr>\n",
       "  </tbody>\n",
       "</table>\n",
       "</div>"
      ],
      "text/plain": [
       "   age       job  marital    education housing loan    contact month  \\\n",
       "0   56     other  married     basic.4y      no   no  telephone   may   \n",
       "1   57  services  married  high.school      no   no  telephone   may   \n",
       "2   37  services  married  high.school     yes   no  telephone   may   \n",
       "3   40    admin.  married     basic.6y      no   no  telephone   may   \n",
       "4   56  services  married  high.school      no  yes  telephone   may   \n",
       "\n",
       "  day_of_week campaign previous     poutcome  emp.var.rate  cons.price.idx  \\\n",
       "0         mon        1        0  nonexistent             6               4   \n",
       "1         mon        1        0  nonexistent             6               4   \n",
       "2         mon        1        0  nonexistent             6               4   \n",
       "3         mon        1        0  nonexistent             6               4   \n",
       "4         mon        1        0  nonexistent             6               4   \n",
       "\n",
       "   cons.conf.idx  euribor3m  nr.employed   y  \n",
       "0              4          6            6  no  \n",
       "1              4          6            6  no  \n",
       "2              4          6            6  no  \n",
       "3              4          6            6  no  \n",
       "4              4          6            6  no  "
      ]
     },
     "execution_count": 17,
     "metadata": {},
     "output_type": "execute_result"
    }
   ],
   "source": [
    "df_after_binning.head()"
   ]
  },
  {
   "cell_type": "code",
   "execution_count": 18,
   "id": "978977eb",
   "metadata": {},
   "outputs": [
    {
     "data": {
      "text/html": [
       "<div>\n",
       "<style scoped>\n",
       "    .dataframe tbody tr th:only-of-type {\n",
       "        vertical-align: middle;\n",
       "    }\n",
       "\n",
       "    .dataframe tbody tr th {\n",
       "        vertical-align: top;\n",
       "    }\n",
       "\n",
       "    .dataframe thead th {\n",
       "        text-align: right;\n",
       "    }\n",
       "</style>\n",
       "<table border=\"1\" class=\"dataframe\">\n",
       "  <thead>\n",
       "    <tr style=\"text-align: right;\">\n",
       "      <th></th>\n",
       "      <th>age</th>\n",
       "      <th>job</th>\n",
       "      <th>marital</th>\n",
       "      <th>education</th>\n",
       "      <th>housing</th>\n",
       "      <th>loan</th>\n",
       "      <th>contact</th>\n",
       "      <th>month</th>\n",
       "      <th>day_of_week</th>\n",
       "      <th>campaign</th>\n",
       "      <th>previous</th>\n",
       "      <th>poutcome</th>\n",
       "      <th>emp.var.rate</th>\n",
       "      <th>cons.price.idx</th>\n",
       "      <th>cons.conf.idx</th>\n",
       "      <th>euribor3m</th>\n",
       "      <th>nr.employed</th>\n",
       "      <th>y</th>\n",
       "    </tr>\n",
       "  </thead>\n",
       "  <tbody>\n",
       "    <tr>\n",
       "      <th>0</th>\n",
       "      <td>56</td>\n",
       "      <td>other</td>\n",
       "      <td>married</td>\n",
       "      <td>basic.4y</td>\n",
       "      <td>no</td>\n",
       "      <td>no</td>\n",
       "      <td>telephone</td>\n",
       "      <td>may</td>\n",
       "      <td>mon</td>\n",
       "      <td>1</td>\n",
       "      <td>0</td>\n",
       "      <td>nonexistent</td>\n",
       "      <td>6</td>\n",
       "      <td>4</td>\n",
       "      <td>4</td>\n",
       "      <td>6</td>\n",
       "      <td>6</td>\n",
       "      <td>no</td>\n",
       "    </tr>\n",
       "    <tr>\n",
       "      <th>1</th>\n",
       "      <td>57</td>\n",
       "      <td>services</td>\n",
       "      <td>married</td>\n",
       "      <td>high.school</td>\n",
       "      <td>no</td>\n",
       "      <td>no</td>\n",
       "      <td>telephone</td>\n",
       "      <td>may</td>\n",
       "      <td>mon</td>\n",
       "      <td>1</td>\n",
       "      <td>0</td>\n",
       "      <td>nonexistent</td>\n",
       "      <td>6</td>\n",
       "      <td>4</td>\n",
       "      <td>4</td>\n",
       "      <td>6</td>\n",
       "      <td>6</td>\n",
       "      <td>no</td>\n",
       "    </tr>\n",
       "    <tr>\n",
       "      <th>2</th>\n",
       "      <td>37</td>\n",
       "      <td>services</td>\n",
       "      <td>married</td>\n",
       "      <td>high.school</td>\n",
       "      <td>yes</td>\n",
       "      <td>no</td>\n",
       "      <td>telephone</td>\n",
       "      <td>may</td>\n",
       "      <td>mon</td>\n",
       "      <td>1</td>\n",
       "      <td>0</td>\n",
       "      <td>nonexistent</td>\n",
       "      <td>6</td>\n",
       "      <td>4</td>\n",
       "      <td>4</td>\n",
       "      <td>6</td>\n",
       "      <td>6</td>\n",
       "      <td>no</td>\n",
       "    </tr>\n",
       "    <tr>\n",
       "      <th>3</th>\n",
       "      <td>40</td>\n",
       "      <td>admin.</td>\n",
       "      <td>married</td>\n",
       "      <td>basic.6y</td>\n",
       "      <td>no</td>\n",
       "      <td>no</td>\n",
       "      <td>telephone</td>\n",
       "      <td>may</td>\n",
       "      <td>mon</td>\n",
       "      <td>1</td>\n",
       "      <td>0</td>\n",
       "      <td>nonexistent</td>\n",
       "      <td>6</td>\n",
       "      <td>4</td>\n",
       "      <td>4</td>\n",
       "      <td>6</td>\n",
       "      <td>6</td>\n",
       "      <td>no</td>\n",
       "    </tr>\n",
       "    <tr>\n",
       "      <th>4</th>\n",
       "      <td>56</td>\n",
       "      <td>services</td>\n",
       "      <td>married</td>\n",
       "      <td>high.school</td>\n",
       "      <td>no</td>\n",
       "      <td>yes</td>\n",
       "      <td>telephone</td>\n",
       "      <td>may</td>\n",
       "      <td>mon</td>\n",
       "      <td>1</td>\n",
       "      <td>0</td>\n",
       "      <td>nonexistent</td>\n",
       "      <td>6</td>\n",
       "      <td>4</td>\n",
       "      <td>4</td>\n",
       "      <td>6</td>\n",
       "      <td>6</td>\n",
       "      <td>no</td>\n",
       "    </tr>\n",
       "  </tbody>\n",
       "</table>\n",
       "</div>"
      ],
      "text/plain": [
       "   age       job  marital    education housing loan    contact month  \\\n",
       "0   56     other  married     basic.4y      no   no  telephone   may   \n",
       "1   57  services  married  high.school      no   no  telephone   may   \n",
       "2   37  services  married  high.school     yes   no  telephone   may   \n",
       "3   40    admin.  married     basic.6y      no   no  telephone   may   \n",
       "4   56  services  married  high.school      no  yes  telephone   may   \n",
       "\n",
       "  day_of_week campaign previous     poutcome  emp.var.rate  cons.price.idx  \\\n",
       "0         mon        1        0  nonexistent             6               4   \n",
       "1         mon        1        0  nonexistent             6               4   \n",
       "2         mon        1        0  nonexistent             6               4   \n",
       "3         mon        1        0  nonexistent             6               4   \n",
       "4         mon        1        0  nonexistent             6               4   \n",
       "\n",
       "   cons.conf.idx  euribor3m  nr.employed   y  \n",
       "0              4          6            6  no  \n",
       "1              4          6            6  no  \n",
       "2              4          6            6  no  \n",
       "3              4          6            6  no  \n",
       "4              4          6            6  no  "
      ]
     },
     "execution_count": 18,
     "metadata": {},
     "output_type": "execute_result"
    }
   ],
   "source": [
    "# creating df1 as a copy of df_after_binning\n",
    "\n",
    "df1 = df_after_binning\n",
    "\n",
    "df1.head()"
   ]
  },
  {
   "cell_type": "code",
   "execution_count": 19,
   "id": "b8a653c6",
   "metadata": {},
   "outputs": [],
   "source": [
    "## creating a column_transformer to apply categorical encoding\n",
    "\n",
    "col_transformer = ColumnTransformer([\n",
    "    \n",
    "    ('ordinal_encoder', OrdinalEncoder(\n",
    "        \n",
    "         categories=[['other','basic.4y','basic.6y','basic.9y','high.school','university.degree','professional.course'],\n",
    "                     ['1', '2', '3', '4','more_than_4'],\n",
    "                     ['0','1','more_than_1']\n",
    "                    ], \n",
    "         dtype= np.int64 ),\n",
    "         ['education','campaign','previous']),\n",
    "    \n",
    "    ('one_hot_encoder', OneHotEncoder(\n",
    "        \n",
    "        categories='auto',\n",
    "        drop = 'first'), \n",
    "        ['job','marital','housing','loan','contact','month','day_of_week','poutcome']),\n",
    "    \n",
    "    ],remainder='passthrough')"
   ]
  },
  {
   "cell_type": "code",
   "execution_count": 20,
   "id": "f8f84f24",
   "metadata": {},
   "outputs": [
    {
     "data": {
      "text/plain": [
       "array([[1, 0, 0, ..., 6, 6, 'no'],\n",
       "       [4, 0, 0, ..., 6, 6, 'no'],\n",
       "       [4, 0, 0, ..., 6, 6, 'no'],\n",
       "       ...,\n",
       "       [5, 1, 0, ..., 0, 0, 'no'],\n",
       "       [6, 0, 0, ..., 0, 0, 'yes'],\n",
       "       [6, 2, 1, ..., 0, 0, 'no']], dtype=object)"
      ]
     },
     "execution_count": 20,
     "metadata": {},
     "output_type": "execute_result"
    }
   ],
   "source": [
    "# Lets fit_transform df1 data\n",
    "# Output will be an array.\n",
    "\n",
    "transformed_data = col_transformer.fit_transform(df1)\n",
    "\n",
    "transformed_data"
   ]
  },
  {
   "cell_type": "code",
   "execution_count": 21,
   "id": "35ff0013",
   "metadata": {},
   "outputs": [
    {
     "data": {
      "text/plain": [
       "array([1, 0, 0, 0.0, 0.0, 1.0, 0.0, 0.0, 1.0, 0.0, 0.0, 0.0, 0.0, 0.0,\n",
       "       0.0, 1.0, 0.0, 0.0, 0.0, 1.0, 0.0, 0.0, 1.0, 0.0, 0.0, 0.0, 1.0,\n",
       "       0.0, 56, 6, 4, 4, 6, 6, 'no'], dtype=object)"
      ]
     },
     "execution_count": 21,
     "metadata": {},
     "output_type": "execute_result"
    }
   ],
   "source": [
    "#Lets see first row\n",
    "\n",
    "transformed_data[0]"
   ]
  },
  {
   "cell_type": "code",
   "execution_count": 22,
   "id": "4022f326",
   "metadata": {},
   "outputs": [
    {
     "data": {
      "text/plain": [
       "(39180, 35)"
      ]
     },
     "execution_count": 22,
     "metadata": {},
     "output_type": "execute_result"
    }
   ],
   "source": [
    "# Show 35 columns after dropping 1 column to avoid dumy variable trap\n",
    "\n",
    "transformed_data.shape"
   ]
  },
  {
   "cell_type": "markdown",
   "id": "1d8cc079",
   "metadata": {},
   "source": [
    "## Outlier handling"
   ]
  },
  {
   "cell_type": "markdown",
   "id": "9d3fa15e",
   "metadata": {},
   "source": [
    "#### Outliers are only present in age column."
   ]
  },
  {
   "cell_type": "code",
   "execution_count": 23,
   "id": "f097129c",
   "metadata": {},
   "outputs": [
    {
     "data": {
      "text/plain": [
       "count    39180.000000\n",
       "mean        40.120827\n",
       "std         10.472185\n",
       "min         17.000000\n",
       "25%         32.000000\n",
       "50%         38.000000\n",
       "75%         47.000000\n",
       "max         98.000000\n",
       "Name: age, dtype: float64"
      ]
     },
     "execution_count": 23,
     "metadata": {},
     "output_type": "execute_result"
    }
   ],
   "source": [
    "data['age'].describe()"
   ]
  },
  {
   "cell_type": "code",
   "execution_count": 24,
   "id": "c1cc7d0f",
   "metadata": {},
   "outputs": [],
   "source": [
    "## Lets make a function to visualize the change in distribution and % of records getting dropped for each percentile value.\n",
    "\n",
    "def outlier_handler(data, column, percentile = 0.95):\n",
    "    \n",
    "    temp = data.query(f\"{column} < {column}.quantile({percentile})\")\n",
    "    \n",
    "    precentage_of_data_dropped = (data.shape[0] - temp.shape[0]) / data.shape[0] * 100\n",
    "    \n",
    "    print(\"Percentage of data dropped:  \" + str(np.round(precentage_of_data_dropped, 1)) + \" %\")\n",
    "    \n",
    "    sns.kdeplot(temp['age'])\n",
    "    \n",
    "    plt.show()"
   ]
  },
  {
   "cell_type": "code",
   "execution_count": 25,
   "id": "cfdcc147",
   "metadata": {},
   "outputs": [
    {
     "name": "stdout",
     "output_type": "stream",
     "text": [
      "Percentage of data dropped:  5.6 %\n"
     ]
    },
    {
     "data": {
      "image/png": "[encoded data removed]",
      "text/plain": [
       "<Figure size 640x480 with 1 Axes>"
      ]
     },
     "metadata": {},
     "output_type": "display_data"
    }
   ],
   "source": [
    "outlier_handler(data , 'age', percentile = 0.95)"
   ]
  },
  {
   "cell_type": "code",
   "execution_count": 26,
   "id": "4c21d1a1",
   "metadata": {},
   "outputs": [
    {
     "name": "stdout",
     "output_type": "stream",
     "text": [
      "Percentage of data dropped:  2.1 %\n"
     ]
    },
    {
     "data": {
      "image/png": "[encoded data removed]",
      "text/plain": [
       "<Figure size 640x480 with 1 Axes>"
      ]
     },
     "metadata": {},
     "output_type": "display_data"
    }
   ],
   "source": [
    "outlier_handler(data, 'age', percentile=.98)"
   ]
  },
  {
   "cell_type": "code",
   "execution_count": 27,
   "id": "4d483a33",
   "metadata": {},
   "outputs": [
    {
     "name": "stdout",
     "output_type": "stream",
     "text": [
      "Percentage of data dropped:  1.0 %\n"
     ]
    },
    {
     "data": {
      "image/png": "[encoded data removed]",
      "text/plain": [
       "<Figure size 640x480 with 1 Axes>"
      ]
     },
     "metadata": {},
     "output_type": "display_data"
    }
   ],
   "source": [
    "outlier_handler(data, 'age', percentile=.99)"
   ]
  },
  {
   "cell_type": "markdown",
   "id": "7286bdd5",
   "metadata": {},
   "source": [
    "- 95 percentile looks fine so proceeding with 95th percentile."
   ]
  },
  {
   "cell_type": "code",
   "execution_count": 28,
   "id": "c6698be3",
   "metadata": {},
   "outputs": [],
   "source": [
    "## Let's value_couts of see this outlier data"
   ]
  },
  {
   "cell_type": "code",
   "execution_count": 29,
   "id": "639ad10d",
   "metadata": {},
   "outputs": [],
   "source": [
    "outlier_data = data.query(f'age > age.quantile(0.95)')"
   ]
  },
  {
   "cell_type": "code",
   "execution_count": 30,
   "id": "ec1cd40c",
   "metadata": {},
   "outputs": [
    {
     "data": {
      "text/plain": [
       "no     1087\n",
       "yes     534\n",
       "Name: y, dtype: int64"
      ]
     },
     "execution_count": 30,
     "metadata": {},
     "output_type": "execute_result"
    }
   ],
   "source": [
    "outlier_data['y'].value_counts()"
   ]
  },
  {
   "cell_type": "code",
   "execution_count": 31,
   "id": "c6834dec",
   "metadata": {},
   "outputs": [
    {
     "data": {
      "text/plain": [
       "<AxesSubplot:xlabel='y', ylabel='count'>"
      ]
     },
     "execution_count": 31,
     "metadata": {},
     "output_type": "execute_result"
    },
    {
     "data": {
      "image/png": "[encoded data removed]",
      "text/plain": [
       "<Figure size 640x480 with 1 Axes>"
      ]
     },
     "metadata": {},
     "output_type": "display_data"
    }
   ],
   "source": [
    "sns.countplot(x = outlier_data['y'])"
   ]
  },
  {
   "cell_type": "markdown",
   "id": "f3dfb7a2",
   "metadata": {},
   "source": [
    "- This show we will loose `541 records` of class `yes` if we drop the outliers from the data\n",
    "- Since we are already dealing with a Imbalanced dataset, So we need to treat this outliers without dropping it."
   ]
  },
  {
   "cell_type": "code",
   "execution_count": 32,
   "id": "df574828",
   "metadata": {},
   "outputs": [],
   "source": [
    "## Making all values in age column as Nan which is above 95th percentile\n",
    "data.loc[data['age'] > data['age'].quantile(0.95), 'age'] = np.nan"
   ]
  },
  {
   "cell_type": "code",
   "execution_count": 33,
   "id": "c94ec45a",
   "metadata": {},
   "outputs": [
    {
     "data": {
      "text/plain": [
       "age               1621\n",
       "job                  0\n",
       "marital              0\n",
       "education            0\n",
       "housing              0\n",
       "loan                 0\n",
       "contact              0\n",
       "month                0\n",
       "day_of_week          0\n",
       "campaign             0\n",
       "previous             0\n",
       "poutcome             0\n",
       "emp.var.rate         0\n",
       "cons.price.idx       0\n",
       "cons.conf.idx        0\n",
       "euribor3m            0\n",
       "nr.employed          0\n",
       "y                    0\n",
       "dtype: int64"
      ]
     },
     "execution_count": 33,
     "metadata": {},
     "output_type": "execute_result"
    }
   ],
   "source": [
    "# Now we have 1655 Nan in age column\n",
    "\n",
    "data.isnull().sum()"
   ]
  },
  {
   "cell_type": "code",
   "execution_count": 34,
   "id": "f8c6b878",
   "metadata": {},
   "outputs": [],
   "source": [
    "## For experiments we are keeping a taking a copy of the dataframe\n",
    "\n",
    "mean_df = data.copy()"
   ]
  },
  {
   "cell_type": "code",
   "execution_count": 35,
   "id": "1271da4e",
   "metadata": {},
   "outputs": [
    {
     "name": "stdout",
     "output_type": "stream",
     "text": [
      "<class 'pandas.core.frame.DataFrame'>\n",
      "Int64Index: 39180 entries, 0 to 41187\n",
      "Data columns (total 18 columns):\n",
      " #   Column          Non-Null Count  Dtype  \n",
      "---  ------          --------------  -----  \n",
      " 0   age             37559 non-null  float64\n",
      " 1   job             39180 non-null  object \n",
      " 2   marital         39180 non-null  object \n",
      " 3   education       39180 non-null  object \n",
      " 4   housing         39180 non-null  object \n",
      " 5   loan            39180 non-null  object \n",
      " 6   contact         39180 non-null  object \n",
      " 7   month           39180 non-null  object \n",
      " 8   day_of_week     39180 non-null  object \n",
      " 9   campaign        39180 non-null  object \n",
      " 10  previous        39180 non-null  object \n",
      " 11  poutcome        39180 non-null  object \n",
      " 12  emp.var.rate    39180 non-null  int64  \n",
      " 13  cons.price.idx  39180 non-null  int64  \n",
      " 14  cons.conf.idx   39180 non-null  int64  \n",
      " 15  euribor3m       39180 non-null  int64  \n",
      " 16  nr.employed     39180 non-null  int64  \n",
      " 17  y               39180 non-null  object \n",
      "dtypes: float64(1), int64(5), object(12)\n",
      "memory usage: 5.7+ MB\n"
     ]
    }
   ],
   "source": [
    "mean_df.info()"
   ]
  },
  {
   "cell_type": "code",
   "execution_count": 36,
   "id": "8c04652d",
   "metadata": {},
   "outputs": [],
   "source": [
    "## trying to to impute Mean of the age column and visualize the distribution\n",
    "\n",
    "mean_df.loc[mean_df['age'].isnull() == True] = mean_df['age'].mean()"
   ]
  },
  {
   "cell_type": "code",
   "execution_count": 37,
   "id": "b73cabe8",
   "metadata": {},
   "outputs": [
    {
     "data": {
      "text/plain": [
       "<AxesSubplot:xlabel='age', ylabel='Count'>"
      ]
     },
     "execution_count": 37,
     "metadata": {},
     "output_type": "execute_result"
    },
    {
     "data": {
      "image/png": "[encoded data removed]",
      "text/plain": [
       "<Figure size 640x480 with 1 Axes>"
      ]
     },
     "metadata": {},
     "output_type": "display_data"
    }
   ],
   "source": [
    "sns.histplot(mean_df['age'], kde = True)"
   ]
  },
  {
   "cell_type": "code",
   "execution_count": 38,
   "id": "93c2be56",
   "metadata": {},
   "outputs": [
    {
     "data": {
      "text/plain": [
       "<AxesSubplot:xlabel='age', ylabel='Count'>"
      ]
     },
     "execution_count": 38,
     "metadata": {},
     "output_type": "execute_result"
    },
    {
     "data": {
      "image/png": "[encoded data removed]",
      "text/plain": [
       "<Figure size 640x480 with 1 Axes>"
      ]
     },
     "metadata": {},
     "output_type": "display_data"
    }
   ],
   "source": [
    "median_df = data.copy()\n",
    "\n",
    "median_df.loc[median_df['age'].isnull() == True] = median_df['age'].mean()\n",
    "\n",
    "sns.histplot(median_df['age'], kde = True)"
   ]
  },
  {
   "cell_type": "code",
   "execution_count": 39,
   "id": "248f3735",
   "metadata": {},
   "outputs": [],
   "source": [
    "## Let's use KNNImputer \n",
    "## To use KNNImputer every column has to be numerical, so we are using 'ransformed_data' array. Since data have categorical values so we cannot use that."
   ]
  },
  {
   "cell_type": "code",
   "execution_count": 40,
   "id": "36cf8528",
   "metadata": {},
   "outputs": [
    {
     "data": {
      "text/plain": [
       "array([[1, 0, 0, ..., 4, 6, 6],\n",
       "       [4, 0, 0, ..., 4, 6, 6],\n",
       "       [4, 0, 0, ..., 4, 6, 6],\n",
       "       ...,\n",
       "       [5, 1, 0, ..., 0, 0, 0],\n",
       "       [6, 0, 0, ..., 0, 0, 0],\n",
       "       [6, 2, 1, ..., 0, 0, 0]], dtype=object)"
      ]
     },
     "execution_count": 40,
     "metadata": {},
     "output_type": "execute_result"
    }
   ],
   "source": [
    "## Lets create dataset for outlier and dropping 'y' value i.e. last column for KNNImputer\n",
    "\n",
    "X_df_for_outlier = transformed_data[: , : -1]\n",
    "\n",
    "X_df_for_outlier"
   ]
  },
  {
   "cell_type": "code",
   "execution_count": 41,
   "id": "e5989927",
   "metadata": {},
   "outputs": [
    {
     "data": {
      "text/plain": [
       "array([[1., 0., 0., ..., 4., 6., 6.],\n",
       "       [4., 0., 0., ..., 4., 6., 6.],\n",
       "       [4., 0., 0., ..., 4., 6., 6.],\n",
       "       ...,\n",
       "       [5., 1., 0., ..., 0., 0., 0.],\n",
       "       [6., 0., 0., ..., 0., 0., 0.],\n",
       "       [6., 2., 1., ..., 0., 0., 0.]])"
      ]
     },
     "execution_count": 41,
     "metadata": {},
     "output_type": "execute_result"
    }
   ],
   "source": [
    "imputer = KNNImputer(n_neighbors=3)\n",
    "\n",
    "X_after_imputation = imputer.fit_transform(X_df_for_outlier)\n",
    "\n",
    "X_after_imputation"
   ]
  },
  {
   "cell_type": "code",
   "execution_count": 42,
   "id": "0bb89c90",
   "metadata": {},
   "outputs": [
    {
     "data": {
      "text/plain": [
       "(39180, 34)"
      ]
     },
     "execution_count": 42,
     "metadata": {},
     "output_type": "execute_result"
    }
   ],
   "source": [
    "X_after_imputation.shape"
   ]
  },
  {
   "cell_type": "code",
   "execution_count": 43,
   "id": "aaf0ae13",
   "metadata": {},
   "outputs": [],
   "source": [
    "Y_df_for_outlier = transformed_data[: , -1]"
   ]
  },
  {
   "cell_type": "code",
   "execution_count": 44,
   "id": "1af37018",
   "metadata": {},
   "outputs": [],
   "source": [
    "y_imputer = LabelEncoder()"
   ]
  },
  {
   "cell_type": "code",
   "execution_count": 45,
   "id": "5a01a0c5",
   "metadata": {},
   "outputs": [],
   "source": [
    "Y_after_imputation = y_imputer.fit_transform(Y_df_for_outlier)"
   ]
  },
  {
   "cell_type": "code",
   "execution_count": 46,
   "id": "1a855415",
   "metadata": {},
   "outputs": [
    {
     "data": {
      "text/plain": [
       "array([0, 0, 0, ..., 0, 1, 0])"
      ]
     },
     "execution_count": 46,
     "metadata": {},
     "output_type": "execute_result"
    }
   ],
   "source": [
    "Y_after_imputation"
   ]
  },
  {
   "cell_type": "code",
   "execution_count": 47,
   "id": "e659c2df",
   "metadata": {},
   "outputs": [
    {
     "data": {
      "text/plain": [
       "(39180,)"
      ]
     },
     "execution_count": 47,
     "metadata": {},
     "output_type": "execute_result"
    }
   ],
   "source": [
    "Y_after_imputation.shape"
   ]
  },
  {
   "cell_type": "code",
   "execution_count": 48,
   "id": "e3bcaa81",
   "metadata": {},
   "outputs": [
    {
     "data": {
      "text/plain": [
       "<AxesSubplot:ylabel='Count'>"
      ]
     },
     "execution_count": 48,
     "metadata": {},
     "output_type": "execute_result"
    },
    {
     "data": {
      "image/png": "[encoded data removed]",
      "text/plain": [
       "<Figure size 640x480 with 1 Axes>"
      ]
     },
     "metadata": {},
     "output_type": "display_data"
    }
   ],
   "source": [
    "## KNNImputation of age column\n",
    "\n",
    "sns.histplot(X_after_imputation[:, -6], kde=True)"
   ]
  },
  {
   "cell_type": "markdown",
   "id": "c56aad49",
   "metadata": {},
   "source": [
    "## Skewness handling of age column"
   ]
  },
  {
   "cell_type": "code",
   "execution_count": 49,
   "id": "4b4b6aae",
   "metadata": {},
   "outputs": [
    {
     "data": {
      "text/plain": [
       "array([ 1.,  0.,  0.,  0.,  0.,  1.,  0.,  0.,  1.,  0.,  0.,  0.,  0.,\n",
       "        0.,  0.,  1.,  0.,  0.,  0.,  1.,  0.,  0.,  1.,  0.,  0.,  0.,\n",
       "        1.,  0., 56.,  6.,  4.,  4.,  6.,  6.])"
      ]
     },
     "execution_count": 49,
     "metadata": {},
     "output_type": "execute_result"
    }
   ],
   "source": [
    "df_for_skewness = X_after_imputation\n",
    "\n",
    "# Let's see the postition of age in array\n",
    "df_for_skewness[0]"
   ]
  },
  {
   "cell_type": "code",
   "execution_count": 50,
   "id": "d4d63b43",
   "metadata": {},
   "outputs": [
    {
     "data": {
      "text/plain": [
       "<AxesSubplot:ylabel='Count'>"
      ]
     },
     "execution_count": 50,
     "metadata": {},
     "output_type": "execute_result"
    },
    {
     "data": {
      "image/png": "[encoded data removed]",
      "text/plain": [
       "<Figure size 640x480 with 1 Axes>"
      ]
     },
     "metadata": {},
     "output_type": "display_data"
    }
   ],
   "source": [
    "# From above array we can see the age is at -6 index\n",
    "# Lets apply log10 transformation on age and see the distribution\n",
    "\n",
    "sns.histplot(np.log10(df_for_skewness[:, -6]), kde= True)"
   ]
  },
  {
   "cell_type": "code",
   "execution_count": 51,
   "id": "2a913b12",
   "metadata": {},
   "outputs": [
    {
     "data": {
      "text/plain": [
       "<AxesSubplot:ylabel='Count'>"
      ]
     },
     "execution_count": 51,
     "metadata": {},
     "output_type": "execute_result"
    },
    {
     "data": {
      "image/png": "[encoded data removed]",
      "text/plain": [
       "<Figure size 640x480 with 1 Axes>"
      ]
     },
     "metadata": {},
     "output_type": "display_data"
    }
   ],
   "source": [
    "# Lets apply square root transformation on age and see the distribution\n",
    "\n",
    "\n",
    "sns.histplot(np.sqrt(df_for_skewness[:, -6]), kde= True)"
   ]
  },
  {
   "cell_type": "code",
   "execution_count": 52,
   "id": "e2a469a0",
   "metadata": {},
   "outputs": [
    {
     "data": {
      "text/plain": [
       "<AxesSubplot:ylabel='Count'>"
      ]
     },
     "execution_count": 52,
     "metadata": {},
     "output_type": "execute_result"
    },
    {
     "data": {
      "image/png": "[encoded data removed]",
      "text/plain": [
       "<Figure size 640x480 with 1 Axes>"
      ]
     },
     "metadata": {},
     "output_type": "display_data"
    }
   ],
   "source": [
    "# Lets apply cube root transformation on age and see the distribution\n",
    "sns.histplot(np.cbrt(df_for_skewness[:, -6]), kde= True)"
   ]
  },
  {
   "cell_type": "code",
   "execution_count": 53,
   "id": "f1e4306f",
   "metadata": {},
   "outputs": [
    {
     "data": {
      "text/plain": [
       "<AxesSubplot:ylabel='Count'>"
      ]
     },
     "execution_count": 53,
     "metadata": {},
     "output_type": "execute_result"
    },
    {
     "data": {
      "image/png": "[encoded data removed]",
      "text/plain": [
       "<Figure size 640x480 with 1 Axes>"
      ]
     },
     "metadata": {},
     "output_type": "display_data"
    }
   ],
   "source": [
    "# Lets apply square transformation on age and see the distribution\n",
    "sns.histplot(np.square(df_for_skewness[:, -6]), kde= True)"
   ]
  },
  {
   "cell_type": "code",
   "execution_count": 54,
   "id": "cdae5e29",
   "metadata": {},
   "outputs": [],
   "source": [
    "# Lets apply yeo_johnson transformation on age and see the distribution\n",
    "\n",
    "column_scaling_transformer = ColumnTransformer(\n",
    "    \n",
    "                             transformers= [('yeo_johson', PowerTransformer(method='yeo-johnson'), [-6])],\n",
    "                                remainder='passthrough')"
   ]
  },
  {
   "cell_type": "code",
   "execution_count": 55,
   "id": "feb1e975",
   "metadata": {},
   "outputs": [
    {
     "data": {
      "text/plain": [
       "array([1.4160728, 1.       , 0.       , 0.       , 0.       , 0.       ,\n",
       "       1.       , 0.       , 0.       , 1.       , 0.       , 0.       ,\n",
       "       0.       , 0.       , 0.       , 0.       , 1.       , 0.       ,\n",
       "       0.       , 0.       , 1.       , 0.       , 0.       , 1.       ,\n",
       "       0.       , 0.       , 0.       , 1.       , 0.       , 6.       ,\n",
       "       4.       , 4.       , 6.       , 6.       ])"
      ]
     },
     "execution_count": 55,
     "metadata": {},
     "output_type": "execute_result"
    }
   ],
   "source": [
    "df_yeo_johnson = column_scaling_transformer.fit_transform(df_for_skewness)\n",
    "\n",
    "df_yeo_johnson[0]"
   ]
  },
  {
   "cell_type": "code",
   "execution_count": 56,
   "id": "076ba45a",
   "metadata": {},
   "outputs": [
    {
     "data": {
      "text/plain": [
       "<AxesSubplot:ylabel='Count'>"
      ]
     },
     "execution_count": 56,
     "metadata": {},
     "output_type": "execute_result"
    },
    {
     "data": {
      "image/png": "[encoded data removed]",
      "text/plain": [
       "<Figure size 640x480 with 1 Axes>"
      ]
     },
     "metadata": {},
     "output_type": "display_data"
    }
   ],
   "source": [
    "sns.histplot(df_yeo_johnson[:,0], kde=True)"
   ]
  },
  {
   "cell_type": "code",
   "execution_count": 57,
   "id": "101fd7a5",
   "metadata": {},
   "outputs": [],
   "source": [
    "## This distributions after yeo_johnson transformation looks like a normal distribution, \n",
    "## scaling is done internally by yeo_johson transformer\n",
    "## So keeping this data as final data for training the model"
   ]
  },
  {
   "cell_type": "markdown",
   "id": "3794fffa",
   "metadata": {},
   "source": [
    "## Final Data for training"
   ]
  },
  {
   "cell_type": "code",
   "execution_count": 58,
   "id": "c7b134ff",
   "metadata": {},
   "outputs": [
    {
     "data": {
      "text/html": [
       "<div>\n",
       "<style scoped>\n",
       "    .dataframe tbody tr th:only-of-type {\n",
       "        vertical-align: middle;\n",
       "    }\n",
       "\n",
       "    .dataframe tbody tr th {\n",
       "        vertical-align: top;\n",
       "    }\n",
       "\n",
       "    .dataframe thead th {\n",
       "        text-align: right;\n",
       "    }\n",
       "</style>\n",
       "<table border=\"1\" class=\"dataframe\">\n",
       "  <thead>\n",
       "    <tr style=\"text-align: right;\">\n",
       "      <th></th>\n",
       "      <th>0</th>\n",
       "      <th>1</th>\n",
       "      <th>2</th>\n",
       "      <th>3</th>\n",
       "      <th>4</th>\n",
       "      <th>5</th>\n",
       "      <th>6</th>\n",
       "      <th>7</th>\n",
       "      <th>8</th>\n",
       "      <th>9</th>\n",
       "      <th>...</th>\n",
       "      <th>24</th>\n",
       "      <th>25</th>\n",
       "      <th>26</th>\n",
       "      <th>27</th>\n",
       "      <th>28</th>\n",
       "      <th>29</th>\n",
       "      <th>30</th>\n",
       "      <th>31</th>\n",
       "      <th>32</th>\n",
       "      <th>33</th>\n",
       "    </tr>\n",
       "  </thead>\n",
       "  <tbody>\n",
       "    <tr>\n",
       "      <th>13156</th>\n",
       "      <td>-0.751087</td>\n",
       "      <td>5.0</td>\n",
       "      <td>0.0</td>\n",
       "      <td>0.0</td>\n",
       "      <td>0.0</td>\n",
       "      <td>0.0</td>\n",
       "      <td>0.0</td>\n",
       "      <td>0.0</td>\n",
       "      <td>0.0</td>\n",
       "      <td>1.0</td>\n",
       "      <td>...</td>\n",
       "      <td>1.0</td>\n",
       "      <td>0.0</td>\n",
       "      <td>0.0</td>\n",
       "      <td>1.0</td>\n",
       "      <td>0.0</td>\n",
       "      <td>6.0</td>\n",
       "      <td>4.0</td>\n",
       "      <td>2.0</td>\n",
       "      <td>6.0</td>\n",
       "      <td>6.0</td>\n",
       "    </tr>\n",
       "    <tr>\n",
       "      <th>29281</th>\n",
       "      <td>0.328641</td>\n",
       "      <td>4.0</td>\n",
       "      <td>0.0</td>\n",
       "      <td>0.0</td>\n",
       "      <td>0.0</td>\n",
       "      <td>0.0</td>\n",
       "      <td>0.0</td>\n",
       "      <td>0.0</td>\n",
       "      <td>0.0</td>\n",
       "      <td>1.0</td>\n",
       "      <td>...</td>\n",
       "      <td>0.0</td>\n",
       "      <td>1.0</td>\n",
       "      <td>0.0</td>\n",
       "      <td>1.0</td>\n",
       "      <td>0.0</td>\n",
       "      <td>2.0</td>\n",
       "      <td>1.0</td>\n",
       "      <td>1.0</td>\n",
       "      <td>1.0</td>\n",
       "      <td>3.0</td>\n",
       "    </tr>\n",
       "    <tr>\n",
       "      <th>34500</th>\n",
       "      <td>-0.626376</td>\n",
       "      <td>6.0</td>\n",
       "      <td>1.0</td>\n",
       "      <td>0.0</td>\n",
       "      <td>0.0</td>\n",
       "      <td>0.0</td>\n",
       "      <td>0.0</td>\n",
       "      <td>0.0</td>\n",
       "      <td>1.0</td>\n",
       "      <td>1.0</td>\n",
       "      <td>...</td>\n",
       "      <td>0.0</td>\n",
       "      <td>1.0</td>\n",
       "      <td>0.0</td>\n",
       "      <td>1.0</td>\n",
       "      <td>0.0</td>\n",
       "      <td>4.0</td>\n",
       "      <td>2.0</td>\n",
       "      <td>2.0</td>\n",
       "      <td>0.0</td>\n",
       "      <td>2.0</td>\n",
       "    </tr>\n",
       "    <tr>\n",
       "      <th>17746</th>\n",
       "      <td>-1.014739</td>\n",
       "      <td>4.0</td>\n",
       "      <td>4.0</td>\n",
       "      <td>0.0</td>\n",
       "      <td>0.0</td>\n",
       "      <td>0.0</td>\n",
       "      <td>0.0</td>\n",
       "      <td>1.0</td>\n",
       "      <td>0.0</td>\n",
       "      <td>0.0</td>\n",
       "      <td>...</td>\n",
       "      <td>1.0</td>\n",
       "      <td>0.0</td>\n",
       "      <td>0.0</td>\n",
       "      <td>1.0</td>\n",
       "      <td>0.0</td>\n",
       "      <td>6.0</td>\n",
       "      <td>4.0</td>\n",
       "      <td>2.0</td>\n",
       "      <td>6.0</td>\n",
       "      <td>6.0</td>\n",
       "    </tr>\n",
       "    <tr>\n",
       "      <th>2255</th>\n",
       "      <td>0.508298</td>\n",
       "      <td>6.0</td>\n",
       "      <td>0.0</td>\n",
       "      <td>0.0</td>\n",
       "      <td>0.0</td>\n",
       "      <td>0.0</td>\n",
       "      <td>0.0</td>\n",
       "      <td>0.0</td>\n",
       "      <td>1.0</td>\n",
       "      <td>1.0</td>\n",
       "      <td>...</td>\n",
       "      <td>0.0</td>\n",
       "      <td>1.0</td>\n",
       "      <td>0.0</td>\n",
       "      <td>1.0</td>\n",
       "      <td>0.0</td>\n",
       "      <td>6.0</td>\n",
       "      <td>4.0</td>\n",
       "      <td>4.0</td>\n",
       "      <td>6.0</td>\n",
       "      <td>6.0</td>\n",
       "    </tr>\n",
       "    <tr>\n",
       "      <th>8043</th>\n",
       "      <td>-0.880433</td>\n",
       "      <td>4.0</td>\n",
       "      <td>2.0</td>\n",
       "      <td>0.0</td>\n",
       "      <td>1.0</td>\n",
       "      <td>0.0</td>\n",
       "      <td>0.0</td>\n",
       "      <td>0.0</td>\n",
       "      <td>0.0</td>\n",
       "      <td>0.0</td>\n",
       "      <td>...</td>\n",
       "      <td>0.0</td>\n",
       "      <td>1.0</td>\n",
       "      <td>0.0</td>\n",
       "      <td>1.0</td>\n",
       "      <td>0.0</td>\n",
       "      <td>6.0</td>\n",
       "      <td>6.0</td>\n",
       "      <td>2.0</td>\n",
       "      <td>6.0</td>\n",
       "      <td>6.0</td>\n",
       "    </tr>\n",
       "    <tr>\n",
       "      <th>10505</th>\n",
       "      <td>1.141310</td>\n",
       "      <td>6.0</td>\n",
       "      <td>0.0</td>\n",
       "      <td>0.0</td>\n",
       "      <td>0.0</td>\n",
       "      <td>0.0</td>\n",
       "      <td>1.0</td>\n",
       "      <td>0.0</td>\n",
       "      <td>0.0</td>\n",
       "      <td>1.0</td>\n",
       "      <td>...</td>\n",
       "      <td>0.0</td>\n",
       "      <td>0.0</td>\n",
       "      <td>1.0</td>\n",
       "      <td>1.0</td>\n",
       "      <td>0.0</td>\n",
       "      <td>6.0</td>\n",
       "      <td>6.0</td>\n",
       "      <td>2.0</td>\n",
       "      <td>6.0</td>\n",
       "      <td>6.0</td>\n",
       "    </tr>\n",
       "    <tr>\n",
       "      <th>2233</th>\n",
       "      <td>1.544887</td>\n",
       "      <td>0.0</td>\n",
       "      <td>0.0</td>\n",
       "      <td>0.0</td>\n",
       "      <td>0.0</td>\n",
       "      <td>0.0</td>\n",
       "      <td>1.0</td>\n",
       "      <td>0.0</td>\n",
       "      <td>0.0</td>\n",
       "      <td>1.0</td>\n",
       "      <td>...</td>\n",
       "      <td>0.0</td>\n",
       "      <td>1.0</td>\n",
       "      <td>0.0</td>\n",
       "      <td>1.0</td>\n",
       "      <td>0.0</td>\n",
       "      <td>6.0</td>\n",
       "      <td>4.0</td>\n",
       "      <td>4.0</td>\n",
       "      <td>6.0</td>\n",
       "      <td>6.0</td>\n",
       "    </tr>\n",
       "    <tr>\n",
       "      <th>19917</th>\n",
       "      <td>0.678589</td>\n",
       "      <td>4.0</td>\n",
       "      <td>1.0</td>\n",
       "      <td>0.0</td>\n",
       "      <td>0.0</td>\n",
       "      <td>0.0</td>\n",
       "      <td>0.0</td>\n",
       "      <td>1.0</td>\n",
       "      <td>0.0</td>\n",
       "      <td>1.0</td>\n",
       "      <td>...</td>\n",
       "      <td>1.0</td>\n",
       "      <td>0.0</td>\n",
       "      <td>0.0</td>\n",
       "      <td>1.0</td>\n",
       "      <td>0.0</td>\n",
       "      <td>6.0</td>\n",
       "      <td>3.0</td>\n",
       "      <td>4.0</td>\n",
       "      <td>6.0</td>\n",
       "      <td>6.0</td>\n",
       "    </tr>\n",
       "    <tr>\n",
       "      <th>5937</th>\n",
       "      <td>-1.154366</td>\n",
       "      <td>4.0</td>\n",
       "      <td>0.0</td>\n",
       "      <td>0.0</td>\n",
       "      <td>0.0</td>\n",
       "      <td>0.0</td>\n",
       "      <td>0.0</td>\n",
       "      <td>0.0</td>\n",
       "      <td>0.0</td>\n",
       "      <td>1.0</td>\n",
       "      <td>...</td>\n",
       "      <td>0.0</td>\n",
       "      <td>1.0</td>\n",
       "      <td>0.0</td>\n",
       "      <td>1.0</td>\n",
       "      <td>0.0</td>\n",
       "      <td>6.0</td>\n",
       "      <td>4.0</td>\n",
       "      <td>4.0</td>\n",
       "      <td>6.0</td>\n",
       "      <td>6.0</td>\n",
       "    </tr>\n",
       "  </tbody>\n",
       "</table>\n",
       "<p>10 rows × 34 columns</p>\n",
       "</div>"
      ],
      "text/plain": [
       "             0    1    2    3    4    5    6    7    8    9   ...   24   25  \\\n",
       "13156 -0.751087  5.0  0.0  0.0  0.0  0.0  0.0  0.0  0.0  1.0  ...  1.0  0.0   \n",
       "29281  0.328641  4.0  0.0  0.0  0.0  0.0  0.0  0.0  0.0  1.0  ...  0.0  1.0   \n",
       "34500 -0.626376  6.0  1.0  0.0  0.0  0.0  0.0  0.0  1.0  1.0  ...  0.0  1.0   \n",
       "17746 -1.014739  4.0  4.0  0.0  0.0  0.0  0.0  1.0  0.0  0.0  ...  1.0  0.0   \n",
       "2255   0.508298  6.0  0.0  0.0  0.0  0.0  0.0  0.0  1.0  1.0  ...  0.0  1.0   \n",
       "8043  -0.880433  4.0  2.0  0.0  1.0  0.0  0.0  0.0  0.0  0.0  ...  0.0  1.0   \n",
       "10505  1.141310  6.0  0.0  0.0  0.0  0.0  1.0  0.0  0.0  1.0  ...  0.0  0.0   \n",
       "2233   1.544887  0.0  0.0  0.0  0.0  0.0  1.0  0.0  0.0  1.0  ...  0.0  1.0   \n",
       "19917  0.678589  4.0  1.0  0.0  0.0  0.0  0.0  1.0  0.0  1.0  ...  1.0  0.0   \n",
       "5937  -1.154366  4.0  0.0  0.0  0.0  0.0  0.0  0.0  0.0  1.0  ...  0.0  1.0   \n",
       "\n",
       "        26   27   28   29   30   31   32   33  \n",
       "13156  0.0  1.0  0.0  6.0  4.0  2.0  6.0  6.0  \n",
       "29281  0.0  1.0  0.0  2.0  1.0  1.0  1.0  3.0  \n",
       "34500  0.0  1.0  0.0  4.0  2.0  2.0  0.0  2.0  \n",
       "17746  0.0  1.0  0.0  6.0  4.0  2.0  6.0  6.0  \n",
       "2255   0.0  1.0  0.0  6.0  4.0  4.0  6.0  6.0  \n",
       "8043   0.0  1.0  0.0  6.0  6.0  2.0  6.0  6.0  \n",
       "10505  1.0  1.0  0.0  6.0  6.0  2.0  6.0  6.0  \n",
       "2233   0.0  1.0  0.0  6.0  4.0  4.0  6.0  6.0  \n",
       "19917  0.0  1.0  0.0  6.0  3.0  4.0  6.0  6.0  \n",
       "5937   0.0  1.0  0.0  6.0  4.0  4.0  6.0  6.0  \n",
       "\n",
       "[10 rows x 34 columns]"
      ]
     },
     "execution_count": 58,
     "metadata": {},
     "output_type": "execute_result"
    }
   ],
   "source": [
    "Final_X = pd.DataFrame(df_yeo_johnson)\n",
    "\n",
    "Final_X.sample(10)"
   ]
  },
  {
   "cell_type": "code",
   "execution_count": 59,
   "id": "b58563f1",
   "metadata": {},
   "outputs": [
    {
     "data": {
      "text/plain": [
       "23001    0\n",
       "30243    0\n",
       "36182    0\n",
       "23311    1\n",
       "13253    0\n",
       "13552    0\n",
       "27455    0\n",
       "30914    0\n",
       "33286    0\n",
       "28832    1\n",
       "dtype: int32"
      ]
     },
     "execution_count": 59,
     "metadata": {},
     "output_type": "execute_result"
    }
   ],
   "source": [
    "Final_Y =  pd.Series(Y_after_imputation)\n",
    "\n",
    "Final_Y.sample(10)"
   ]
  },
  {
   "cell_type": "markdown",
   "id": "b3e3b0db",
   "metadata": {},
   "source": [
    "## Looking for Clusters in Dataset"
   ]
  },
  {
   "cell_type": "markdown",
   "id": "c40c733a",
   "metadata": {},
   "source": [
    "#### Checking any possibilty of Clusters in the dataset other that target column cluster"
   ]
  },
  {
   "cell_type": "code",
   "execution_count": 60,
   "id": "e29ada8e",
   "metadata": {},
   "outputs": [],
   "source": [
    "## I'm fitting  multiple KMeans on the dataset with different value of n_clusters\n",
    "wcss = {}\n",
    "\n",
    "for k in range(1,15):\n",
    "    KM = KMeans(n_clusters=k, init='k-means++', max_iter= 1000)\n",
    "    KM.fit(Final_X)\n",
    "    wcss[k] = KM.inertia_"
   ]
  },
  {
   "cell_type": "code",
   "execution_count": 61,
   "id": "ce72f871",
   "metadata": {},
   "outputs": [
    {
     "data": {
      "image/png": "[encoded data removed]",
      "text/plain": [
       "<Figure size 640x480 with 1 Axes>"
      ]
     },
     "metadata": {},
     "output_type": "display_data"
    }
   ],
   "source": [
    "## Plotting Elbow plot to find optimum value of n_clusters\n",
    "\n",
    "sns.pointplot(x = list(wcss.keys()), y = list(wcss.values()))\n",
    "plt.xlabel('Number of Clusters')\n",
    "plt.ylabel('WCSS')\n",
    "plt.title(\"Finding the optimal number of clusters\")\n",
    "plt.show()\n",
    "\n",
    "## Plot shows 2 clusters are possible"
   ]
  },
  {
   "cell_type": "code",
   "execution_count": 62,
   "id": "209068df",
   "metadata": {},
   "outputs": [
    {
     "data": {
      "text/plain": [
       "2"
      ]
     },
     "execution_count": 62,
     "metadata": {},
     "output_type": "execute_result"
    }
   ],
   "source": [
    "## Lets cross verify with KneeLocator method\n",
    "\n",
    "KN = KneeLocator(x = list(wcss.keys()),  y= list(wcss.values()), curve='convex', direction='decreasing')\n",
    "\n",
    "KN.knee"
   ]
  },
  {
   "cell_type": "code",
   "execution_count": 63,
   "id": "72acaa98",
   "metadata": {},
   "outputs": [
    {
     "data": {
      "text/plain": [
       "array([0, 0, 0, ..., 1, 1, 1])"
      ]
     },
     "execution_count": 63,
     "metadata": {},
     "output_type": "execute_result"
    }
   ],
   "source": [
    "# Creating the final KMeans model with clusters = 2\n",
    "\n",
    "KN_final = KMeans(n_clusters=2)\n",
    "\n",
    "KN_final.fit(Final_X)\n",
    "\n",
    "KN_final.labels_"
   ]
  },
  {
   "cell_type": "code",
   "execution_count": 64,
   "id": "8e9be061",
   "metadata": {},
   "outputs": [],
   "source": [
    "# Combining the predictions to Final_X dataframe\n",
    "\n",
    "Final_X['cluster'] = KN_final.labels_"
   ]
  },
  {
   "cell_type": "code",
   "execution_count": 65,
   "id": "564e37e6",
   "metadata": {},
   "outputs": [
    {
     "data": {
      "text/html": [
       "<div>\n",
       "<style scoped>\n",
       "    .dataframe tbody tr th:only-of-type {\n",
       "        vertical-align: middle;\n",
       "    }\n",
       "\n",
       "    .dataframe tbody tr th {\n",
       "        vertical-align: top;\n",
       "    }\n",
       "\n",
       "    .dataframe thead th {\n",
       "        text-align: right;\n",
       "    }\n",
       "</style>\n",
       "<table border=\"1\" class=\"dataframe\">\n",
       "  <thead>\n",
       "    <tr style=\"text-align: right;\">\n",
       "      <th></th>\n",
       "      <th>0</th>\n",
       "      <th>1</th>\n",
       "      <th>2</th>\n",
       "      <th>3</th>\n",
       "      <th>4</th>\n",
       "      <th>5</th>\n",
       "      <th>6</th>\n",
       "      <th>7</th>\n",
       "      <th>8</th>\n",
       "      <th>9</th>\n",
       "      <th>...</th>\n",
       "      <th>25</th>\n",
       "      <th>26</th>\n",
       "      <th>27</th>\n",
       "      <th>28</th>\n",
       "      <th>29</th>\n",
       "      <th>30</th>\n",
       "      <th>31</th>\n",
       "      <th>32</th>\n",
       "      <th>33</th>\n",
       "      <th>cluster</th>\n",
       "    </tr>\n",
       "  </thead>\n",
       "  <tbody>\n",
       "    <tr>\n",
       "      <th>4884</th>\n",
       "      <td>-0.168355</td>\n",
       "      <td>3.0</td>\n",
       "      <td>0.0</td>\n",
       "      <td>0.0</td>\n",
       "      <td>1.0</td>\n",
       "      <td>0.0</td>\n",
       "      <td>0.0</td>\n",
       "      <td>0.0</td>\n",
       "      <td>0.0</td>\n",
       "      <td>0.0</td>\n",
       "      <td>...</td>\n",
       "      <td>0.0</td>\n",
       "      <td>0.0</td>\n",
       "      <td>1.0</td>\n",
       "      <td>0.0</td>\n",
       "      <td>6.0</td>\n",
       "      <td>4.0</td>\n",
       "      <td>4.0</td>\n",
       "      <td>6.0</td>\n",
       "      <td>6.0</td>\n",
       "      <td>0</td>\n",
       "    </tr>\n",
       "    <tr>\n",
       "      <th>4099</th>\n",
       "      <td>0.994394</td>\n",
       "      <td>1.0</td>\n",
       "      <td>0.0</td>\n",
       "      <td>0.0</td>\n",
       "      <td>1.0</td>\n",
       "      <td>0.0</td>\n",
       "      <td>0.0</td>\n",
       "      <td>0.0</td>\n",
       "      <td>0.0</td>\n",
       "      <td>1.0</td>\n",
       "      <td>...</td>\n",
       "      <td>1.0</td>\n",
       "      <td>0.0</td>\n",
       "      <td>1.0</td>\n",
       "      <td>0.0</td>\n",
       "      <td>6.0</td>\n",
       "      <td>4.0</td>\n",
       "      <td>4.0</td>\n",
       "      <td>6.0</td>\n",
       "      <td>6.0</td>\n",
       "      <td>0</td>\n",
       "    </tr>\n",
       "    <tr>\n",
       "      <th>10422</th>\n",
       "      <td>-0.751087</td>\n",
       "      <td>6.0</td>\n",
       "      <td>2.0</td>\n",
       "      <td>0.0</td>\n",
       "      <td>0.0</td>\n",
       "      <td>0.0</td>\n",
       "      <td>1.0</td>\n",
       "      <td>0.0</td>\n",
       "      <td>0.0</td>\n",
       "      <td>0.0</td>\n",
       "      <td>...</td>\n",
       "      <td>0.0</td>\n",
       "      <td>1.0</td>\n",
       "      <td>1.0</td>\n",
       "      <td>0.0</td>\n",
       "      <td>6.0</td>\n",
       "      <td>6.0</td>\n",
       "      <td>2.0</td>\n",
       "      <td>6.0</td>\n",
       "      <td>6.0</td>\n",
       "      <td>0</td>\n",
       "    </tr>\n",
       "    <tr>\n",
       "      <th>25462</th>\n",
       "      <td>0.234999</td>\n",
       "      <td>3.0</td>\n",
       "      <td>0.0</td>\n",
       "      <td>0.0</td>\n",
       "      <td>1.0</td>\n",
       "      <td>0.0</td>\n",
       "      <td>0.0</td>\n",
       "      <td>0.0</td>\n",
       "      <td>0.0</td>\n",
       "      <td>0.0</td>\n",
       "      <td>...</td>\n",
       "      <td>0.0</td>\n",
       "      <td>0.0</td>\n",
       "      <td>1.0</td>\n",
       "      <td>0.0</td>\n",
       "      <td>4.0</td>\n",
       "      <td>2.0</td>\n",
       "      <td>2.0</td>\n",
       "      <td>6.0</td>\n",
       "      <td>6.0</td>\n",
       "      <td>0</td>\n",
       "    </tr>\n",
       "    <tr>\n",
       "      <th>33282</th>\n",
       "      <td>-1.451219</td>\n",
       "      <td>0.0</td>\n",
       "      <td>3.0</td>\n",
       "      <td>0.0</td>\n",
       "      <td>0.0</td>\n",
       "      <td>0.0</td>\n",
       "      <td>0.0</td>\n",
       "      <td>0.0</td>\n",
       "      <td>1.0</td>\n",
       "      <td>0.0</td>\n",
       "      <td>...</td>\n",
       "      <td>0.0</td>\n",
       "      <td>0.0</td>\n",
       "      <td>1.0</td>\n",
       "      <td>0.0</td>\n",
       "      <td>2.0</td>\n",
       "      <td>1.0</td>\n",
       "      <td>1.0</td>\n",
       "      <td>0.0</td>\n",
       "      <td>3.0</td>\n",
       "      <td>1</td>\n",
       "    </tr>\n",
       "    <tr>\n",
       "      <th>33701</th>\n",
       "      <td>-0.506004</td>\n",
       "      <td>6.0</td>\n",
       "      <td>0.0</td>\n",
       "      <td>0.0</td>\n",
       "      <td>0.0</td>\n",
       "      <td>0.0</td>\n",
       "      <td>0.0</td>\n",
       "      <td>0.0</td>\n",
       "      <td>0.0</td>\n",
       "      <td>1.0</td>\n",
       "      <td>...</td>\n",
       "      <td>0.0</td>\n",
       "      <td>0.0</td>\n",
       "      <td>1.0</td>\n",
       "      <td>0.0</td>\n",
       "      <td>2.0</td>\n",
       "      <td>1.0</td>\n",
       "      <td>1.0</td>\n",
       "      <td>0.0</td>\n",
       "      <td>3.0</td>\n",
       "      <td>1</td>\n",
       "    </tr>\n",
       "    <tr>\n",
       "      <th>2446</th>\n",
       "      <td>1.068702</td>\n",
       "      <td>3.0</td>\n",
       "      <td>1.0</td>\n",
       "      <td>0.0</td>\n",
       "      <td>0.0</td>\n",
       "      <td>0.0</td>\n",
       "      <td>1.0</td>\n",
       "      <td>0.0</td>\n",
       "      <td>0.0</td>\n",
       "      <td>1.0</td>\n",
       "      <td>...</td>\n",
       "      <td>1.0</td>\n",
       "      <td>0.0</td>\n",
       "      <td>1.0</td>\n",
       "      <td>0.0</td>\n",
       "      <td>6.0</td>\n",
       "      <td>4.0</td>\n",
       "      <td>4.0</td>\n",
       "      <td>6.0</td>\n",
       "      <td>6.0</td>\n",
       "      <td>0</td>\n",
       "    </tr>\n",
       "    <tr>\n",
       "      <th>3476</th>\n",
       "      <td>0.760495</td>\n",
       "      <td>4.0</td>\n",
       "      <td>0.0</td>\n",
       "      <td>0.0</td>\n",
       "      <td>1.0</td>\n",
       "      <td>0.0</td>\n",
       "      <td>0.0</td>\n",
       "      <td>0.0</td>\n",
       "      <td>0.0</td>\n",
       "      <td>1.0</td>\n",
       "      <td>...</td>\n",
       "      <td>0.0</td>\n",
       "      <td>0.0</td>\n",
       "      <td>1.0</td>\n",
       "      <td>0.0</td>\n",
       "      <td>6.0</td>\n",
       "      <td>4.0</td>\n",
       "      <td>4.0</td>\n",
       "      <td>6.0</td>\n",
       "      <td>6.0</td>\n",
       "      <td>0</td>\n",
       "    </tr>\n",
       "    <tr>\n",
       "      <th>9911</th>\n",
       "      <td>-0.506004</td>\n",
       "      <td>3.0</td>\n",
       "      <td>0.0</td>\n",
       "      <td>0.0</td>\n",
       "      <td>1.0</td>\n",
       "      <td>0.0</td>\n",
       "      <td>0.0</td>\n",
       "      <td>0.0</td>\n",
       "      <td>0.0</td>\n",
       "      <td>1.0</td>\n",
       "      <td>...</td>\n",
       "      <td>0.0</td>\n",
       "      <td>0.0</td>\n",
       "      <td>1.0</td>\n",
       "      <td>0.0</td>\n",
       "      <td>6.0</td>\n",
       "      <td>6.0</td>\n",
       "      <td>2.0</td>\n",
       "      <td>6.0</td>\n",
       "      <td>6.0</td>\n",
       "      <td>0</td>\n",
       "    </tr>\n",
       "    <tr>\n",
       "      <th>14956</th>\n",
       "      <td>-1.451219</td>\n",
       "      <td>6.0</td>\n",
       "      <td>1.0</td>\n",
       "      <td>0.0</td>\n",
       "      <td>0.0</td>\n",
       "      <td>0.0</td>\n",
       "      <td>1.0</td>\n",
       "      <td>0.0</td>\n",
       "      <td>0.0</td>\n",
       "      <td>0.0</td>\n",
       "      <td>...</td>\n",
       "      <td>0.0</td>\n",
       "      <td>0.0</td>\n",
       "      <td>1.0</td>\n",
       "      <td>0.0</td>\n",
       "      <td>6.0</td>\n",
       "      <td>4.0</td>\n",
       "      <td>2.0</td>\n",
       "      <td>6.0</td>\n",
       "      <td>6.0</td>\n",
       "      <td>0</td>\n",
       "    </tr>\n",
       "    <tr>\n",
       "      <th>24790</th>\n",
       "      <td>-1.014739</td>\n",
       "      <td>3.0</td>\n",
       "      <td>1.0</td>\n",
       "      <td>1.0</td>\n",
       "      <td>0.0</td>\n",
       "      <td>0.0</td>\n",
       "      <td>0.0</td>\n",
       "      <td>0.0</td>\n",
       "      <td>0.0</td>\n",
       "      <td>0.0</td>\n",
       "      <td>...</td>\n",
       "      <td>0.0</td>\n",
       "      <td>0.0</td>\n",
       "      <td>0.0</td>\n",
       "      <td>0.0</td>\n",
       "      <td>4.0</td>\n",
       "      <td>2.0</td>\n",
       "      <td>2.0</td>\n",
       "      <td>6.0</td>\n",
       "      <td>6.0</td>\n",
       "      <td>0</td>\n",
       "    </tr>\n",
       "    <tr>\n",
       "      <th>28968</th>\n",
       "      <td>-0.168355</td>\n",
       "      <td>2.0</td>\n",
       "      <td>4.0</td>\n",
       "      <td>0.0</td>\n",
       "      <td>1.0</td>\n",
       "      <td>0.0</td>\n",
       "      <td>0.0</td>\n",
       "      <td>0.0</td>\n",
       "      <td>0.0</td>\n",
       "      <td>1.0</td>\n",
       "      <td>...</td>\n",
       "      <td>1.0</td>\n",
       "      <td>0.0</td>\n",
       "      <td>1.0</td>\n",
       "      <td>0.0</td>\n",
       "      <td>2.0</td>\n",
       "      <td>1.0</td>\n",
       "      <td>1.0</td>\n",
       "      <td>1.0</td>\n",
       "      <td>3.0</td>\n",
       "      <td>1</td>\n",
       "    </tr>\n",
       "    <tr>\n",
       "      <th>17062</th>\n",
       "      <td>0.760495</td>\n",
       "      <td>5.0</td>\n",
       "      <td>2.0</td>\n",
       "      <td>0.0</td>\n",
       "      <td>0.0</td>\n",
       "      <td>0.0</td>\n",
       "      <td>0.0</td>\n",
       "      <td>0.0</td>\n",
       "      <td>0.0</td>\n",
       "      <td>0.0</td>\n",
       "      <td>...</td>\n",
       "      <td>1.0</td>\n",
       "      <td>0.0</td>\n",
       "      <td>1.0</td>\n",
       "      <td>0.0</td>\n",
       "      <td>6.0</td>\n",
       "      <td>4.0</td>\n",
       "      <td>2.0</td>\n",
       "      <td>6.0</td>\n",
       "      <td>6.0</td>\n",
       "      <td>0</td>\n",
       "    </tr>\n",
       "    <tr>\n",
       "      <th>4032</th>\n",
       "      <td>-0.062877</td>\n",
       "      <td>6.0</td>\n",
       "      <td>1.0</td>\n",
       "      <td>0.0</td>\n",
       "      <td>0.0</td>\n",
       "      <td>0.0</td>\n",
       "      <td>0.0</td>\n",
       "      <td>0.0</td>\n",
       "      <td>1.0</td>\n",
       "      <td>0.0</td>\n",
       "      <td>...</td>\n",
       "      <td>0.0</td>\n",
       "      <td>0.0</td>\n",
       "      <td>1.0</td>\n",
       "      <td>0.0</td>\n",
       "      <td>6.0</td>\n",
       "      <td>4.0</td>\n",
       "      <td>4.0</td>\n",
       "      <td>6.0</td>\n",
       "      <td>6.0</td>\n",
       "      <td>0</td>\n",
       "    </tr>\n",
       "    <tr>\n",
       "      <th>5180</th>\n",
       "      <td>1.668548</td>\n",
       "      <td>4.0</td>\n",
       "      <td>4.0</td>\n",
       "      <td>0.0</td>\n",
       "      <td>0.0</td>\n",
       "      <td>0.0</td>\n",
       "      <td>1.0</td>\n",
       "      <td>0.0</td>\n",
       "      <td>0.0</td>\n",
       "      <td>1.0</td>\n",
       "      <td>...</td>\n",
       "      <td>0.0</td>\n",
       "      <td>0.0</td>\n",
       "      <td>1.0</td>\n",
       "      <td>0.0</td>\n",
       "      <td>6.0</td>\n",
       "      <td>4.0</td>\n",
       "      <td>4.0</td>\n",
       "      <td>6.0</td>\n",
       "      <td>6.0</td>\n",
       "      <td>0</td>\n",
       "    </tr>\n",
       "    <tr>\n",
       "      <th>34355</th>\n",
       "      <td>-0.277228</td>\n",
       "      <td>5.0</td>\n",
       "      <td>0.0</td>\n",
       "      <td>1.0</td>\n",
       "      <td>0.0</td>\n",
       "      <td>0.0</td>\n",
       "      <td>1.0</td>\n",
       "      <td>0.0</td>\n",
       "      <td>0.0</td>\n",
       "      <td>1.0</td>\n",
       "      <td>...</td>\n",
       "      <td>0.0</td>\n",
       "      <td>0.0</td>\n",
       "      <td>0.0</td>\n",
       "      <td>0.0</td>\n",
       "      <td>4.0</td>\n",
       "      <td>2.0</td>\n",
       "      <td>2.0</td>\n",
       "      <td>1.0</td>\n",
       "      <td>2.0</td>\n",
       "      <td>1</td>\n",
       "    </tr>\n",
       "    <tr>\n",
       "      <th>27953</th>\n",
       "      <td>0.840372</td>\n",
       "      <td>4.0</td>\n",
       "      <td>1.0</td>\n",
       "      <td>1.0</td>\n",
       "      <td>0.0</td>\n",
       "      <td>0.0</td>\n",
       "      <td>0.0</td>\n",
       "      <td>1.0</td>\n",
       "      <td>0.0</td>\n",
       "      <td>0.0</td>\n",
       "      <td>...</td>\n",
       "      <td>0.0</td>\n",
       "      <td>0.0</td>\n",
       "      <td>0.0</td>\n",
       "      <td>0.0</td>\n",
       "      <td>2.0</td>\n",
       "      <td>2.0</td>\n",
       "      <td>1.0</td>\n",
       "      <td>1.0</td>\n",
       "      <td>3.0</td>\n",
       "      <td>1</td>\n",
       "    </tr>\n",
       "    <tr>\n",
       "      <th>32564</th>\n",
       "      <td>-0.389703</td>\n",
       "      <td>2.0</td>\n",
       "      <td>0.0</td>\n",
       "      <td>1.0</td>\n",
       "      <td>1.0</td>\n",
       "      <td>0.0</td>\n",
       "      <td>0.0</td>\n",
       "      <td>0.0</td>\n",
       "      <td>0.0</td>\n",
       "      <td>1.0</td>\n",
       "      <td>...</td>\n",
       "      <td>0.0</td>\n",
       "      <td>0.0</td>\n",
       "      <td>0.0</td>\n",
       "      <td>0.0</td>\n",
       "      <td>2.0</td>\n",
       "      <td>1.0</td>\n",
       "      <td>1.0</td>\n",
       "      <td>1.0</td>\n",
       "      <td>3.0</td>\n",
       "      <td>1</td>\n",
       "    </tr>\n",
       "    <tr>\n",
       "      <th>22097</th>\n",
       "      <td>0.419698</td>\n",
       "      <td>5.0</td>\n",
       "      <td>2.0</td>\n",
       "      <td>0.0</td>\n",
       "      <td>0.0</td>\n",
       "      <td>0.0</td>\n",
       "      <td>0.0</td>\n",
       "      <td>0.0</td>\n",
       "      <td>0.0</td>\n",
       "      <td>1.0</td>\n",
       "      <td>...</td>\n",
       "      <td>0.0</td>\n",
       "      <td>1.0</td>\n",
       "      <td>1.0</td>\n",
       "      <td>0.0</td>\n",
       "      <td>6.0</td>\n",
       "      <td>3.0</td>\n",
       "      <td>4.0</td>\n",
       "      <td>6.0</td>\n",
       "      <td>6.0</td>\n",
       "      <td>0</td>\n",
       "    </tr>\n",
       "    <tr>\n",
       "      <th>21987</th>\n",
       "      <td>1.281699</td>\n",
       "      <td>4.0</td>\n",
       "      <td>4.0</td>\n",
       "      <td>0.0</td>\n",
       "      <td>0.0</td>\n",
       "      <td>0.0</td>\n",
       "      <td>0.0</td>\n",
       "      <td>0.0</td>\n",
       "      <td>0.0</td>\n",
       "      <td>1.0</td>\n",
       "      <td>...</td>\n",
       "      <td>0.0</td>\n",
       "      <td>1.0</td>\n",
       "      <td>1.0</td>\n",
       "      <td>0.0</td>\n",
       "      <td>6.0</td>\n",
       "      <td>3.0</td>\n",
       "      <td>4.0</td>\n",
       "      <td>6.0</td>\n",
       "      <td>6.0</td>\n",
       "      <td>0</td>\n",
       "    </tr>\n",
       "  </tbody>\n",
       "</table>\n",
       "<p>20 rows × 35 columns</p>\n",
       "</div>"
      ],
      "text/plain": [
       "              0    1    2    3    4    5    6    7    8    9  ...   25   26  \\\n",
       "4884  -0.168355  3.0  0.0  0.0  1.0  0.0  0.0  0.0  0.0  0.0  ...  0.0  0.0   \n",
       "4099   0.994394  1.0  0.0  0.0  1.0  0.0  0.0  0.0  0.0  1.0  ...  1.0  0.0   \n",
       "10422 -0.751087  6.0  2.0  0.0  0.0  0.0  1.0  0.0  0.0  0.0  ...  0.0  1.0   \n",
       "25462  0.234999  3.0  0.0  0.0  1.0  0.0  0.0  0.0  0.0  0.0  ...  0.0  0.0   \n",
       "33282 -1.451219  0.0  3.0  0.0  0.0  0.0  0.0  0.0  1.0  0.0  ...  0.0  0.0   \n",
       "33701 -0.506004  6.0  0.0  0.0  0.0  0.0  0.0  0.0  0.0  1.0  ...  0.0  0.0   \n",
       "2446   1.068702  3.0  1.0  0.0  0.0  0.0  1.0  0.0  0.0  1.0  ...  1.0  0.0   \n",
       "3476   0.760495  4.0  0.0  0.0  1.0  0.0  0.0  0.0  0.0  1.0  ...  0.0  0.0   \n",
       "9911  -0.506004  3.0  0.0  0.0  1.0  0.0  0.0  0.0  0.0  1.0  ...  0.0  0.0   \n",
       "14956 -1.451219  6.0  1.0  0.0  0.0  0.0  1.0  0.0  0.0  0.0  ...  0.0  0.0   \n",
       "24790 -1.014739  3.0  1.0  1.0  0.0  0.0  0.0  0.0  0.0  0.0  ...  0.0  0.0   \n",
       "28968 -0.168355  2.0  4.0  0.0  1.0  0.0  0.0  0.0  0.0  1.0  ...  1.0  0.0   \n",
       "17062  0.760495  5.0  2.0  0.0  0.0  0.0  0.0  0.0  0.0  0.0  ...  1.0  0.0   \n",
       "4032  -0.062877  6.0  1.0  0.0  0.0  0.0  0.0  0.0  1.0  0.0  ...  0.0  0.0   \n",
       "5180   1.668548  4.0  4.0  0.0  0.0  0.0  1.0  0.0  0.0  1.0  ...  0.0  0.0   \n",
       "34355 -0.277228  5.0  0.0  1.0  0.0  0.0  1.0  0.0  0.0  1.0  ...  0.0  0.0   \n",
       "27953  0.840372  4.0  1.0  1.0  0.0  0.0  0.0  1.0  0.0  0.0  ...  0.0  0.0   \n",
       "32564 -0.389703  2.0  0.0  1.0  1.0  0.0  0.0  0.0  0.0  1.0  ...  0.0  0.0   \n",
       "22097  0.419698  5.0  2.0  0.0  0.0  0.0  0.0  0.0  0.0  1.0  ...  0.0  1.0   \n",
       "21987  1.281699  4.0  4.0  0.0  0.0  0.0  0.0  0.0  0.0  1.0  ...  0.0  1.0   \n",
       "\n",
       "        27   28   29   30   31   32   33  cluster  \n",
       "4884   1.0  0.0  6.0  4.0  4.0  6.0  6.0        0  \n",
       "4099   1.0  0.0  6.0  4.0  4.0  6.0  6.0        0  \n",
       "10422  1.0  0.0  6.0  6.0  2.0  6.0  6.0        0  \n",
       "25462  1.0  0.0  4.0  2.0  2.0  6.0  6.0        0  \n",
       "33282  1.0  0.0  2.0  1.0  1.0  0.0  3.0        1  \n",
       "33701  1.0  0.0  2.0  1.0  1.0  0.0  3.0        1  \n",
       "2446   1.0  0.0  6.0  4.0  4.0  6.0  6.0        0  \n",
       "3476   1.0  0.0  6.0  4.0  4.0  6.0  6.0        0  \n",
       "9911   1.0  0.0  6.0  6.0  2.0  6.0  6.0        0  \n",
       "14956  1.0  0.0  6.0  4.0  2.0  6.0  6.0        0  \n",
       "24790  0.0  0.0  4.0  2.0  2.0  6.0  6.0        0  \n",
       "28968  1.0  0.0  2.0  1.0  1.0  1.0  3.0        1  \n",
       "17062  1.0  0.0  6.0  4.0  2.0  6.0  6.0        0  \n",
       "4032   1.0  0.0  6.0  4.0  4.0  6.0  6.0        0  \n",
       "5180   1.0  0.0  6.0  4.0  4.0  6.0  6.0        0  \n",
       "34355  0.0  0.0  4.0  2.0  2.0  1.0  2.0        1  \n",
       "27953  0.0  0.0  2.0  2.0  1.0  1.0  3.0        1  \n",
       "32564  0.0  0.0  2.0  1.0  1.0  1.0  3.0        1  \n",
       "22097  1.0  0.0  6.0  3.0  4.0  6.0  6.0        0  \n",
       "21987  1.0  0.0  6.0  3.0  4.0  6.0  6.0        0  \n",
       "\n",
       "[20 rows x 35 columns]"
      ]
     },
     "execution_count": 65,
     "metadata": {},
     "output_type": "execute_result"
    }
   ],
   "source": [
    "# Lets a sample of dataset\n",
    "\n",
    "Final_X.sample(20)"
   ]
  },
  {
   "cell_type": "code",
   "execution_count": 66,
   "id": "66f49d51",
   "metadata": {},
   "outputs": [],
   "source": [
    "## Lets verify the KMeans are finding the groups based on target column or not \n",
    "## i.e. one cluster to 0 and other cluster as 1 like same as target column"
   ]
  },
  {
   "cell_type": "code",
   "execution_count": 67,
   "id": "bc545a29",
   "metadata": {},
   "outputs": [
    {
     "data": {
      "text/plain": [
       "31492    0\n",
       "dtype: int32"
      ]
     },
     "execution_count": 67,
     "metadata": {},
     "output_type": "execute_result"
    }
   ],
   "source": [
    "## lets take from above sample of Final_X with cluster column added, taking index 31492 which KMeans predicts as cluster=1\n",
    "## Now lets see the corresponding 'y' value from Final_Y \n",
    "\n",
    "Final_Y.loc[Final_Y.index == 31492]  #but result which shows 0"
   ]
  },
  {
   "cell_type": "code",
   "execution_count": 68,
   "id": "d37368d8",
   "metadata": {},
   "outputs": [
    {
     "data": {
      "text/plain": [
       "28945    1\n",
       "dtype: int32"
      ]
     },
     "execution_count": 68,
     "metadata": {},
     "output_type": "execute_result"
    }
   ],
   "source": [
    "## Now lets take another Index with cluster = 1\n",
    "\n",
    "\n",
    "Final_Y.loc[Final_Y.index == 28945]\n",
    "\n",
    "## For this y value shows 1, which means the data itself have 2 clusters independent of target column value."
   ]
  },
  {
   "cell_type": "code",
   "execution_count": 69,
   "id": "23a7e074",
   "metadata": {},
   "outputs": [
    {
     "data": {
      "text/plain": [
       "5444    0\n",
       "dtype: int32"
      ]
     },
     "execution_count": 69,
     "metadata": {},
     "output_type": "execute_result"
    }
   ],
   "source": [
    "## Now lets take another Index with cluster = 0, \n",
    "\n",
    "\n",
    "Final_Y.loc[Final_Y.index == 5444]  # here results shows target column as 0\n",
    "## which means we can once again confirm that the data itself have 2 clusters independent of target column value."
   ]
  },
  {
   "cell_type": "markdown",
   "id": "d522f93b",
   "metadata": {},
   "source": [
    "### Again we need to merge Final_X and Final_Y to split the data with respect to clusters"
   ]
  },
  {
   "cell_type": "code",
   "execution_count": 70,
   "id": "d4cb0985",
   "metadata": {},
   "outputs": [
    {
     "data": {
      "text/html": [
       "<div>\n",
       "<style scoped>\n",
       "    .dataframe tbody tr th:only-of-type {\n",
       "        vertical-align: middle;\n",
       "    }\n",
       "\n",
       "    .dataframe tbody tr th {\n",
       "        vertical-align: top;\n",
       "    }\n",
       "\n",
       "    .dataframe thead th {\n",
       "        text-align: right;\n",
       "    }\n",
       "</style>\n",
       "<table border=\"1\" class=\"dataframe\">\n",
       "  <thead>\n",
       "    <tr style=\"text-align: right;\">\n",
       "      <th></th>\n",
       "      <th>0</th>\n",
       "      <th>1</th>\n",
       "      <th>2</th>\n",
       "      <th>3</th>\n",
       "      <th>4</th>\n",
       "      <th>5</th>\n",
       "      <th>6</th>\n",
       "      <th>7</th>\n",
       "      <th>8</th>\n",
       "      <th>9</th>\n",
       "      <th>...</th>\n",
       "      <th>26</th>\n",
       "      <th>27</th>\n",
       "      <th>28</th>\n",
       "      <th>29</th>\n",
       "      <th>30</th>\n",
       "      <th>31</th>\n",
       "      <th>32</th>\n",
       "      <th>33</th>\n",
       "      <th>cluster</th>\n",
       "      <th>target</th>\n",
       "    </tr>\n",
       "  </thead>\n",
       "  <tbody>\n",
       "    <tr>\n",
       "      <th>22948</th>\n",
       "      <td>-0.062877</td>\n",
       "      <td>1.0</td>\n",
       "      <td>0.0</td>\n",
       "      <td>0.0</td>\n",
       "      <td>1.0</td>\n",
       "      <td>0.0</td>\n",
       "      <td>0.0</td>\n",
       "      <td>0.0</td>\n",
       "      <td>0.0</td>\n",
       "      <td>1.0</td>\n",
       "      <td>...</td>\n",
       "      <td>0.0</td>\n",
       "      <td>1.0</td>\n",
       "      <td>0.0</td>\n",
       "      <td>4.0</td>\n",
       "      <td>2.0</td>\n",
       "      <td>2.0</td>\n",
       "      <td>6.0</td>\n",
       "      <td>6.0</td>\n",
       "      <td>0</td>\n",
       "      <td>0</td>\n",
       "    </tr>\n",
       "    <tr>\n",
       "      <th>34024</th>\n",
       "      <td>-0.277228</td>\n",
       "      <td>5.0</td>\n",
       "      <td>0.0</td>\n",
       "      <td>0.0</td>\n",
       "      <td>0.0</td>\n",
       "      <td>0.0</td>\n",
       "      <td>1.0</td>\n",
       "      <td>0.0</td>\n",
       "      <td>0.0</td>\n",
       "      <td>1.0</td>\n",
       "      <td>...</td>\n",
       "      <td>0.0</td>\n",
       "      <td>1.0</td>\n",
       "      <td>0.0</td>\n",
       "      <td>2.0</td>\n",
       "      <td>1.0</td>\n",
       "      <td>1.0</td>\n",
       "      <td>0.0</td>\n",
       "      <td>3.0</td>\n",
       "      <td>1</td>\n",
       "      <td>0</td>\n",
       "    </tr>\n",
       "    <tr>\n",
       "      <th>29958</th>\n",
       "      <td>0.234999</td>\n",
       "      <td>2.0</td>\n",
       "      <td>0.0</td>\n",
       "      <td>0.0</td>\n",
       "      <td>1.0</td>\n",
       "      <td>0.0</td>\n",
       "      <td>0.0</td>\n",
       "      <td>0.0</td>\n",
       "      <td>0.0</td>\n",
       "      <td>1.0</td>\n",
       "      <td>...</td>\n",
       "      <td>0.0</td>\n",
       "      <td>1.0</td>\n",
       "      <td>0.0</td>\n",
       "      <td>2.0</td>\n",
       "      <td>1.0</td>\n",
       "      <td>1.0</td>\n",
       "      <td>1.0</td>\n",
       "      <td>3.0</td>\n",
       "      <td>1</td>\n",
       "      <td>0</td>\n",
       "    </tr>\n",
       "    <tr>\n",
       "      <th>16186</th>\n",
       "      <td>-0.626376</td>\n",
       "      <td>5.0</td>\n",
       "      <td>2.0</td>\n",
       "      <td>0.0</td>\n",
       "      <td>0.0</td>\n",
       "      <td>0.0</td>\n",
       "      <td>0.0</td>\n",
       "      <td>0.0</td>\n",
       "      <td>0.0</td>\n",
       "      <td>1.0</td>\n",
       "      <td>...</td>\n",
       "      <td>0.0</td>\n",
       "      <td>1.0</td>\n",
       "      <td>0.0</td>\n",
       "      <td>6.0</td>\n",
       "      <td>4.0</td>\n",
       "      <td>2.0</td>\n",
       "      <td>6.0</td>\n",
       "      <td>6.0</td>\n",
       "      <td>0</td>\n",
       "      <td>0</td>\n",
       "    </tr>\n",
       "    <tr>\n",
       "      <th>8025</th>\n",
       "      <td>-0.880433</td>\n",
       "      <td>1.0</td>\n",
       "      <td>0.0</td>\n",
       "      <td>0.0</td>\n",
       "      <td>0.0</td>\n",
       "      <td>0.0</td>\n",
       "      <td>1.0</td>\n",
       "      <td>0.0</td>\n",
       "      <td>0.0</td>\n",
       "      <td>0.0</td>\n",
       "      <td>...</td>\n",
       "      <td>0.0</td>\n",
       "      <td>1.0</td>\n",
       "      <td>0.0</td>\n",
       "      <td>6.0</td>\n",
       "      <td>6.0</td>\n",
       "      <td>2.0</td>\n",
       "      <td>6.0</td>\n",
       "      <td>6.0</td>\n",
       "      <td>0</td>\n",
       "      <td>1</td>\n",
       "    </tr>\n",
       "    <tr>\n",
       "      <th>27095</th>\n",
       "      <td>0.234999</td>\n",
       "      <td>5.0</td>\n",
       "      <td>0.0</td>\n",
       "      <td>1.0</td>\n",
       "      <td>0.0</td>\n",
       "      <td>0.0</td>\n",
       "      <td>1.0</td>\n",
       "      <td>0.0</td>\n",
       "      <td>0.0</td>\n",
       "      <td>1.0</td>\n",
       "      <td>...</td>\n",
       "      <td>0.0</td>\n",
       "      <td>0.0</td>\n",
       "      <td>0.0</td>\n",
       "      <td>2.0</td>\n",
       "      <td>2.0</td>\n",
       "      <td>1.0</td>\n",
       "      <td>1.0</td>\n",
       "      <td>3.0</td>\n",
       "      <td>1</td>\n",
       "      <td>0</td>\n",
       "    </tr>\n",
       "    <tr>\n",
       "      <th>36365</th>\n",
       "      <td>-0.062877</td>\n",
       "      <td>5.0</td>\n",
       "      <td>0.0</td>\n",
       "      <td>0.0</td>\n",
       "      <td>0.0</td>\n",
       "      <td>0.0</td>\n",
       "      <td>0.0</td>\n",
       "      <td>0.0</td>\n",
       "      <td>1.0</td>\n",
       "      <td>1.0</td>\n",
       "      <td>...</td>\n",
       "      <td>0.0</td>\n",
       "      <td>1.0</td>\n",
       "      <td>0.0</td>\n",
       "      <td>4.0</td>\n",
       "      <td>0.0</td>\n",
       "      <td>6.0</td>\n",
       "      <td>0.0</td>\n",
       "      <td>1.0</td>\n",
       "      <td>1</td>\n",
       "      <td>1</td>\n",
       "    </tr>\n",
       "    <tr>\n",
       "      <th>25049</th>\n",
       "      <td>-0.506004</td>\n",
       "      <td>5.0</td>\n",
       "      <td>1.0</td>\n",
       "      <td>0.0</td>\n",
       "      <td>0.0</td>\n",
       "      <td>1.0</td>\n",
       "      <td>0.0</td>\n",
       "      <td>0.0</td>\n",
       "      <td>0.0</td>\n",
       "      <td>0.0</td>\n",
       "      <td>...</td>\n",
       "      <td>0.0</td>\n",
       "      <td>1.0</td>\n",
       "      <td>0.0</td>\n",
       "      <td>4.0</td>\n",
       "      <td>2.0</td>\n",
       "      <td>2.0</td>\n",
       "      <td>6.0</td>\n",
       "      <td>6.0</td>\n",
       "      <td>0</td>\n",
       "      <td>1</td>\n",
       "    </tr>\n",
       "    <tr>\n",
       "      <th>22598</th>\n",
       "      <td>0.234999</td>\n",
       "      <td>5.0</td>\n",
       "      <td>4.0</td>\n",
       "      <td>0.0</td>\n",
       "      <td>0.0</td>\n",
       "      <td>0.0</td>\n",
       "      <td>0.0</td>\n",
       "      <td>0.0</td>\n",
       "      <td>0.0</td>\n",
       "      <td>1.0</td>\n",
       "      <td>...</td>\n",
       "      <td>0.0</td>\n",
       "      <td>1.0</td>\n",
       "      <td>0.0</td>\n",
       "      <td>6.0</td>\n",
       "      <td>3.0</td>\n",
       "      <td>4.0</td>\n",
       "      <td>6.0</td>\n",
       "      <td>6.0</td>\n",
       "      <td>0</td>\n",
       "      <td>0</td>\n",
       "    </tr>\n",
       "    <tr>\n",
       "      <th>35136</th>\n",
       "      <td>1.068702</td>\n",
       "      <td>5.0</td>\n",
       "      <td>2.0</td>\n",
       "      <td>0.0</td>\n",
       "      <td>0.0</td>\n",
       "      <td>0.0</td>\n",
       "      <td>0.0</td>\n",
       "      <td>0.0</td>\n",
       "      <td>0.0</td>\n",
       "      <td>1.0</td>\n",
       "      <td>...</td>\n",
       "      <td>0.0</td>\n",
       "      <td>1.0</td>\n",
       "      <td>0.0</td>\n",
       "      <td>4.0</td>\n",
       "      <td>0.0</td>\n",
       "      <td>5.0</td>\n",
       "      <td>0.0</td>\n",
       "      <td>2.0</td>\n",
       "      <td>1</td>\n",
       "      <td>0</td>\n",
       "    </tr>\n",
       "    <tr>\n",
       "      <th>10929</th>\n",
       "      <td>0.994394</td>\n",
       "      <td>0.0</td>\n",
       "      <td>1.0</td>\n",
       "      <td>0.0</td>\n",
       "      <td>0.0</td>\n",
       "      <td>0.0</td>\n",
       "      <td>1.0</td>\n",
       "      <td>0.0</td>\n",
       "      <td>0.0</td>\n",
       "      <td>1.0</td>\n",
       "      <td>...</td>\n",
       "      <td>0.0</td>\n",
       "      <td>1.0</td>\n",
       "      <td>0.0</td>\n",
       "      <td>6.0</td>\n",
       "      <td>6.0</td>\n",
       "      <td>2.0</td>\n",
       "      <td>6.0</td>\n",
       "      <td>6.0</td>\n",
       "      <td>0</td>\n",
       "      <td>0</td>\n",
       "    </tr>\n",
       "    <tr>\n",
       "      <th>3173</th>\n",
       "      <td>1.212287</td>\n",
       "      <td>1.0</td>\n",
       "      <td>2.0</td>\n",
       "      <td>0.0</td>\n",
       "      <td>1.0</td>\n",
       "      <td>0.0</td>\n",
       "      <td>0.0</td>\n",
       "      <td>0.0</td>\n",
       "      <td>0.0</td>\n",
       "      <td>1.0</td>\n",
       "      <td>...</td>\n",
       "      <td>0.0</td>\n",
       "      <td>1.0</td>\n",
       "      <td>0.0</td>\n",
       "      <td>6.0</td>\n",
       "      <td>4.0</td>\n",
       "      <td>4.0</td>\n",
       "      <td>6.0</td>\n",
       "      <td>6.0</td>\n",
       "      <td>0</td>\n",
       "      <td>0</td>\n",
       "    </tr>\n",
       "    <tr>\n",
       "      <th>23298</th>\n",
       "      <td>-0.626376</td>\n",
       "      <td>3.0</td>\n",
       "      <td>0.0</td>\n",
       "      <td>0.0</td>\n",
       "      <td>0.0</td>\n",
       "      <td>0.0</td>\n",
       "      <td>1.0</td>\n",
       "      <td>0.0</td>\n",
       "      <td>0.0</td>\n",
       "      <td>1.0</td>\n",
       "      <td>...</td>\n",
       "      <td>0.0</td>\n",
       "      <td>1.0</td>\n",
       "      <td>0.0</td>\n",
       "      <td>4.0</td>\n",
       "      <td>2.0</td>\n",
       "      <td>2.0</td>\n",
       "      <td>6.0</td>\n",
       "      <td>6.0</td>\n",
       "      <td>0</td>\n",
       "      <td>0</td>\n",
       "    </tr>\n",
       "    <tr>\n",
       "      <th>28182</th>\n",
       "      <td>0.508298</td>\n",
       "      <td>3.0</td>\n",
       "      <td>2.0</td>\n",
       "      <td>0.0</td>\n",
       "      <td>1.0</td>\n",
       "      <td>0.0</td>\n",
       "      <td>0.0</td>\n",
       "      <td>0.0</td>\n",
       "      <td>0.0</td>\n",
       "      <td>1.0</td>\n",
       "      <td>...</td>\n",
       "      <td>0.0</td>\n",
       "      <td>1.0</td>\n",
       "      <td>0.0</td>\n",
       "      <td>2.0</td>\n",
       "      <td>2.0</td>\n",
       "      <td>1.0</td>\n",
       "      <td>1.0</td>\n",
       "      <td>3.0</td>\n",
       "      <td>1</td>\n",
       "      <td>0</td>\n",
       "    </tr>\n",
       "    <tr>\n",
       "      <th>12839</th>\n",
       "      <td>1.141310</td>\n",
       "      <td>1.0</td>\n",
       "      <td>0.0</td>\n",
       "      <td>0.0</td>\n",
       "      <td>0.0</td>\n",
       "      <td>0.0</td>\n",
       "      <td>1.0</td>\n",
       "      <td>0.0</td>\n",
       "      <td>0.0</td>\n",
       "      <td>1.0</td>\n",
       "      <td>...</td>\n",
       "      <td>1.0</td>\n",
       "      <td>1.0</td>\n",
       "      <td>0.0</td>\n",
       "      <td>6.0</td>\n",
       "      <td>4.0</td>\n",
       "      <td>2.0</td>\n",
       "      <td>6.0</td>\n",
       "      <td>6.0</td>\n",
       "      <td>0</td>\n",
       "      <td>0</td>\n",
       "    </tr>\n",
       "    <tr>\n",
       "      <th>33172</th>\n",
       "      <td>1.212287</td>\n",
       "      <td>4.0</td>\n",
       "      <td>0.0</td>\n",
       "      <td>0.0</td>\n",
       "      <td>0.0</td>\n",
       "      <td>0.0</td>\n",
       "      <td>0.0</td>\n",
       "      <td>0.0</td>\n",
       "      <td>0.0</td>\n",
       "      <td>1.0</td>\n",
       "      <td>...</td>\n",
       "      <td>0.0</td>\n",
       "      <td>1.0</td>\n",
       "      <td>0.0</td>\n",
       "      <td>2.0</td>\n",
       "      <td>1.0</td>\n",
       "      <td>1.0</td>\n",
       "      <td>0.0</td>\n",
       "      <td>3.0</td>\n",
       "      <td>1</td>\n",
       "      <td>0</td>\n",
       "    </tr>\n",
       "    <tr>\n",
       "      <th>4900</th>\n",
       "      <td>0.994394</td>\n",
       "      <td>3.0</td>\n",
       "      <td>3.0</td>\n",
       "      <td>0.0</td>\n",
       "      <td>0.0</td>\n",
       "      <td>0.0</td>\n",
       "      <td>0.0</td>\n",
       "      <td>0.0</td>\n",
       "      <td>0.0</td>\n",
       "      <td>0.0</td>\n",
       "      <td>...</td>\n",
       "      <td>0.0</td>\n",
       "      <td>1.0</td>\n",
       "      <td>0.0</td>\n",
       "      <td>6.0</td>\n",
       "      <td>4.0</td>\n",
       "      <td>4.0</td>\n",
       "      <td>6.0</td>\n",
       "      <td>6.0</td>\n",
       "      <td>0</td>\n",
       "      <td>0</td>\n",
       "    </tr>\n",
       "    <tr>\n",
       "      <th>19935</th>\n",
       "      <td>1.068702</td>\n",
       "      <td>5.0</td>\n",
       "      <td>0.0</td>\n",
       "      <td>0.0</td>\n",
       "      <td>0.0</td>\n",
       "      <td>1.0</td>\n",
       "      <td>0.0</td>\n",
       "      <td>0.0</td>\n",
       "      <td>0.0</td>\n",
       "      <td>1.0</td>\n",
       "      <td>...</td>\n",
       "      <td>0.0</td>\n",
       "      <td>1.0</td>\n",
       "      <td>0.0</td>\n",
       "      <td>6.0</td>\n",
       "      <td>3.0</td>\n",
       "      <td>4.0</td>\n",
       "      <td>6.0</td>\n",
       "      <td>6.0</td>\n",
       "      <td>0</td>\n",
       "      <td>0</td>\n",
       "    </tr>\n",
       "    <tr>\n",
       "      <th>18396</th>\n",
       "      <td>0.508298</td>\n",
       "      <td>1.0</td>\n",
       "      <td>0.0</td>\n",
       "      <td>0.0</td>\n",
       "      <td>1.0</td>\n",
       "      <td>0.0</td>\n",
       "      <td>0.0</td>\n",
       "      <td>0.0</td>\n",
       "      <td>0.0</td>\n",
       "      <td>1.0</td>\n",
       "      <td>...</td>\n",
       "      <td>1.0</td>\n",
       "      <td>1.0</td>\n",
       "      <td>0.0</td>\n",
       "      <td>6.0</td>\n",
       "      <td>3.0</td>\n",
       "      <td>4.0</td>\n",
       "      <td>6.0</td>\n",
       "      <td>6.0</td>\n",
       "      <td>0</td>\n",
       "      <td>0</td>\n",
       "    </tr>\n",
       "    <tr>\n",
       "      <th>34498</th>\n",
       "      <td>-1.014739</td>\n",
       "      <td>5.0</td>\n",
       "      <td>1.0</td>\n",
       "      <td>0.0</td>\n",
       "      <td>0.0</td>\n",
       "      <td>0.0</td>\n",
       "      <td>0.0</td>\n",
       "      <td>0.0</td>\n",
       "      <td>0.0</td>\n",
       "      <td>1.0</td>\n",
       "      <td>...</td>\n",
       "      <td>0.0</td>\n",
       "      <td>1.0</td>\n",
       "      <td>0.0</td>\n",
       "      <td>4.0</td>\n",
       "      <td>2.0</td>\n",
       "      <td>2.0</td>\n",
       "      <td>0.0</td>\n",
       "      <td>2.0</td>\n",
       "      <td>1</td>\n",
       "      <td>1</td>\n",
       "    </tr>\n",
       "  </tbody>\n",
       "</table>\n",
       "<p>20 rows × 36 columns</p>\n",
       "</div>"
      ],
      "text/plain": [
       "              0    1    2    3    4    5    6    7    8    9  ...   26   27  \\\n",
       "22948 -0.062877  1.0  0.0  0.0  1.0  0.0  0.0  0.0  0.0  1.0  ...  0.0  1.0   \n",
       "34024 -0.277228  5.0  0.0  0.0  0.0  0.0  1.0  0.0  0.0  1.0  ...  0.0  1.0   \n",
       "29958  0.234999  2.0  0.0  0.0  1.0  0.0  0.0  0.0  0.0  1.0  ...  0.0  1.0   \n",
       "16186 -0.626376  5.0  2.0  0.0  0.0  0.0  0.0  0.0  0.0  1.0  ...  0.0  1.0   \n",
       "8025  -0.880433  1.0  0.0  0.0  0.0  0.0  1.0  0.0  0.0  0.0  ...  0.0  1.0   \n",
       "27095  0.234999  5.0  0.0  1.0  0.0  0.0  1.0  0.0  0.0  1.0  ...  0.0  0.0   \n",
       "36365 -0.062877  5.0  0.0  0.0  0.0  0.0  0.0  0.0  1.0  1.0  ...  0.0  1.0   \n",
       "25049 -0.506004  5.0  1.0  0.0  0.0  1.0  0.0  0.0  0.0  0.0  ...  0.0  1.0   \n",
       "22598  0.234999  5.0  4.0  0.0  0.0  0.0  0.0  0.0  0.0  1.0  ...  0.0  1.0   \n",
       "35136  1.068702  5.0  2.0  0.0  0.0  0.0  0.0  0.0  0.0  1.0  ...  0.0  1.0   \n",
       "10929  0.994394  0.0  1.0  0.0  0.0  0.0  1.0  0.0  0.0  1.0  ...  0.0  1.0   \n",
       "3173   1.212287  1.0  2.0  0.0  1.0  0.0  0.0  0.0  0.0  1.0  ...  0.0  1.0   \n",
       "23298 -0.626376  3.0  0.0  0.0  0.0  0.0  1.0  0.0  0.0  1.0  ...  0.0  1.0   \n",
       "28182  0.508298  3.0  2.0  0.0  1.0  0.0  0.0  0.0  0.0  1.0  ...  0.0  1.0   \n",
       "12839  1.141310  1.0  0.0  0.0  0.0  0.0  1.0  0.0  0.0  1.0  ...  1.0  1.0   \n",
       "33172  1.212287  4.0  0.0  0.0  0.0  0.0  0.0  0.0  0.0  1.0  ...  0.0  1.0   \n",
       "4900   0.994394  3.0  3.0  0.0  0.0  0.0  0.0  0.0  0.0  0.0  ...  0.0  1.0   \n",
       "19935  1.068702  5.0  0.0  0.0  0.0  1.0  0.0  0.0  0.0  1.0  ...  0.0  1.0   \n",
       "18396  0.508298  1.0  0.0  0.0  1.0  0.0  0.0  0.0  0.0  1.0  ...  1.0  1.0   \n",
       "34498 -1.014739  5.0  1.0  0.0  0.0  0.0  0.0  0.0  0.0  1.0  ...  0.0  1.0   \n",
       "\n",
       "        28   29   30   31   32   33  cluster  target  \n",
       "22948  0.0  4.0  2.0  2.0  6.0  6.0        0       0  \n",
       "34024  0.0  2.0  1.0  1.0  0.0  3.0        1       0  \n",
       "29958  0.0  2.0  1.0  1.0  1.0  3.0        1       0  \n",
       "16186  0.0  6.0  4.0  2.0  6.0  6.0        0       0  \n",
       "8025   0.0  6.0  6.0  2.0  6.0  6.0        0       1  \n",
       "27095  0.0  2.0  2.0  1.0  1.0  3.0        1       0  \n",
       "36365  0.0  4.0  0.0  6.0  0.0  1.0        1       1  \n",
       "25049  0.0  4.0  2.0  2.0  6.0  6.0        0       1  \n",
       "22598  0.0  6.0  3.0  4.0  6.0  6.0        0       0  \n",
       "35136  0.0  4.0  0.0  5.0  0.0  2.0        1       0  \n",
       "10929  0.0  6.0  6.0  2.0  6.0  6.0        0       0  \n",
       "3173   0.0  6.0  4.0  4.0  6.0  6.0        0       0  \n",
       "23298  0.0  4.0  2.0  2.0  6.0  6.0        0       0  \n",
       "28182  0.0  2.0  2.0  1.0  1.0  3.0        1       0  \n",
       "12839  0.0  6.0  4.0  2.0  6.0  6.0        0       0  \n",
       "33172  0.0  2.0  1.0  1.0  0.0  3.0        1       0  \n",
       "4900   0.0  6.0  4.0  4.0  6.0  6.0        0       0  \n",
       "19935  0.0  6.0  3.0  4.0  6.0  6.0        0       0  \n",
       "18396  0.0  6.0  3.0  4.0  6.0  6.0        0       0  \n",
       "34498  0.0  4.0  2.0  2.0  0.0  2.0        1       1  \n",
       "\n",
       "[20 rows x 36 columns]"
      ]
     },
     "execution_count": 70,
     "metadata": {},
     "output_type": "execute_result"
    }
   ],
   "source": [
    "Final_X['target'] = Final_Y\n",
    "\n",
    "Final_X.sample(20)"
   ]
  },
  {
   "cell_type": "code",
   "execution_count": 71,
   "id": "80d0d644",
   "metadata": {},
   "outputs": [],
   "source": [
    "## creating dataframes for both clusters seperatly\n",
    "\n",
    "df_cluster0 = Final_X.loc[Final_X['cluster']== 0]\n",
    "\n",
    "df_cluster1 = Final_X.loc[Final_X['cluster']== 1]"
   ]
  },
  {
   "cell_type": "code",
   "execution_count": 72,
   "id": "83c22e72",
   "metadata": {},
   "outputs": [
    {
     "name": "stdout",
     "output_type": "stream",
     "text": [
      "(26101, 36)\n",
      "(13079, 36)\n"
     ]
    }
   ],
   "source": [
    "## Lets see the shape of both the dataframe\n",
    "\n",
    "print(df_cluster0.shape)\n",
    "\n",
    "print(df_cluster1.shape)"
   ]
  },
  {
   "cell_type": "code",
   "execution_count": 73,
   "id": "756bfe83",
   "metadata": {},
   "outputs": [
    {
     "name": "stdout",
     "output_type": "stream",
     "text": [
      "Percentage of data in cluster 0 is 66.6%\n",
      "Percentage of data in cluster 1 is 33.4%\n"
     ]
    }
   ],
   "source": [
    "print(f\"Percentage of data in cluster 0 is {np.round(26101/(26101+13079) * 100, 1)}%\")\n",
    "\n",
    "print(f\"Percentage of data in cluster 1 is {np.round(13079/(26101+13079) * 100, 1)}%\")"
   ]
  },
  {
   "cell_type": "markdown",
   "id": "5766f8f8",
   "metadata": {},
   "source": [
    "##### Note: Cluster 0 have more data compared to Cluster 1"
   ]
  },
  {
   "cell_type": "code",
   "execution_count": 74,
   "id": "36fa7e2e",
   "metadata": {},
   "outputs": [],
   "source": [
    "## Lets see what is the count of target in both the cluster"
   ]
  },
  {
   "cell_type": "code",
   "execution_count": 75,
   "id": "a8e2b1d0",
   "metadata": {},
   "outputs": [
    {
     "data": {
      "text/plain": [
       "0    24772\n",
       "1     1329\n",
       "Name: target, dtype: int64"
      ]
     },
     "execution_count": 75,
     "metadata": {},
     "output_type": "execute_result"
    }
   ],
   "source": [
    "df_cluster0['target'].value_counts()"
   ]
  },
  {
   "cell_type": "markdown",
   "id": "de541828",
   "metadata": {},
   "source": [
    "### Dataset created for Cluster 0"
   ]
  },
  {
   "cell_type": "code",
   "execution_count": 76,
   "id": "bce4d285",
   "metadata": {},
   "outputs": [
    {
     "data": {
      "text/plain": [
       "<AxesSubplot:xlabel='target', ylabel='count'>"
      ]
     },
     "execution_count": 76,
     "metadata": {},
     "output_type": "execute_result"
    },
    {
     "data": {
      "image/png": "[encoded data removed]",
      "text/plain": [
       "<Figure size 640x480 with 1 Axes>"
      ]
     },
     "metadata": {},
     "output_type": "display_data"
    }
   ],
   "source": [
    "sns.countplot(data = df_cluster0, x = 'target')"
   ]
  },
  {
   "cell_type": "code",
   "execution_count": 77,
   "id": "de5135bb",
   "metadata": {},
   "outputs": [
    {
     "data": {
      "text/plain": [
       "0    9817\n",
       "1    3262\n",
       "Name: target, dtype: int64"
      ]
     },
     "execution_count": 77,
     "metadata": {},
     "output_type": "execute_result"
    }
   ],
   "source": [
    "df_cluster1['target'].value_counts()"
   ]
  },
  {
   "cell_type": "markdown",
   "id": "fbdc27aa",
   "metadata": {},
   "source": [
    "### Dataset created for Cluster 1"
   ]
  },
  {
   "cell_type": "code",
   "execution_count": 78,
   "id": "75841593",
   "metadata": {},
   "outputs": [
    {
     "data": {
      "text/plain": [
       "<AxesSubplot:xlabel='target', ylabel='count'>"
      ]
     },
     "execution_count": 78,
     "metadata": {},
     "output_type": "execute_result"
    },
    {
     "data": {
      "image/png": "[encoded data removed]",
      "text/plain": [
       "<Figure size 640x480 with 1 Axes>"
      ]
     },
     "metadata": {},
     "output_type": "display_data"
    }
   ],
   "source": [
    "sns.countplot(data = df_cluster1, x = 'target')"
   ]
  },
  {
   "cell_type": "markdown",
   "id": "56c6094f",
   "metadata": {},
   "source": [
    "##### Note: The Cluster 0 have highly Imbalanced data, Cluster 1 have comparitively less Imbalanced data"
   ]
  },
  {
   "cell_type": "markdown",
   "id": "0eb6961b",
   "metadata": {},
   "source": [
    "### Final data set is ready for both cluster 0 and cluster 1"
   ]
  },
  {
   "cell_type": "code",
   "execution_count": 79,
   "id": "965d00f5",
   "metadata": {},
   "outputs": [
    {
     "data": {
      "text/html": [
       "<div>\n",
       "<style scoped>\n",
       "    .dataframe tbody tr th:only-of-type {\n",
       "        vertical-align: middle;\n",
       "    }\n",
       "\n",
       "    .dataframe tbody tr th {\n",
       "        vertical-align: top;\n",
       "    }\n",
       "\n",
       "    .dataframe thead th {\n",
       "        text-align: right;\n",
       "    }\n",
       "</style>\n",
       "<table border=\"1\" class=\"dataframe\">\n",
       "  <thead>\n",
       "    <tr style=\"text-align: right;\">\n",
       "      <th></th>\n",
       "      <th>0</th>\n",
       "      <th>1</th>\n",
       "      <th>2</th>\n",
       "      <th>3</th>\n",
       "      <th>4</th>\n",
       "      <th>5</th>\n",
       "      <th>6</th>\n",
       "      <th>7</th>\n",
       "      <th>8</th>\n",
       "      <th>9</th>\n",
       "      <th>...</th>\n",
       "      <th>26</th>\n",
       "      <th>27</th>\n",
       "      <th>28</th>\n",
       "      <th>29</th>\n",
       "      <th>30</th>\n",
       "      <th>31</th>\n",
       "      <th>32</th>\n",
       "      <th>33</th>\n",
       "      <th>cluster</th>\n",
       "      <th>target</th>\n",
       "    </tr>\n",
       "  </thead>\n",
       "  <tbody>\n",
       "    <tr>\n",
       "      <th>0</th>\n",
       "      <td>1.416073</td>\n",
       "      <td>1.0</td>\n",
       "      <td>0.0</td>\n",
       "      <td>0.0</td>\n",
       "      <td>0.0</td>\n",
       "      <td>0.0</td>\n",
       "      <td>1.0</td>\n",
       "      <td>0.0</td>\n",
       "      <td>0.0</td>\n",
       "      <td>1.0</td>\n",
       "      <td>...</td>\n",
       "      <td>0.0</td>\n",
       "      <td>1.0</td>\n",
       "      <td>0.0</td>\n",
       "      <td>6.0</td>\n",
       "      <td>4.0</td>\n",
       "      <td>4.0</td>\n",
       "      <td>6.0</td>\n",
       "      <td>6.0</td>\n",
       "      <td>0</td>\n",
       "      <td>0</td>\n",
       "    </tr>\n",
       "    <tr>\n",
       "      <th>1</th>\n",
       "      <td>1.481148</td>\n",
       "      <td>4.0</td>\n",
       "      <td>0.0</td>\n",
       "      <td>0.0</td>\n",
       "      <td>0.0</td>\n",
       "      <td>0.0</td>\n",
       "      <td>0.0</td>\n",
       "      <td>1.0</td>\n",
       "      <td>0.0</td>\n",
       "      <td>1.0</td>\n",
       "      <td>...</td>\n",
       "      <td>0.0</td>\n",
       "      <td>1.0</td>\n",
       "      <td>0.0</td>\n",
       "      <td>6.0</td>\n",
       "      <td>4.0</td>\n",
       "      <td>4.0</td>\n",
       "      <td>6.0</td>\n",
       "      <td>6.0</td>\n",
       "      <td>0</td>\n",
       "      <td>0</td>\n",
       "    </tr>\n",
       "    <tr>\n",
       "      <th>2</th>\n",
       "      <td>-0.168355</td>\n",
       "      <td>4.0</td>\n",
       "      <td>0.0</td>\n",
       "      <td>0.0</td>\n",
       "      <td>0.0</td>\n",
       "      <td>0.0</td>\n",
       "      <td>0.0</td>\n",
       "      <td>1.0</td>\n",
       "      <td>0.0</td>\n",
       "      <td>1.0</td>\n",
       "      <td>...</td>\n",
       "      <td>0.0</td>\n",
       "      <td>1.0</td>\n",
       "      <td>0.0</td>\n",
       "      <td>6.0</td>\n",
       "      <td>4.0</td>\n",
       "      <td>4.0</td>\n",
       "      <td>6.0</td>\n",
       "      <td>6.0</td>\n",
       "      <td>0</td>\n",
       "      <td>0</td>\n",
       "    </tr>\n",
       "    <tr>\n",
       "      <th>3</th>\n",
       "      <td>0.138632</td>\n",
       "      <td>2.0</td>\n",
       "      <td>0.0</td>\n",
       "      <td>0.0</td>\n",
       "      <td>0.0</td>\n",
       "      <td>0.0</td>\n",
       "      <td>0.0</td>\n",
       "      <td>0.0</td>\n",
       "      <td>0.0</td>\n",
       "      <td>1.0</td>\n",
       "      <td>...</td>\n",
       "      <td>0.0</td>\n",
       "      <td>1.0</td>\n",
       "      <td>0.0</td>\n",
       "      <td>6.0</td>\n",
       "      <td>4.0</td>\n",
       "      <td>4.0</td>\n",
       "      <td>6.0</td>\n",
       "      <td>6.0</td>\n",
       "      <td>0</td>\n",
       "      <td>0</td>\n",
       "    </tr>\n",
       "    <tr>\n",
       "      <th>4</th>\n",
       "      <td>1.416073</td>\n",
       "      <td>4.0</td>\n",
       "      <td>0.0</td>\n",
       "      <td>0.0</td>\n",
       "      <td>0.0</td>\n",
       "      <td>0.0</td>\n",
       "      <td>0.0</td>\n",
       "      <td>1.0</td>\n",
       "      <td>0.0</td>\n",
       "      <td>1.0</td>\n",
       "      <td>...</td>\n",
       "      <td>0.0</td>\n",
       "      <td>1.0</td>\n",
       "      <td>0.0</td>\n",
       "      <td>6.0</td>\n",
       "      <td>4.0</td>\n",
       "      <td>4.0</td>\n",
       "      <td>6.0</td>\n",
       "      <td>6.0</td>\n",
       "      <td>0</td>\n",
       "      <td>0</td>\n",
       "    </tr>\n",
       "  </tbody>\n",
       "</table>\n",
       "<p>5 rows × 36 columns</p>\n",
       "</div>"
      ],
      "text/plain": [
       "          0    1    2    3    4    5    6    7    8    9  ...   26   27   28  \\\n",
       "0  1.416073  1.0  0.0  0.0  0.0  0.0  1.0  0.0  0.0  1.0  ...  0.0  1.0  0.0   \n",
       "1  1.481148  4.0  0.0  0.0  0.0  0.0  0.0  1.0  0.0  1.0  ...  0.0  1.0  0.0   \n",
       "2 -0.168355  4.0  0.0  0.0  0.0  0.0  0.0  1.0  0.0  1.0  ...  0.0  1.0  0.0   \n",
       "3  0.138632  2.0  0.0  0.0  0.0  0.0  0.0  0.0  0.0  1.0  ...  0.0  1.0  0.0   \n",
       "4  1.416073  4.0  0.0  0.0  0.0  0.0  0.0  1.0  0.0  1.0  ...  0.0  1.0  0.0   \n",
       "\n",
       "    29   30   31   32   33  cluster  target  \n",
       "0  6.0  4.0  4.0  6.0  6.0        0       0  \n",
       "1  6.0  4.0  4.0  6.0  6.0        0       0  \n",
       "2  6.0  4.0  4.0  6.0  6.0        0       0  \n",
       "3  6.0  4.0  4.0  6.0  6.0        0       0  \n",
       "4  6.0  4.0  4.0  6.0  6.0        0       0  \n",
       "\n",
       "[5 rows x 36 columns]"
      ]
     },
     "execution_count": 79,
     "metadata": {},
     "output_type": "execute_result"
    }
   ],
   "source": [
    "df_cluster0.head()"
   ]
  },
  {
   "cell_type": "code",
   "execution_count": 80,
   "id": "62c8c8b5",
   "metadata": {},
   "outputs": [
    {
     "data": {
      "text/html": [
       "<div>\n",
       "<style scoped>\n",
       "    .dataframe tbody tr th:only-of-type {\n",
       "        vertical-align: middle;\n",
       "    }\n",
       "\n",
       "    .dataframe tbody tr th {\n",
       "        vertical-align: top;\n",
       "    }\n",
       "\n",
       "    .dataframe thead th {\n",
       "        text-align: right;\n",
       "    }\n",
       "</style>\n",
       "<table border=\"1\" class=\"dataframe\">\n",
       "  <thead>\n",
       "    <tr style=\"text-align: right;\">\n",
       "      <th></th>\n",
       "      <th>0</th>\n",
       "      <th>1</th>\n",
       "      <th>2</th>\n",
       "      <th>3</th>\n",
       "      <th>4</th>\n",
       "      <th>5</th>\n",
       "      <th>6</th>\n",
       "      <th>7</th>\n",
       "      <th>8</th>\n",
       "      <th>9</th>\n",
       "      <th>...</th>\n",
       "      <th>26</th>\n",
       "      <th>27</th>\n",
       "      <th>28</th>\n",
       "      <th>29</th>\n",
       "      <th>30</th>\n",
       "      <th>31</th>\n",
       "      <th>32</th>\n",
       "      <th>33</th>\n",
       "      <th>cluster</th>\n",
       "      <th>target</th>\n",
       "    </tr>\n",
       "  </thead>\n",
       "  <tbody>\n",
       "    <tr>\n",
       "      <th>0</th>\n",
       "      <td>1.416073</td>\n",
       "      <td>1.0</td>\n",
       "      <td>0.0</td>\n",
       "      <td>0.0</td>\n",
       "      <td>0.0</td>\n",
       "      <td>0.0</td>\n",
       "      <td>1.0</td>\n",
       "      <td>0.0</td>\n",
       "      <td>0.0</td>\n",
       "      <td>1.0</td>\n",
       "      <td>...</td>\n",
       "      <td>0.0</td>\n",
       "      <td>1.0</td>\n",
       "      <td>0.0</td>\n",
       "      <td>6.0</td>\n",
       "      <td>4.0</td>\n",
       "      <td>4.0</td>\n",
       "      <td>6.0</td>\n",
       "      <td>6.0</td>\n",
       "      <td>0</td>\n",
       "      <td>0</td>\n",
       "    </tr>\n",
       "    <tr>\n",
       "      <th>1</th>\n",
       "      <td>1.481148</td>\n",
       "      <td>4.0</td>\n",
       "      <td>0.0</td>\n",
       "      <td>0.0</td>\n",
       "      <td>0.0</td>\n",
       "      <td>0.0</td>\n",
       "      <td>0.0</td>\n",
       "      <td>1.0</td>\n",
       "      <td>0.0</td>\n",
       "      <td>1.0</td>\n",
       "      <td>...</td>\n",
       "      <td>0.0</td>\n",
       "      <td>1.0</td>\n",
       "      <td>0.0</td>\n",
       "      <td>6.0</td>\n",
       "      <td>4.0</td>\n",
       "      <td>4.0</td>\n",
       "      <td>6.0</td>\n",
       "      <td>6.0</td>\n",
       "      <td>0</td>\n",
       "      <td>0</td>\n",
       "    </tr>\n",
       "    <tr>\n",
       "      <th>2</th>\n",
       "      <td>-0.168355</td>\n",
       "      <td>4.0</td>\n",
       "      <td>0.0</td>\n",
       "      <td>0.0</td>\n",
       "      <td>0.0</td>\n",
       "      <td>0.0</td>\n",
       "      <td>0.0</td>\n",
       "      <td>1.0</td>\n",
       "      <td>0.0</td>\n",
       "      <td>1.0</td>\n",
       "      <td>...</td>\n",
       "      <td>0.0</td>\n",
       "      <td>1.0</td>\n",
       "      <td>0.0</td>\n",
       "      <td>6.0</td>\n",
       "      <td>4.0</td>\n",
       "      <td>4.0</td>\n",
       "      <td>6.0</td>\n",
       "      <td>6.0</td>\n",
       "      <td>0</td>\n",
       "      <td>0</td>\n",
       "    </tr>\n",
       "    <tr>\n",
       "      <th>3</th>\n",
       "      <td>0.138632</td>\n",
       "      <td>2.0</td>\n",
       "      <td>0.0</td>\n",
       "      <td>0.0</td>\n",
       "      <td>0.0</td>\n",
       "      <td>0.0</td>\n",
       "      <td>0.0</td>\n",
       "      <td>0.0</td>\n",
       "      <td>0.0</td>\n",
       "      <td>1.0</td>\n",
       "      <td>...</td>\n",
       "      <td>0.0</td>\n",
       "      <td>1.0</td>\n",
       "      <td>0.0</td>\n",
       "      <td>6.0</td>\n",
       "      <td>4.0</td>\n",
       "      <td>4.0</td>\n",
       "      <td>6.0</td>\n",
       "      <td>6.0</td>\n",
       "      <td>0</td>\n",
       "      <td>0</td>\n",
       "    </tr>\n",
       "    <tr>\n",
       "      <th>4</th>\n",
       "      <td>1.416073</td>\n",
       "      <td>4.0</td>\n",
       "      <td>0.0</td>\n",
       "      <td>0.0</td>\n",
       "      <td>0.0</td>\n",
       "      <td>0.0</td>\n",
       "      <td>0.0</td>\n",
       "      <td>1.0</td>\n",
       "      <td>0.0</td>\n",
       "      <td>1.0</td>\n",
       "      <td>...</td>\n",
       "      <td>0.0</td>\n",
       "      <td>1.0</td>\n",
       "      <td>0.0</td>\n",
       "      <td>6.0</td>\n",
       "      <td>4.0</td>\n",
       "      <td>4.0</td>\n",
       "      <td>6.0</td>\n",
       "      <td>6.0</td>\n",
       "      <td>0</td>\n",
       "      <td>0</td>\n",
       "    </tr>\n",
       "  </tbody>\n",
       "</table>\n",
       "<p>5 rows × 36 columns</p>\n",
       "</div>"
      ],
      "text/plain": [
       "          0    1    2    3    4    5    6    7    8    9  ...   26   27   28  \\\n",
       "0  1.416073  1.0  0.0  0.0  0.0  0.0  1.0  0.0  0.0  1.0  ...  0.0  1.0  0.0   \n",
       "1  1.481148  4.0  0.0  0.0  0.0  0.0  0.0  1.0  0.0  1.0  ...  0.0  1.0  0.0   \n",
       "2 -0.168355  4.0  0.0  0.0  0.0  0.0  0.0  1.0  0.0  1.0  ...  0.0  1.0  0.0   \n",
       "3  0.138632  2.0  0.0  0.0  0.0  0.0  0.0  0.0  0.0  1.0  ...  0.0  1.0  0.0   \n",
       "4  1.416073  4.0  0.0  0.0  0.0  0.0  0.0  1.0  0.0  1.0  ...  0.0  1.0  0.0   \n",
       "\n",
       "    29   30   31   32   33  cluster  target  \n",
       "0  6.0  4.0  4.0  6.0  6.0        0       0  \n",
       "1  6.0  4.0  4.0  6.0  6.0        0       0  \n",
       "2  6.0  4.0  4.0  6.0  6.0        0       0  \n",
       "3  6.0  4.0  4.0  6.0  6.0        0       0  \n",
       "4  6.0  4.0  4.0  6.0  6.0        0       0  \n",
       "\n",
       "[5 rows x 36 columns]"
      ]
     },
     "execution_count": 80,
     "metadata": {},
     "output_type": "execute_result"
    }
   ],
   "source": [
    "df_cluster0.head()"
   ]
  },
  {
   "cell_type": "code",
   "execution_count": null,
   "id": "8732a29c",
   "metadata": {},
   "outputs": [],
   "source": []
  },
  {
   "cell_type": "markdown",
   "id": "379a5299",
   "metadata": {},
   "source": [
    "## Model Training"
   ]
  },
  {
   "cell_type": "code",
   "execution_count": 81,
   "id": "2399dc2f",
   "metadata": {},
   "outputs": [],
   "source": [
    "## Creating a copy of data"
   ]
  },
  {
   "cell_type": "code",
   "execution_count": 82,
   "id": "7ff2d716",
   "metadata": {},
   "outputs": [],
   "source": [
    "Cluster0 = df_cluster0\n",
    "Cluster1 = df_cluster1"
   ]
  },
  {
   "cell_type": "code",
   "execution_count": 83,
   "id": "6d55504b",
   "metadata": {},
   "outputs": [
    {
     "data": {
      "text/plain": [
       "(26101, 36)"
      ]
     },
     "execution_count": 83,
     "metadata": {},
     "output_type": "execute_result"
    }
   ],
   "source": [
    "Cluster0.shape"
   ]
  },
  {
   "cell_type": "code",
   "execution_count": 84,
   "id": "6f2abf32",
   "metadata": {},
   "outputs": [
    {
     "data": {
      "text/plain": [
       "(13079, 36)"
      ]
     },
     "execution_count": 84,
     "metadata": {},
     "output_type": "execute_result"
    }
   ],
   "source": [
    "Cluster1.shape"
   ]
  },
  {
   "cell_type": "markdown",
   "id": "df4a6b49",
   "metadata": {},
   "source": [
    "#### Seperating X and Y for both Cluster data"
   ]
  },
  {
   "cell_type": "code",
   "execution_count": 85,
   "id": "fed133a1",
   "metadata": {},
   "outputs": [],
   "source": [
    "X_Cluster0  = Cluster0.drop(['cluster', 'target'], axis='columns')\n",
    "\n",
    "Y_Cluster0 = Cluster0['target']"
   ]
  },
  {
   "cell_type": "code",
   "execution_count": 86,
   "id": "58048e9b",
   "metadata": {},
   "outputs": [
    {
     "data": {
      "text/html": [
       "<div>\n",
       "<style scoped>\n",
       "    .dataframe tbody tr th:only-of-type {\n",
       "        vertical-align: middle;\n",
       "    }\n",
       "\n",
       "    .dataframe tbody tr th {\n",
       "        vertical-align: top;\n",
       "    }\n",
       "\n",
       "    .dataframe thead th {\n",
       "        text-align: right;\n",
       "    }\n",
       "</style>\n",
       "<table border=\"1\" class=\"dataframe\">\n",
       "  <thead>\n",
       "    <tr style=\"text-align: right;\">\n",
       "      <th></th>\n",
       "      <th>0</th>\n",
       "      <th>1</th>\n",
       "      <th>2</th>\n",
       "      <th>3</th>\n",
       "      <th>4</th>\n",
       "      <th>5</th>\n",
       "      <th>6</th>\n",
       "      <th>7</th>\n",
       "      <th>8</th>\n",
       "      <th>9</th>\n",
       "      <th>...</th>\n",
       "      <th>24</th>\n",
       "      <th>25</th>\n",
       "      <th>26</th>\n",
       "      <th>27</th>\n",
       "      <th>28</th>\n",
       "      <th>29</th>\n",
       "      <th>30</th>\n",
       "      <th>31</th>\n",
       "      <th>32</th>\n",
       "      <th>33</th>\n",
       "    </tr>\n",
       "  </thead>\n",
       "  <tbody>\n",
       "    <tr>\n",
       "      <th>0</th>\n",
       "      <td>1.416073</td>\n",
       "      <td>1.0</td>\n",
       "      <td>0.0</td>\n",
       "      <td>0.0</td>\n",
       "      <td>0.0</td>\n",
       "      <td>0.0</td>\n",
       "      <td>1.0</td>\n",
       "      <td>0.0</td>\n",
       "      <td>0.0</td>\n",
       "      <td>1.0</td>\n",
       "      <td>...</td>\n",
       "      <td>0.0</td>\n",
       "      <td>0.0</td>\n",
       "      <td>0.0</td>\n",
       "      <td>1.0</td>\n",
       "      <td>0.0</td>\n",
       "      <td>6.0</td>\n",
       "      <td>4.0</td>\n",
       "      <td>4.0</td>\n",
       "      <td>6.0</td>\n",
       "      <td>6.0</td>\n",
       "    </tr>\n",
       "    <tr>\n",
       "      <th>1</th>\n",
       "      <td>1.481148</td>\n",
       "      <td>4.0</td>\n",
       "      <td>0.0</td>\n",
       "      <td>0.0</td>\n",
       "      <td>0.0</td>\n",
       "      <td>0.0</td>\n",
       "      <td>0.0</td>\n",
       "      <td>1.0</td>\n",
       "      <td>0.0</td>\n",
       "      <td>1.0</td>\n",
       "      <td>...</td>\n",
       "      <td>0.0</td>\n",
       "      <td>0.0</td>\n",
       "      <td>0.0</td>\n",
       "      <td>1.0</td>\n",
       "      <td>0.0</td>\n",
       "      <td>6.0</td>\n",
       "      <td>4.0</td>\n",
       "      <td>4.0</td>\n",
       "      <td>6.0</td>\n",
       "      <td>6.0</td>\n",
       "    </tr>\n",
       "    <tr>\n",
       "      <th>2</th>\n",
       "      <td>-0.168355</td>\n",
       "      <td>4.0</td>\n",
       "      <td>0.0</td>\n",
       "      <td>0.0</td>\n",
       "      <td>0.0</td>\n",
       "      <td>0.0</td>\n",
       "      <td>0.0</td>\n",
       "      <td>1.0</td>\n",
       "      <td>0.0</td>\n",
       "      <td>1.0</td>\n",
       "      <td>...</td>\n",
       "      <td>0.0</td>\n",
       "      <td>0.0</td>\n",
       "      <td>0.0</td>\n",
       "      <td>1.0</td>\n",
       "      <td>0.0</td>\n",
       "      <td>6.0</td>\n",
       "      <td>4.0</td>\n",
       "      <td>4.0</td>\n",
       "      <td>6.0</td>\n",
       "      <td>6.0</td>\n",
       "    </tr>\n",
       "    <tr>\n",
       "      <th>3</th>\n",
       "      <td>0.138632</td>\n",
       "      <td>2.0</td>\n",
       "      <td>0.0</td>\n",
       "      <td>0.0</td>\n",
       "      <td>0.0</td>\n",
       "      <td>0.0</td>\n",
       "      <td>0.0</td>\n",
       "      <td>0.0</td>\n",
       "      <td>0.0</td>\n",
       "      <td>1.0</td>\n",
       "      <td>...</td>\n",
       "      <td>0.0</td>\n",
       "      <td>0.0</td>\n",
       "      <td>0.0</td>\n",
       "      <td>1.0</td>\n",
       "      <td>0.0</td>\n",
       "      <td>6.0</td>\n",
       "      <td>4.0</td>\n",
       "      <td>4.0</td>\n",
       "      <td>6.0</td>\n",
       "      <td>6.0</td>\n",
       "    </tr>\n",
       "    <tr>\n",
       "      <th>4</th>\n",
       "      <td>1.416073</td>\n",
       "      <td>4.0</td>\n",
       "      <td>0.0</td>\n",
       "      <td>0.0</td>\n",
       "      <td>0.0</td>\n",
       "      <td>0.0</td>\n",
       "      <td>0.0</td>\n",
       "      <td>1.0</td>\n",
       "      <td>0.0</td>\n",
       "      <td>1.0</td>\n",
       "      <td>...</td>\n",
       "      <td>0.0</td>\n",
       "      <td>0.0</td>\n",
       "      <td>0.0</td>\n",
       "      <td>1.0</td>\n",
       "      <td>0.0</td>\n",
       "      <td>6.0</td>\n",
       "      <td>4.0</td>\n",
       "      <td>4.0</td>\n",
       "      <td>6.0</td>\n",
       "      <td>6.0</td>\n",
       "    </tr>\n",
       "  </tbody>\n",
       "</table>\n",
       "<p>5 rows × 34 columns</p>\n",
       "</div>"
      ],
      "text/plain": [
       "         0    1    2    3    4    5    6    7    8    9   ...   24   25   26  \\\n",
       "0  1.416073  1.0  0.0  0.0  0.0  0.0  1.0  0.0  0.0  1.0  ...  0.0  0.0  0.0   \n",
       "1  1.481148  4.0  0.0  0.0  0.0  0.0  0.0  1.0  0.0  1.0  ...  0.0  0.0  0.0   \n",
       "2 -0.168355  4.0  0.0  0.0  0.0  0.0  0.0  1.0  0.0  1.0  ...  0.0  0.0  0.0   \n",
       "3  0.138632  2.0  0.0  0.0  0.0  0.0  0.0  0.0  0.0  1.0  ...  0.0  0.0  0.0   \n",
       "4  1.416073  4.0  0.0  0.0  0.0  0.0  0.0  1.0  0.0  1.0  ...  0.0  0.0  0.0   \n",
       "\n",
       "    27   28   29   30   31   32   33  \n",
       "0  1.0  0.0  6.0  4.0  4.0  6.0  6.0  \n",
       "1  1.0  0.0  6.0  4.0  4.0  6.0  6.0  \n",
       "2  1.0  0.0  6.0  4.0  4.0  6.0  6.0  \n",
       "3  1.0  0.0  6.0  4.0  4.0  6.0  6.0  \n",
       "4  1.0  0.0  6.0  4.0  4.0  6.0  6.0  \n",
       "\n",
       "[5 rows x 34 columns]"
      ]
     },
     "execution_count": 86,
     "metadata": {},
     "output_type": "execute_result"
    }
   ],
   "source": [
    "X_Cluster0.head()"
   ]
  },
  {
   "cell_type": "code",
   "execution_count": 87,
   "id": "5dbe5f6c",
   "metadata": {},
   "outputs": [
    {
     "data": {
      "text/plain": [
       "0    0\n",
       "1    0\n",
       "2    0\n",
       "3    0\n",
       "4    0\n",
       "Name: target, dtype: int32"
      ]
     },
     "execution_count": 87,
     "metadata": {},
     "output_type": "execute_result"
    }
   ],
   "source": [
    "Y_Cluster0.head()"
   ]
  },
  {
   "cell_type": "code",
   "execution_count": 88,
   "id": "a14778f7",
   "metadata": {},
   "outputs": [],
   "source": [
    "X_Cluster1  = Cluster1.drop(['cluster', 'target'], axis='columns')\n",
    "\n",
    "Y_Cluster1 = Cluster1['target']"
   ]
  },
  {
   "cell_type": "code",
   "execution_count": 89,
   "id": "25c39e30",
   "metadata": {},
   "outputs": [
    {
     "data": {
      "text/html": [
       "<div>\n",
       "<style scoped>\n",
       "    .dataframe tbody tr th:only-of-type {\n",
       "        vertical-align: middle;\n",
       "    }\n",
       "\n",
       "    .dataframe tbody tr th {\n",
       "        vertical-align: top;\n",
       "    }\n",
       "\n",
       "    .dataframe thead th {\n",
       "        text-align: right;\n",
       "    }\n",
       "</style>\n",
       "<table border=\"1\" class=\"dataframe\">\n",
       "  <thead>\n",
       "    <tr style=\"text-align: right;\">\n",
       "      <th></th>\n",
       "      <th>0</th>\n",
       "      <th>1</th>\n",
       "      <th>2</th>\n",
       "      <th>3</th>\n",
       "      <th>4</th>\n",
       "      <th>5</th>\n",
       "      <th>6</th>\n",
       "      <th>7</th>\n",
       "      <th>8</th>\n",
       "      <th>9</th>\n",
       "      <th>...</th>\n",
       "      <th>24</th>\n",
       "      <th>25</th>\n",
       "      <th>26</th>\n",
       "      <th>27</th>\n",
       "      <th>28</th>\n",
       "      <th>29</th>\n",
       "      <th>30</th>\n",
       "      <th>31</th>\n",
       "      <th>32</th>\n",
       "      <th>33</th>\n",
       "    </tr>\n",
       "  </thead>\n",
       "  <tbody>\n",
       "    <tr>\n",
       "      <th>26101</th>\n",
       "      <td>0.508298</td>\n",
       "      <td>1.0</td>\n",
       "      <td>0.0</td>\n",
       "      <td>0.0</td>\n",
       "      <td>1.0</td>\n",
       "      <td>0.0</td>\n",
       "      <td>0.0</td>\n",
       "      <td>0.0</td>\n",
       "      <td>0.0</td>\n",
       "      <td>1.0</td>\n",
       "      <td>...</td>\n",
       "      <td>0.0</td>\n",
       "      <td>0.0</td>\n",
       "      <td>0.0</td>\n",
       "      <td>1.0</td>\n",
       "      <td>0.0</td>\n",
       "      <td>4.0</td>\n",
       "      <td>1.0</td>\n",
       "      <td>1.0</td>\n",
       "      <td>3.0</td>\n",
       "      <td>5.0</td>\n",
       "    </tr>\n",
       "    <tr>\n",
       "      <th>26102</th>\n",
       "      <td>-1.609385</td>\n",
       "      <td>3.0</td>\n",
       "      <td>3.0</td>\n",
       "      <td>0.0</td>\n",
       "      <td>0.0</td>\n",
       "      <td>0.0</td>\n",
       "      <td>1.0</td>\n",
       "      <td>0.0</td>\n",
       "      <td>0.0</td>\n",
       "      <td>0.0</td>\n",
       "      <td>...</td>\n",
       "      <td>0.0</td>\n",
       "      <td>0.0</td>\n",
       "      <td>0.0</td>\n",
       "      <td>1.0</td>\n",
       "      <td>0.0</td>\n",
       "      <td>2.0</td>\n",
       "      <td>1.0</td>\n",
       "      <td>0.0</td>\n",
       "      <td>1.0</td>\n",
       "      <td>3.0</td>\n",
       "    </tr>\n",
       "    <tr>\n",
       "      <th>26103</th>\n",
       "      <td>-0.062877</td>\n",
       "      <td>5.0</td>\n",
       "      <td>1.0</td>\n",
       "      <td>0.0</td>\n",
       "      <td>0.0</td>\n",
       "      <td>0.0</td>\n",
       "      <td>0.0</td>\n",
       "      <td>0.0</td>\n",
       "      <td>0.0</td>\n",
       "      <td>0.0</td>\n",
       "      <td>...</td>\n",
       "      <td>0.0</td>\n",
       "      <td>0.0</td>\n",
       "      <td>0.0</td>\n",
       "      <td>1.0</td>\n",
       "      <td>0.0</td>\n",
       "      <td>2.0</td>\n",
       "      <td>1.0</td>\n",
       "      <td>0.0</td>\n",
       "      <td>1.0</td>\n",
       "      <td>3.0</td>\n",
       "    </tr>\n",
       "    <tr>\n",
       "      <th>26104</th>\n",
       "      <td>-1.609385</td>\n",
       "      <td>3.0</td>\n",
       "      <td>3.0</td>\n",
       "      <td>0.0</td>\n",
       "      <td>0.0</td>\n",
       "      <td>0.0</td>\n",
       "      <td>1.0</td>\n",
       "      <td>0.0</td>\n",
       "      <td>0.0</td>\n",
       "      <td>0.0</td>\n",
       "      <td>...</td>\n",
       "      <td>0.0</td>\n",
       "      <td>0.0</td>\n",
       "      <td>0.0</td>\n",
       "      <td>1.0</td>\n",
       "      <td>0.0</td>\n",
       "      <td>2.0</td>\n",
       "      <td>1.0</td>\n",
       "      <td>0.0</td>\n",
       "      <td>1.0</td>\n",
       "      <td>3.0</td>\n",
       "    </tr>\n",
       "    <tr>\n",
       "      <th>26105</th>\n",
       "      <td>-1.609385</td>\n",
       "      <td>3.0</td>\n",
       "      <td>3.0</td>\n",
       "      <td>0.0</td>\n",
       "      <td>0.0</td>\n",
       "      <td>0.0</td>\n",
       "      <td>1.0</td>\n",
       "      <td>0.0</td>\n",
       "      <td>0.0</td>\n",
       "      <td>0.0</td>\n",
       "      <td>...</td>\n",
       "      <td>0.0</td>\n",
       "      <td>0.0</td>\n",
       "      <td>0.0</td>\n",
       "      <td>1.0</td>\n",
       "      <td>0.0</td>\n",
       "      <td>2.0</td>\n",
       "      <td>1.0</td>\n",
       "      <td>0.0</td>\n",
       "      <td>1.0</td>\n",
       "      <td>3.0</td>\n",
       "    </tr>\n",
       "  </tbody>\n",
       "</table>\n",
       "<p>5 rows × 34 columns</p>\n",
       "</div>"
      ],
      "text/plain": [
       "             0    1    2    3    4    5    6    7    8    9   ...   24   25  \\\n",
       "26101  0.508298  1.0  0.0  0.0  1.0  0.0  0.0  0.0  0.0  1.0  ...  0.0  0.0   \n",
       "26102 -1.609385  3.0  3.0  0.0  0.0  0.0  1.0  0.0  0.0  0.0  ...  0.0  0.0   \n",
       "26103 -0.062877  5.0  1.0  0.0  0.0  0.0  0.0  0.0  0.0  0.0  ...  0.0  0.0   \n",
       "26104 -1.609385  3.0  3.0  0.0  0.0  0.0  1.0  0.0  0.0  0.0  ...  0.0  0.0   \n",
       "26105 -1.609385  3.0  3.0  0.0  0.0  0.0  1.0  0.0  0.0  0.0  ...  0.0  0.0   \n",
       "\n",
       "        26   27   28   29   30   31   32   33  \n",
       "26101  0.0  1.0  0.0  4.0  1.0  1.0  3.0  5.0  \n",
       "26102  0.0  1.0  0.0  2.0  1.0  0.0  1.0  3.0  \n",
       "26103  0.0  1.0  0.0  2.0  1.0  0.0  1.0  3.0  \n",
       "26104  0.0  1.0  0.0  2.0  1.0  0.0  1.0  3.0  \n",
       "26105  0.0  1.0  0.0  2.0  1.0  0.0  1.0  3.0  \n",
       "\n",
       "[5 rows x 34 columns]"
      ]
     },
     "execution_count": 89,
     "metadata": {},
     "output_type": "execute_result"
    }
   ],
   "source": [
    "X_Cluster1.head()"
   ]
  },
  {
   "cell_type": "code",
   "execution_count": 90,
   "id": "b5cf1ab0",
   "metadata": {},
   "outputs": [
    {
     "data": {
      "text/plain": [
       "26101    1\n",
       "26102    1\n",
       "26103    1\n",
       "26104    0\n",
       "26105    0\n",
       "Name: target, dtype: int32"
      ]
     },
     "execution_count": 90,
     "metadata": {},
     "output_type": "execute_result"
    }
   ],
   "source": [
    "Y_Cluster1.head()"
   ]
  },
  {
   "cell_type": "code",
   "execution_count": 91,
   "id": "76309e69",
   "metadata": {},
   "outputs": [],
   "source": [
    "## Creating Traing and test datafor Cluster 0\n",
    "\n",
    "X0_train, X0_test, Y0_train, Y0_test = train_test_split(X_Cluster0, Y_Cluster0, test_size = .20,random_state=369)"
   ]
  },
  {
   "cell_type": "code",
   "execution_count": 92,
   "id": "c2e99165",
   "metadata": {},
   "outputs": [],
   "source": [
    "## Creating Traing and test data Cluster 1\n",
    "\n",
    "X1_train, X1_test, Y1_train, Y1_test = train_test_split(X_Cluster1, Y_Cluster1, test_size = .20,random_state=369)"
   ]
  },
  {
   "cell_type": "code",
   "execution_count": 93,
   "id": "f7c7a46c",
   "metadata": {},
   "outputs": [],
   "source": [
    "def func(model,x_train, y_train, x_test, y_test, cv = None, params = None, scoring = 'recall'):\n",
    "    \n",
    "    grid = GridSearchCV(estimator=model,\n",
    "                        param_grid= params,\n",
    "                        scoring=scoring)\n",
    "    \n",
    "    grid_result = grid.fit(x_train, y_train)\n",
    "    \n",
    "    LR_Final_c1 = LogisticRegression(**grid_result_c1.best_params_)\n",
    "    \n",
    "    LR_Final_c1.fit(X1_train, Y1_train)\n",
    "    \n",
    "    pred = LR_Final_c1.predict(X1_test)\n",
    "    \n",
    "    print(\"Accuracy = \" , accuracy_score(y_test, pred))\n",
    "    print(\"Precision = \" ,precision_score(y_test, pred))\n",
    "    print(\"Recall = \" ,recall_score(y_test, pred))\n",
    "    print(\"F1 Score = \" ,f1_score(y_test, pred))\n",
    "    \n",
    "    return grid_result.best_params_, grid_result_c1.best_score_, "
   ]
  },
  {
   "cell_type": "markdown",
   "id": "dec5dbaa",
   "metadata": {},
   "source": [
    "#### Model creation"
   ]
  },
  {
   "cell_type": "code",
   "execution_count": 94,
   "id": "ea6f3c8b",
   "metadata": {},
   "outputs": [],
   "source": [
    "import warnings\n",
    "warnings.filterwarnings(\"ignore\")"
   ]
  },
  {
   "cell_type": "code",
   "execution_count": 107,
   "id": "d2f731f2",
   "metadata": {},
   "outputs": [],
   "source": [
    "from sklearn.linear_model import LogisticRegression\n",
    "from sklearn.tree import DecisionTreeClassifier\n",
    "from sklearn.svm import SVC\n",
    "from sklearn.ensemble import RandomForestClassifier\n",
    "from xgboost import XGBClassifier, XGBRFClassifier\n",
    "\n",
    "from sklearn.model_selection import GridSearchCV, RandomizedSearchCV, StratifiedKFold, cross_val_score"
   ]
  },
  {
   "cell_type": "code",
   "execution_count": 17,
   "id": "ed0aff15",
   "metadata": {},
   "outputs": [],
   "source": [
    "lr= LogisticRegression()"
   ]
  },
  {
   "cell_type": "code",
   "execution_count": 28,
   "id": "4a9be224",
   "metadata": {},
   "outputs": [
    {
     "data": {
      "text/plain": [
       "'LogisticRegression()'"
      ]
     },
     "execution_count": 28,
     "metadata": {},
     "output_type": "execute_result"
    }
   ],
   "source": [
    "str(lr)"
   ]
  },
  {
   "cell_type": "markdown",
   "id": "6004192d",
   "metadata": {},
   "source": [
    "### Lets try with multiple ML algorithms with bdefault hyperparameters"
   ]
  },
  {
   "cell_type": "code",
   "execution_count": 96,
   "id": "533ea1b1",
   "metadata": {},
   "outputs": [],
   "source": [
    "## Creating a Stratified K-Fold object for cross validation\n",
    "\n",
    "cv = StratifiedKFold(n_splits=10, shuffle= True, random_state=369)"
   ]
  },
  {
   "cell_type": "code",
   "execution_count": 97,
   "id": "2f3047c5",
   "metadata": {},
   "outputs": [],
   "source": [
    "LR = LogisticRegression()"
   ]
  },
  {
   "cell_type": "code",
   "execution_count": 98,
   "id": "95132cb8",
   "metadata": {},
   "outputs": [
    {
     "data": {
      "text/plain": [
       "array([0.94923372, 0.94971264, 0.95019157, 0.94923372, 0.94971264,\n",
       "       0.94827586, 0.94875479, 0.94875479, 0.9506705 , 0.94923372])"
      ]
     },
     "execution_count": 98,
     "metadata": {},
     "output_type": "execute_result"
    }
   ],
   "source": [
    "## Lets create multiple models using cross_val_score and let's look the accuracy\n",
    "\n",
    "LR_accuacy_score = cross_val_score(LR, X0_train, Y0_train, cv= cv, scoring='accuracy')\n",
    "\n",
    "LR_accuacy_score "
   ]
  },
  {
   "cell_type": "code",
   "execution_count": 99,
   "id": "32684756",
   "metadata": {},
   "outputs": [
    {
     "data": {
      "text/plain": [
       "array([0.00934579, 0.03738318, 0.04672897, 0.02803738, 0.05607477,\n",
       "       0.01869159, 0.02803738, 0.01869159, 0.04672897, 0.02777778])"
      ]
     },
     "execution_count": 99,
     "metadata": {},
     "output_type": "execute_result"
    }
   ],
   "source": [
    "## Since we are dealin with Imbalanced dataset so accuracy is not a good metric\n",
    "## So we can use Recall, Precision, F1-score.\n",
    "## Keeping Recall as scoring parameter (Since we need to less False Negative)\n",
    "\n",
    "LR_recall_score = cross_val_score(LR, X0_train, Y0_train, cv= cv, scoring='recall')\n",
    "\n",
    "LR_recall_score "
   ]
  },
  {
   "cell_type": "code",
   "execution_count": 100,
   "id": "9145995b",
   "metadata": {},
   "outputs": [
    {
     "data": {
      "text/plain": [
       "0.056074766355140186"
      ]
     },
     "execution_count": 100,
     "metadata": {},
     "output_type": "execute_result"
    }
   ],
   "source": [
    "## Lets see the maximum recall we got\n",
    "LR_recall_score.max()"
   ]
  },
  {
   "cell_type": "code",
   "execution_count": 101,
   "id": "35d5188b",
   "metadata": {},
   "outputs": [
    {
     "data": {
      "text/plain": [
       "0.013994657486880318"
      ]
     },
     "execution_count": 101,
     "metadata": {},
     "output_type": "execute_result"
    }
   ],
   "source": [
    "## Looks like very small variance in the score\n",
    "\n",
    "LR_recall_score.std()"
   ]
  },
  {
   "cell_type": "code",
   "execution_count": null,
   "id": "8db51d76",
   "metadata": {},
   "outputs": [],
   "source": []
  },
  {
   "cell_type": "code",
   "execution_count": 102,
   "id": "d2737ef9",
   "metadata": {},
   "outputs": [],
   "source": [
    "RF = RandomForestClassifier()"
   ]
  },
  {
   "cell_type": "code",
   "execution_count": 103,
   "id": "33548865",
   "metadata": {},
   "outputs": [
    {
     "data": {
      "text/plain": [
       "array([0.01869159, 0.03738318, 0.01869159, 0.02803738, 0.04672897,\n",
       "       0.01869159, 0.02803738, 0.01869159, 0.03738318, 0.03703704])"
      ]
     },
     "execution_count": 103,
     "metadata": {},
     "output_type": "execute_result"
    }
   ],
   "source": [
    "RF_recall_score = cross_val_score(RF, X0_train, Y0_train, cv=cv, scoring='recall')\n",
    "\n",
    "RF_recall_score"
   ]
  },
  {
   "cell_type": "code",
   "execution_count": 104,
   "id": "768a962d",
   "metadata": {},
   "outputs": [
    {
     "data": {
      "text/plain": [
       "0.04672897196261682"
      ]
     },
     "execution_count": 104,
     "metadata": {},
     "output_type": "execute_result"
    }
   ],
   "source": [
    "RF_recall_score.max()"
   ]
  },
  {
   "cell_type": "code",
   "execution_count": 105,
   "id": "13c6c321",
   "metadata": {},
   "outputs": [
    {
     "data": {
      "text/plain": [
       "0.009727965465113494"
      ]
     },
     "execution_count": 105,
     "metadata": {},
     "output_type": "execute_result"
    }
   ],
   "source": [
    "RF_recall_score.std()"
   ]
  },
  {
   "cell_type": "code",
   "execution_count": 4,
   "id": "bf4dbb74",
   "metadata": {},
   "outputs": [],
   "source": [
    "XGBoost = XGBClassifier()"
   ]
  },
  {
   "cell_type": "code",
   "execution_count": 107,
   "id": "91c12ecd",
   "metadata": {},
   "outputs": [
    {
     "data": {
      "text/plain": [
       "array([0.01869159, 0.02803738, 0.02803738, 0.02803738, 0.03738318,\n",
       "       0.00934579, 0.02803738, 0.01869159, 0.01869159, 0.02777778])"
      ]
     },
     "execution_count": 107,
     "metadata": {},
     "output_type": "execute_result"
    }
   ],
   "source": [
    "XGB_recall_score = cross_val_score(XGBoost, X0_train, Y0_train, cv=cv, scoring='recall')\n",
    "\n",
    "XGB_recall_score"
   ]
  },
  {
   "cell_type": "code",
   "execution_count": 108,
   "id": "ae2ee865",
   "metadata": {},
   "outputs": [
    {
     "data": {
      "text/plain": [
       "0.037383177570093455"
      ]
     },
     "execution_count": 108,
     "metadata": {},
     "output_type": "execute_result"
    }
   ],
   "source": [
    "XGB_recall_score.max()"
   ]
  },
  {
   "cell_type": "code",
   "execution_count": 109,
   "id": "d02f961b",
   "metadata": {},
   "outputs": [
    {
     "data": {
      "text/plain": [
       "0.007464050285269911"
      ]
     },
     "execution_count": 109,
     "metadata": {},
     "output_type": "execute_result"
    }
   ],
   "source": [
    "XGB_recall_score.std()"
   ]
  },
  {
   "cell_type": "code",
   "execution_count": null,
   "id": "8ff48543",
   "metadata": {},
   "outputs": [],
   "source": []
  },
  {
   "cell_type": "code",
   "execution_count": 110,
   "id": "537fcf86",
   "metadata": {},
   "outputs": [],
   "source": [
    "SVM = SVC()"
   ]
  },
  {
   "cell_type": "code",
   "execution_count": 111,
   "id": "a5e26588",
   "metadata": {},
   "outputs": [
    {
     "data": {
      "text/plain": [
       "array([0., 0., 0., 0., 0., 0., 0., 0., 0., 0.])"
      ]
     },
     "execution_count": 111,
     "metadata": {},
     "output_type": "execute_result"
    }
   ],
   "source": [
    "SVM_recall_score = cross_val_score(SVM, X0_train, Y0_train, cv=cv, scoring='recall')\n",
    "\n",
    "SVM_recall_score"
   ]
  },
  {
   "cell_type": "code",
   "execution_count": 112,
   "id": "3145d027",
   "metadata": {},
   "outputs": [
    {
     "data": {
      "text/plain": [
       "0.0"
      ]
     },
     "execution_count": 112,
     "metadata": {},
     "output_type": "execute_result"
    }
   ],
   "source": [
    "SVM_recall_score.max()"
   ]
  },
  {
   "cell_type": "code",
   "execution_count": 113,
   "id": "15c59402",
   "metadata": {},
   "outputs": [
    {
     "data": {
      "text/plain": [
       "0.0"
      ]
     },
     "execution_count": 113,
     "metadata": {},
     "output_type": "execute_result"
    }
   ],
   "source": [
    "SVM_recall_score.std()"
   ]
  },
  {
   "cell_type": "code",
   "execution_count": null,
   "id": "a255e414",
   "metadata": {},
   "outputs": [],
   "source": []
  },
  {
   "cell_type": "code",
   "execution_count": 114,
   "id": "ec5e595e",
   "metadata": {},
   "outputs": [],
   "source": [
    "DT = DecisionTreeClassifier()"
   ]
  },
  {
   "cell_type": "code",
   "execution_count": 115,
   "id": "d3bac862",
   "metadata": {},
   "outputs": [
    {
     "data": {
      "text/plain": [
       "array([0.09345794, 0.05607477, 0.10280374, 0.08411215, 0.11214953,\n",
       "       0.09345794, 0.08411215, 0.04672897, 0.08411215, 0.12962963])"
      ]
     },
     "execution_count": 115,
     "metadata": {},
     "output_type": "execute_result"
    }
   ],
   "source": [
    "Dt_recall_score = cross_val_score(DT, X0_train, Y0_train, cv=cv, scoring='recall')\n",
    "\n",
    "Dt_recall_score"
   ]
  },
  {
   "cell_type": "code",
   "execution_count": 116,
   "id": "2e4b301b",
   "metadata": {},
   "outputs": [
    {
     "data": {
      "text/plain": [
       "0.12962962962962962"
      ]
     },
     "execution_count": 116,
     "metadata": {},
     "output_type": "execute_result"
    }
   ],
   "source": [
    "Dt_recall_score.max()"
   ]
  },
  {
   "cell_type": "code",
   "execution_count": 117,
   "id": "1b5615b8",
   "metadata": {},
   "outputs": [
    {
     "data": {
      "text/plain": [
       "0.023148243579219893"
      ]
     },
     "execution_count": 117,
     "metadata": {},
     "output_type": "execute_result"
    }
   ],
   "source": [
    "Dt_recall_score.std()"
   ]
  },
  {
   "cell_type": "code",
   "execution_count": null,
   "id": "13ab7304",
   "metadata": {},
   "outputs": [],
   "source": []
  },
  {
   "cell_type": "code",
   "execution_count": 3,
   "id": "b14d45c2",
   "metadata": {},
   "outputs": [],
   "source": [
    "XGB_RF = XGBRFClassifier()"
   ]
  },
  {
   "cell_type": "code",
   "execution_count": 119,
   "id": "caadefb5",
   "metadata": {},
   "outputs": [
    {
     "data": {
      "text/plain": [
       "array([0.01869159, 0.02803738, 0.03738318, 0.02803738, 0.05607477,\n",
       "       0.01869159, 0.02803738, 0.01869159, 0.02803738, 0.02777778])"
      ]
     },
     "execution_count": 119,
     "metadata": {},
     "output_type": "execute_result"
    }
   ],
   "source": [
    "XGB_RF_recall_score = cross_val_score(XGB_RF, X0_train, Y0_train, cv=cv, scoring='recall')\n",
    "\n",
    "XGB_RF_recall_score"
   ]
  },
  {
   "cell_type": "code",
   "execution_count": 120,
   "id": "4af45ba3",
   "metadata": {},
   "outputs": [
    {
     "data": {
      "text/plain": [
       "0.056074766355140186"
      ]
     },
     "execution_count": 120,
     "metadata": {},
     "output_type": "execute_result"
    }
   ],
   "source": [
    "XGB_RF_recall_score.max()"
   ]
  },
  {
   "cell_type": "code",
   "execution_count": 121,
   "id": "d07ae512",
   "metadata": {},
   "outputs": [
    {
     "data": {
      "text/plain": [
       "0.010617353053739965"
      ]
     },
     "execution_count": 121,
     "metadata": {},
     "output_type": "execute_result"
    }
   ],
   "source": [
    "XGB_RF_recall_score.std()"
   ]
  },
  {
   "cell_type": "markdown",
   "id": "147b1bd8",
   "metadata": {},
   "source": [
    "##### Note: All base models not having an acceptable recall value"
   ]
  },
  {
   "cell_type": "markdown",
   "id": "5c2020af",
   "metadata": {},
   "source": [
    "### Hyper-Parameter tuning of Logistic Regressor"
   ]
  },
  {
   "cell_type": "markdown",
   "id": "8e7786fd",
   "metadata": {},
   "source": [
    "### Cluster - 0"
   ]
  },
  {
   "cell_type": "code",
   "execution_count": 122,
   "id": "3067be1e",
   "metadata": {},
   "outputs": [],
   "source": [
    "## Creating a function which can display multiple scores of a model\n",
    "\n",
    "def generate_model_report(y_actual, y_predicted):\n",
    "    print(\"Accuracy = \" , accuracy_score(y_actual, y_predicted))\n",
    "    print(\"Precision = \" ,precision_score(y_actual, y_predicted))\n",
    "    print(\"Recall = \" ,recall_score(y_actual, y_predicted))\n",
    "    print(\"F1 Score = \" ,f1_score(y_actual, y_predicted))"
   ]
  },
  {
   "cell_type": "code",
   "execution_count": 124,
   "id": "e6f41971",
   "metadata": {},
   "outputs": [],
   "source": [
    "## Creating a function which can do GridsearchCV with cross validation \n",
    "## Function will return best_parameter for a given algorithm and multiple score of the best model found\n",
    "\n",
    "def best_param_finder(model,x_train, y_train, x_test, y_test, cv = None, params = None, scoring = 'recall'):\n",
    "    \n",
    "    ## Creating Gridsearch CV object\n",
    "    grid = GridSearchCV(estimator = model,\n",
    "                        param_grid = params,\n",
    "                        scoring = scoring)\n",
    "    \n",
    "    #Fitting n the estimator provided\n",
    "    grid_result = grid.fit(x_train, y_train)\n",
    "    \n",
    "    ## Creating a final model from best_params\n",
    "    Final_model = LogisticRegression(**grid_result.best_params_)\n",
    "    \n",
    "    # Fitting the data on final model\n",
    "    Final_model.fit(x_train, y_train)\n",
    "    \n",
    "    # Predictions are made on test data\n",
    "    pred = Final_model.predict(x_test)\n",
    "    \n",
    "    # printing the following matrices of final model\n",
    "    print(\"Accuracy of best model = \" , accuracy_score(y_test, pred))\n",
    "    print(\"Precision of best model = \" ,precision_score(y_test, pred))\n",
    "    print(\"Recall of best model = \" ,recall_score(y_test, pred))\n",
    "    print(\"F1 Score of best model = \" ,f1_score(y_test, pred))\n",
    "    \n",
    "    return grid_result.best_params_\n"
   ]
  },
  {
   "cell_type": "markdown",
   "id": "b75ca4e4",
   "metadata": {},
   "source": [
    "#### Logistic Regression"
   ]
  },
  {
   "cell_type": "code",
   "execution_count": 125,
   "id": "02734f30",
   "metadata": {},
   "outputs": [],
   "source": [
    "## Creating a Stratified K-Fold object for cross validation\n",
    "\n",
    "cv = StratifiedKFold(n_splits=5, shuffle= True, random_state=369)"
   ]
  },
  {
   "cell_type": "code",
   "execution_count": 126,
   "id": "6d77298e",
   "metadata": {},
   "outputs": [],
   "source": [
    "## Creating multiple weights to handle Imbalance of data\n",
    "\n",
    "weights  = np.linspace(0.05, 0.95, 3)"
   ]
  },
  {
   "cell_type": "code",
   "execution_count": 127,
   "id": "516f8b4f",
   "metadata": {},
   "outputs": [],
   "source": [
    "## Logistic regressor hyperparameter\n",
    "\n",
    "params = {'penalty': ['l2', 'elasticnet'],\n",
    "          'C' : np.linspace(1.00, 2.99, 3),   \n",
    "          'class_weight': [{0: x, 1:1.0 - x} for x in weights]} "
   ]
  },
  {
   "cell_type": "code",
   "execution_count": 128,
   "id": "241b325d",
   "metadata": {},
   "outputs": [
    {
     "name": "stdout",
     "output_type": "stream",
     "text": [
      "Accuracy of best model =  0.5259528825895422\n",
      "Precision of best model =  0.06203081785855393\n",
      "Recall of best model =  0.6085271317829457\n",
      "F1 Score of best model =  0.11258515596988168\n"
     ]
    }
   ],
   "source": [
    "## lets try to find best params\n",
    "\n",
    "LR = LogisticRegression()\n",
    "\n",
    "result = best_param_finder(LR, X0_train, Y0_train, X0_test, Y0_test, cv=cv, params=params, scoring='recall')"
   ]
  },
  {
   "cell_type": "code",
   "execution_count": 136,
   "id": "d3872448",
   "metadata": {},
   "outputs": [
    {
     "name": "stdout",
     "output_type": "stream",
     "text": [
      "Accuracy =  0.5259528825895422\n",
      "Precision =  0.06203081785855393\n",
      "Recall =  0.6085271317829457\n",
      "F1 Score =  0.11258515596988168\n"
     ]
    }
   ],
   "source": [
    "## Lets create the final model from best_params founded\n",
    "\n",
    "LR_Final_0 = LogisticRegression(**result)\n",
    "\n",
    "LR_Final_0.fit(X0_train, Y0_train)\n",
    "\n",
    "pred = LR_Final_0.predict(X0_test)\n",
    "\n",
    "generate_model_report(Y0_test, pred)"
   ]
  },
  {
   "cell_type": "code",
   "execution_count": 137,
   "id": "6e92eaca",
   "metadata": {},
   "outputs": [
    {
     "data": {
      "text/plain": [
       "<AxesSubplot:>"
      ]
     },
     "execution_count": 137,
     "metadata": {},
     "output_type": "execute_result"
    },
    {
     "data": {
      "image/png": "[encoded data removed]",
      "text/plain": [
       "<Figure size 640x480 with 2 Axes>"
      ]
     },
     "metadata": {},
     "output_type": "display_data"
    }
   ],
   "source": [
    "sns.heatmap(confusion_matrix(Y0_test,pred), annot=True, fmt='.100g')"
   ]
  },
  {
   "cell_type": "markdown",
   "id": "0a95d7e1",
   "metadata": {},
   "source": [
    "### Precision- Recall Curve (Cluster 0)"
   ]
  },
  {
   "cell_type": "code",
   "execution_count": 138,
   "id": "e729b666",
   "metadata": {},
   "outputs": [
    {
     "data": {
      "text/plain": [
       "0    4963\n",
       "1     258\n",
       "Name: target, dtype: int64"
      ]
     },
     "execution_count": 138,
     "metadata": {},
     "output_type": "execute_result"
    }
   ],
   "source": [
    "Y0_test.value_counts()"
   ]
  },
  {
   "cell_type": "code",
   "execution_count": 139,
   "id": "88171342",
   "metadata": {},
   "outputs": [
    {
     "data": {
      "text/plain": [
       "0.13"
      ]
     },
     "execution_count": 139,
     "metadata": {},
     "output_type": "execute_result"
    }
   ],
   "source": [
    "np.round(656/len(Y0_test), 2)"
   ]
  },
  {
   "cell_type": "code",
   "execution_count": 141,
   "id": "a86762d6",
   "metadata": {},
   "outputs": [
    {
     "data": {
      "text/plain": [
       "<matplotlib.legend.Legend at 0x1e2a32caec8>"
      ]
     },
     "execution_count": 141,
     "metadata": {},
     "output_type": "execute_result"
    },
    {
     "data": {
      "image/png": "[encoded data removed]",
      "text/plain": [
       "<Figure size 640x480 with 1 Axes>"
      ]
     },
     "metadata": {},
     "output_type": "display_data"
    }
   ],
   "source": [
    "plot_precision_recall_curve(LR_Final_0,X0_test, Y0_test, c='r')\n",
    "plt.plot([0,1], [0.13,0.13], c='k')  ## Showing base line classifier, model below this is worse\n",
    "plt.legend(loc='best')"
   ]
  },
  {
   "cell_type": "markdown",
   "id": "f24f1ad0",
   "metadata": {},
   "source": [
    "### Cluster - 1"
   ]
  },
  {
   "cell_type": "markdown",
   "id": "043b69ec",
   "metadata": {},
   "source": [
    "#### Logistic Regression"
   ]
  },
  {
   "cell_type": "code",
   "execution_count": 142,
   "id": "f6df08a3",
   "metadata": {},
   "outputs": [],
   "source": [
    "## Creating a Stratified K-Fold object for cross validation\n",
    "\n",
    "cv = StratifiedKFold(n_splits=5, shuffle= True, random_state=369)     "
   ]
  },
  {
   "cell_type": "code",
   "execution_count": 143,
   "id": "36bd5c9a",
   "metadata": {},
   "outputs": [],
   "source": [
    "## Creating multiple weights to handle Imbalance of data\n",
    "\n",
    "weights  = np.linspace(0.05, 0.95, 10)"
   ]
  },
  {
   "cell_type": "code",
   "execution_count": 144,
   "id": "e1d69f12",
   "metadata": {},
   "outputs": [],
   "source": [
    "## Logistic regressor hyperparameter\n",
    "\n",
    "params = {'penalty': ['l2', 'elasticnet'],\n",
    "          'C' : np.linspace(1.00, 2.99, 10),   \n",
    "          'class_weight': [{0: x, 1:1.0 - x} for x in weights]} "
   ]
  },
  {
   "cell_type": "code",
   "execution_count": 145,
   "id": "4294c0fd",
   "metadata": {},
   "outputs": [
    {
     "name": "stdout",
     "output_type": "stream",
     "text": [
      "Accuracy of best model =  0.28325688073394495\n",
      "Precision of best model =  0.25842251288149026\n",
      "Recall of best model =  0.9939024390243902\n",
      "F1 Score of best model =  0.41019188424032704\n"
     ]
    }
   ],
   "source": [
    "LR = LogisticRegression()\n",
    "\n",
    "result = best_param_finder(LR, X1_train, Y1_train, X1_test, Y1_test, cv=cv, params=params, scoring='recall')"
   ]
  },
  {
   "cell_type": "code",
   "execution_count": 146,
   "id": "b48be12c",
   "metadata": {},
   "outputs": [],
   "source": [
    "LR_Final_1 = LogisticRegression(**result)"
   ]
  },
  {
   "cell_type": "code",
   "execution_count": 147,
   "id": "8c46509b",
   "metadata": {},
   "outputs": [
    {
     "data": {
      "text/plain": [
       "LogisticRegression(class_weight={0: 0.05, 1: 0.95})"
      ]
     },
     "execution_count": 147,
     "metadata": {},
     "output_type": "execute_result"
    }
   ],
   "source": [
    "LR_Final_1.fit(X1_train, Y1_train)"
   ]
  },
  {
   "cell_type": "code",
   "execution_count": 148,
   "id": "47b31c6a",
   "metadata": {},
   "outputs": [],
   "source": [
    "pred = LR_Final_1.predict(X1_test)"
   ]
  },
  {
   "cell_type": "code",
   "execution_count": 149,
   "id": "0a8ac0b7",
   "metadata": {},
   "outputs": [
    {
     "name": "stdout",
     "output_type": "stream",
     "text": [
      "Accuracy =  0.28325688073394495\n",
      "Precision =  0.25842251288149026\n",
      "Recall =  0.9939024390243902\n",
      "F1 Score =  0.41019188424032704\n"
     ]
    }
   ],
   "source": [
    "generate_model_report(Y1_test, pred)"
   ]
  },
  {
   "cell_type": "code",
   "execution_count": 150,
   "id": "69e6f9b4",
   "metadata": {},
   "outputs": [
    {
     "data": {
      "text/plain": [
       "<AxesSubplot:>"
      ]
     },
     "execution_count": 150,
     "metadata": {},
     "output_type": "execute_result"
    },
    {
     "data": {
      "image/png": "[encoded data removed]",
      "text/plain": [
       "<Figure size 640x480 with 2 Axes>"
      ]
     },
     "metadata": {},
     "output_type": "display_data"
    }
   ],
   "source": [
    "sns.heatmap(confusion_matrix(Y1_test,pred), annot=True, fmt='.100g')"
   ]
  },
  {
   "cell_type": "markdown",
   "id": "9aef1655",
   "metadata": {},
   "source": [
    "### Precision- Recall Curve (Cluster 1)"
   ]
  },
  {
   "cell_type": "code",
   "execution_count": 151,
   "id": "9f16426c",
   "metadata": {},
   "outputs": [
    {
     "data": {
      "text/plain": [
       "0    1960\n",
       "1     656\n",
       "Name: target, dtype: int64"
      ]
     },
     "execution_count": 151,
     "metadata": {},
     "output_type": "execute_result"
    }
   ],
   "source": [
    "Y1_test.value_counts()"
   ]
  },
  {
   "cell_type": "code",
   "execution_count": 152,
   "id": "cebf8c19",
   "metadata": {},
   "outputs": [
    {
     "data": {
      "text/plain": [
       "0.1"
      ]
     },
     "execution_count": 152,
     "metadata": {},
     "output_type": "execute_result"
    }
   ],
   "source": [
    "np.round(258/len(Y1_test), 2)"
   ]
  },
  {
   "cell_type": "code",
   "execution_count": 153,
   "id": "81ddad3b",
   "metadata": {},
   "outputs": [
    {
     "data": {
      "text/plain": [
       "<matplotlib.legend.Legend at 0x1e289c61808>"
      ]
     },
     "execution_count": 153,
     "metadata": {},
     "output_type": "execute_result"
    },
    {
     "data": {
      "image/png": "[encoded data removed]",
      "text/plain": [
       "<Figure size 640x480 with 1 Axes>"
      ]
     },
     "metadata": {},
     "output_type": "display_data"
    }
   ],
   "source": [
    "plot_precision_recall_curve(LR_Final_1,X1_test, Y1_test, c='r')\n",
    "plt.plot([0,1], [0.05,0.05], c='k')  ## Showing base line classifier, model below this is worse\n",
    "plt.legend(loc='best')"
   ]
  },
  {
   "cell_type": "code",
   "execution_count": null,
   "id": "e078b171",
   "metadata": {},
   "outputs": [],
   "source": []
  }
 ],
 "metadata": {
  "kernelspec": {
   "display_name": "Python 3 (ipykernel)",
   "language": "python",
   "name": "python3"
  },
  "language_info": {
   "codemirror_mode": {
    "name": "ipython",
    "version": 3
   },
   "file_extension": ".py",
   "mimetype": "text/x-python",
   "name": "python",
   "nbconvert_exporter": "python",
   "pygments_lexer": "ipython3",
   "version": "3.7.13"
  }
 },
 "nbformat": 4,
 "nbformat_minor": 5
}
